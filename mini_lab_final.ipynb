{
 "cells": [
  {
   "cell_type": "markdown",
   "metadata": {},
   "source": [
    "# Datamining 7331 Minilab: Analysis of Airbnb data using Logistic Regression and SVM\n",
    "\n",
    "By: William Arnost, Stephen Johnson, Sean Kennedy, Tazeb Abera\n",
    "\n",
    "## Introduction\n",
    "\n",
    "In this notebook we will be predicting the room type feature from the Airbnb data set using Logistic Regression and Support Vector Machines. Room type can take 3 values: 'Private room', 'Entire home/apt', and 'Shared room'. Room type by itself might not be a useful thing to predict, but we are hoping this can teach us something about our data for a future price prediction exercise. We will compare accuracy between the two algorithms, as well as look at hyperparameter tuning for each one. Then we discuss which model was more useful and look at the interpretation of the features. \n",
    "\n",
    "---\n",
    "## Contents\n",
    "\n",
    "* <a href=\"#DataPreperation\">Data Preperation</a>\n",
    "* <a href=\"#CreateModels\">Create Models</a>\n",
    "* <a href=\"#ModelAdvantages\">Model Advantages</a>\n",
    "* <a href=\"#InterpretFeatureImportance\">Interpret Feature Importance</a>\n",
    "* <a href=\"#InterpretSupportVectors\">Interpret Support Vectors</a>\n",
    "* <a href=\"#Conclusion\">Conclusion</a>\n",
    "\n",
    "\n",
    "\n",
    "---\n",
    "<a id=\"Loading\"></a>\n",
    "<a href=\"#top\">Back to Top</a>"
   ]
  },
  {
   "cell_type": "markdown",
   "metadata": {},
   "source": [
    "<a id=\"DataPreperation\"></a>\n",
    "# Data Preperation"
   ]
  },
  {
   "cell_type": "markdown",
   "metadata": {},
   "source": [
    "This section is where we load and prepare our data. This was not part of the grading rubric so we do not present any modeling or analysis here."
   ]
  },
  {
   "cell_type": "markdown",
   "metadata": {},
   "source": [
    "### Package Loading"
   ]
  },
  {
   "cell_type": "code",
   "execution_count": 1,
   "metadata": {},
   "outputs": [],
   "source": [
    "import pandas as pd\n",
    "import numpy as np\n",
    "import matplotlib.pyplot as plt\n",
    "import datetime as dt\n",
    "import seaborn as sns\n",
    "#sns.set(style=\"ticks\", color_codes=True)\n",
    "# sklearn stuff\n",
    "from sklearn.naive_bayes import GaussianNB\n",
    "from sklearn.linear_model import LogisticRegression, LinearRegression, SGDClassifier\n",
    "from sklearn.ensemble import RandomForestClassifier\n",
    "from sklearn.model_selection import train_test_split, GridSearchCV\n",
    "from sklearn.preprocessing import StandardScaler, OneHotEncoder\n",
    "from sklearn.metrics import accuracy_score, confusion_matrix, roc_curve, roc_auc_score\n",
    "from sklearn.decomposition import PCA\n",
    "from sklearn.pipeline import Pipeline\n",
    "\n",
    "#yellobrick stuff\n",
    "from yellowbrick.classifier import ConfusionMatrix, DiscriminationThreshold, PrecisionRecallCurve, ClassificationReport, ClassPredictionError, ROCAUC\n",
    "from yellowbrick.target import ClassBalance\n",
    "import warnings\n",
    "warnings.simplefilter(action='ignore', category=FutureWarning)"
   ]
  },
  {
   "cell_type": "markdown",
   "metadata": {},
   "source": [
    "### Define Functions for model analysis"
   ]
  },
  {
   "cell_type": "code",
   "execution_count": 66,
   "metadata": {},
   "outputs": [],
   "source": [
    "def analyze_classifier(model,\n",
    "                       X_train,\n",
    "                       X_test,\n",
    "                       y_train,\n",
    "                       y_test,\n",
    "                       response='Response',\n",
    "                       classes=[0, 1]):\n",
    "    matrix = ConfusionMatrix(model, classes=classes)\n",
    "    matrix.fit(X_train, y_train[response])\n",
    "    matrix.score(X_test, y_test[response])\n",
    "    matrix.show()\n",
    "    class_report = ClassificationReport(model, classes=classes, support=True)\n",
    "    class_report.fit(X_train, y_train[response])\n",
    "    class_report.score(X_test, y_test[response])\n",
    "    class_report.show()\n",
    "    roc_auc = ROCAUC(model, classes=classes)\n",
    "    roc_auc.fit(X_train, y_train[response])\n",
    "    roc_auc.score(X_test, y_test[response])\n",
    "    roc_auc.show()\n",
    "    recall = PrecisionRecallCurve(model)\n",
    "    recall.fit(X_train, y_train)\n",
    "    recall.score(X_test, y_test)\n",
    "    recall.show()\n",
    "    if len(classes) == 2:\n",
    "        disc_thresh = DiscriminationThreshold(model)\n",
    "        disc_thresh.fit(X_train, y_train.values.ravel())\n",
    "        disc_thresh.show()\n",
    "        return disc_thresh.thresholds_, disc_thresh.cv_scores_\n",
    "    else:\n",
    "        return None, None\n",
    "\n",
    "\n",
    "def sklearn_vif(exogs, data):\n",
    "\n",
    "    # initialize dictionaries\n",
    "    vif_dict, tolerance_dict = {}, {}\n",
    "\n",
    "    # form input data for each exogenous variable\n",
    "    for exog in exogs:\n",
    "        #print(exog)\n",
    "        not_exog = [i for i in exogs if i != exog]\n",
    "        #print(not_exog)\n",
    "        X, y = data[not_exog], data[exog]\n",
    "\n",
    "        # extract r-squared from the fit\n",
    "        r_squared = LinearRegression().fit(X, y).score(X, y)\n",
    "\n",
    "        # calculate VIF\n",
    "        vif = 1 / (1 - r_squared)\n",
    "        vif_dict[exog] = vif\n",
    "\n",
    "        # calculate tolerance\n",
    "        tolerance = 1 - r_squared\n",
    "        tolerance_dict[exog] = tolerance\n",
    "\n",
    "    # return VIF DataFrame\n",
    "    df_vif = pd.DataFrame({'VIF': vif_dict, 'Tolerance': tolerance_dict})\n",
    "\n",
    "    return df_vif\n",
    "\n",
    "\n",
    "def compute_new_conf_matrix(predictions, probabilities, cutoff, y_test):\n",
    "    #create a df of predictions and probabilities\n",
    "    predictions = pd.DataFrame(list(predictions), columns=['Predict'])\n",
    "    predicted_probs = pd.concat([\n",
    "        pd.DataFrame(list(probabilities), columns=['ProbFalse', 'ProbTrue']),\n",
    "        predictions\n",
    "    ],\n",
    "                                axis=1)\n",
    "    #make array of values where val > cutoff\n",
    "    predicted_probs['NewPredict'] = predicted_probs['ProbTrue'].apply(\n",
    "        lambda x: 1 if x >= cutoff else 0)\n",
    "    matrix = pd.DataFrame(confusion_matrix(y_test, predicted_probs.NewPredict))\n",
    "    matrix.rename(columns={\n",
    "        0: 'No_Predicted',\n",
    "        1: 'Yes_Predicted'\n",
    "    },\n",
    "                  index={\n",
    "                      0: 'No_True',\n",
    "                      1: 'Yes_True'\n",
    "                  },\n",
    "                  inplace=True)\n",
    "    return round(accuracy_score(y_test, predicted_probs.NewPredict),\n",
    "                 5), matrix, predicted_probs"
   ]
  },
  {
   "cell_type": "markdown",
   "metadata": {},
   "source": [
    "### Read in the data"
   ]
  },
  {
   "cell_type": "code",
   "execution_count": 54,
   "metadata": {},
   "outputs": [
    {
     "name": "stdout",
     "output_type": "stream",
     "text": [
      "{'id': 48895, 'name': 47897, 'host_id': 37457, 'host_name': 11453, 'neighbourhood_group': 5, 'neighbourhood': 221, 'latitude': 19048, 'longitude': 14718, 'room_type': 3, 'price': 674, 'minimum_nights': 109, 'number_of_reviews': 394, 'last_review': 1765, 'reviews_per_month': 938, 'calculated_host_listings_count': 47, 'availability_365': 366, 'ZIP': 199, 'dist_subway': 46157, 'cnt_all': 133, 'cnt_entire_home': 95, 'cnt_private_room': 74, 'cnt_shared_room': 14, 'avgprice_all': 1912, 'avgprice_entire_home': 1409, 'avgprice_private_room': 1309, 'avgprice_shared_room': 219}\n"
     ]
    },
    {
     "data": {
      "text/html": [
       "<div>\n",
       "<style scoped>\n",
       "    .dataframe tbody tr th:only-of-type {\n",
       "        vertical-align: middle;\n",
       "    }\n",
       "\n",
       "    .dataframe tbody tr th {\n",
       "        vertical-align: top;\n",
       "    }\n",
       "\n",
       "    .dataframe thead th {\n",
       "        text-align: right;\n",
       "    }\n",
       "</style>\n",
       "<table border=\"1\" class=\"dataframe\">\n",
       "  <thead>\n",
       "    <tr style=\"text-align: right;\">\n",
       "      <th></th>\n",
       "      <th>id</th>\n",
       "      <th>host_id</th>\n",
       "      <th>latitude</th>\n",
       "      <th>longitude</th>\n",
       "      <th>price</th>\n",
       "      <th>minimum_nights</th>\n",
       "      <th>number_of_reviews</th>\n",
       "      <th>reviews_per_month</th>\n",
       "      <th>calculated_host_listings_count</th>\n",
       "      <th>availability_365</th>\n",
       "      <th>ZIP</th>\n",
       "      <th>dist_subway</th>\n",
       "      <th>cnt_all</th>\n",
       "      <th>cnt_entire_home</th>\n",
       "      <th>cnt_private_room</th>\n",
       "      <th>cnt_shared_room</th>\n",
       "      <th>avgprice_all</th>\n",
       "      <th>avgprice_entire_home</th>\n",
       "      <th>avgprice_private_room</th>\n",
       "      <th>avgprice_shared_room</th>\n",
       "    </tr>\n",
       "  </thead>\n",
       "  <tbody>\n",
       "    <tr>\n",
       "      <th>count</th>\n",
       "      <td>4.889500e+04</td>\n",
       "      <td>4.889500e+04</td>\n",
       "      <td>48895.000000</td>\n",
       "      <td>48895.000000</td>\n",
       "      <td>48895.000000</td>\n",
       "      <td>48895.000000</td>\n",
       "      <td>48895.000000</td>\n",
       "      <td>38843.000000</td>\n",
       "      <td>48895.000000</td>\n",
       "      <td>48895.000000</td>\n",
       "      <td>48871.000000</td>\n",
       "      <td>48895.000000</td>\n",
       "      <td>48895.000000</td>\n",
       "      <td>48895.000000</td>\n",
       "      <td>48895.000000</td>\n",
       "      <td>48895.000000</td>\n",
       "      <td>48895.000000</td>\n",
       "      <td>48895.000000</td>\n",
       "      <td>48895.000000</td>\n",
       "      <td>48895.000000</td>\n",
       "    </tr>\n",
       "    <tr>\n",
       "      <th>mean</th>\n",
       "      <td>1.901714e+07</td>\n",
       "      <td>6.762001e+07</td>\n",
       "      <td>40.728949</td>\n",
       "      <td>-73.952170</td>\n",
       "      <td>152.720687</td>\n",
       "      <td>7.029962</td>\n",
       "      <td>23.274466</td>\n",
       "      <td>1.373221</td>\n",
       "      <td>7.143982</td>\n",
       "      <td>112.781327</td>\n",
       "      <td>10675.111211</td>\n",
       "      <td>0.245997</td>\n",
       "      <td>52.815768</td>\n",
       "      <td>29.719726</td>\n",
       "      <td>22.013396</td>\n",
       "      <td>1.082646</td>\n",
       "      <td>152.703409</td>\n",
       "      <td>191.493067</td>\n",
       "      <td>98.024409</td>\n",
       "      <td>40.581520</td>\n",
       "    </tr>\n",
       "    <tr>\n",
       "      <th>std</th>\n",
       "      <td>1.098311e+07</td>\n",
       "      <td>7.861097e+07</td>\n",
       "      <td>0.054530</td>\n",
       "      <td>0.046157</td>\n",
       "      <td>240.154170</td>\n",
       "      <td>20.510550</td>\n",
       "      <td>44.550582</td>\n",
       "      <td>1.680442</td>\n",
       "      <td>32.952519</td>\n",
       "      <td>131.622289</td>\n",
       "      <td>599.591915</td>\n",
       "      <td>0.346640</td>\n",
       "      <td>43.303548</td>\n",
       "      <td>29.254144</td>\n",
       "      <td>18.668278</td>\n",
       "      <td>2.615105</td>\n",
       "      <td>90.678742</td>\n",
       "      <td>114.468382</td>\n",
       "      <td>73.981026</td>\n",
       "      <td>93.479089</td>\n",
       "    </tr>\n",
       "    <tr>\n",
       "      <th>min</th>\n",
       "      <td>2.539000e+03</td>\n",
       "      <td>2.438000e+03</td>\n",
       "      <td>40.499790</td>\n",
       "      <td>-74.244420</td>\n",
       "      <td>0.000000</td>\n",
       "      <td>1.000000</td>\n",
       "      <td>0.000000</td>\n",
       "      <td>0.010000</td>\n",
       "      <td>1.000000</td>\n",
       "      <td>0.000000</td>\n",
       "      <td>10001.000000</td>\n",
       "      <td>0.000553</td>\n",
       "      <td>0.000000</td>\n",
       "      <td>0.000000</td>\n",
       "      <td>0.000000</td>\n",
       "      <td>0.000000</td>\n",
       "      <td>0.000000</td>\n",
       "      <td>0.000000</td>\n",
       "      <td>0.000000</td>\n",
       "      <td>0.000000</td>\n",
       "    </tr>\n",
       "    <tr>\n",
       "      <th>25%</th>\n",
       "      <td>9.471945e+06</td>\n",
       "      <td>7.822033e+06</td>\n",
       "      <td>40.690100</td>\n",
       "      <td>-73.983070</td>\n",
       "      <td>69.000000</td>\n",
       "      <td>1.000000</td>\n",
       "      <td>1.000000</td>\n",
       "      <td>0.190000</td>\n",
       "      <td>1.000000</td>\n",
       "      <td>0.000000</td>\n",
       "      <td>10024.000000</td>\n",
       "      <td>0.103457</td>\n",
       "      <td>20.000000</td>\n",
       "      <td>8.000000</td>\n",
       "      <td>7.000000</td>\n",
       "      <td>0.000000</td>\n",
       "      <td>94.812500</td>\n",
       "      <td>137.250000</td>\n",
       "      <td>64.500000</td>\n",
       "      <td>0.000000</td>\n",
       "    </tr>\n",
       "    <tr>\n",
       "      <th>50%</th>\n",
       "      <td>1.967728e+07</td>\n",
       "      <td>3.079382e+07</td>\n",
       "      <td>40.723070</td>\n",
       "      <td>-73.955680</td>\n",
       "      <td>106.000000</td>\n",
       "      <td>3.000000</td>\n",
       "      <td>5.000000</td>\n",
       "      <td>0.720000</td>\n",
       "      <td>1.000000</td>\n",
       "      <td>45.000000</td>\n",
       "      <td>11104.000000</td>\n",
       "      <td>0.173022</td>\n",
       "      <td>43.000000</td>\n",
       "      <td>20.000000</td>\n",
       "      <td>17.000000</td>\n",
       "      <td>0.000000</td>\n",
       "      <td>135.208333</td>\n",
       "      <td>180.850000</td>\n",
       "      <td>83.666667</td>\n",
       "      <td>0.000000</td>\n",
       "    </tr>\n",
       "    <tr>\n",
       "      <th>75%</th>\n",
       "      <td>2.915218e+07</td>\n",
       "      <td>1.074344e+08</td>\n",
       "      <td>40.763115</td>\n",
       "      <td>-73.936275</td>\n",
       "      <td>175.000000</td>\n",
       "      <td>5.000000</td>\n",
       "      <td>24.000000</td>\n",
       "      <td>2.020000</td>\n",
       "      <td>2.000000</td>\n",
       "      <td>227.000000</td>\n",
       "      <td>11221.000000</td>\n",
       "      <td>0.269066</td>\n",
       "      <td>73.000000</td>\n",
       "      <td>42.000000</td>\n",
       "      <td>33.000000</td>\n",
       "      <td>1.000000</td>\n",
       "      <td>189.000000</td>\n",
       "      <td>231.264463</td>\n",
       "      <td>111.500000</td>\n",
       "      <td>60.000000</td>\n",
       "    </tr>\n",
       "    <tr>\n",
       "      <th>max</th>\n",
       "      <td>3.648724e+07</td>\n",
       "      <td>2.743213e+08</td>\n",
       "      <td>40.913060</td>\n",
       "      <td>-73.712990</td>\n",
       "      <td>10000.000000</td>\n",
       "      <td>1250.000000</td>\n",
       "      <td>629.000000</td>\n",
       "      <td>58.500000</td>\n",
       "      <td>327.000000</td>\n",
       "      <td>365.000000</td>\n",
       "      <td>11697.000000</td>\n",
       "      <td>4.931115</td>\n",
       "      <td>230.000000</td>\n",
       "      <td>142.000000</td>\n",
       "      <td>91.000000</td>\n",
       "      <td>26.000000</td>\n",
       "      <td>5000.000000</td>\n",
       "      <td>5000.000000</td>\n",
       "      <td>3000.000000</td>\n",
       "      <td>1800.000000</td>\n",
       "    </tr>\n",
       "  </tbody>\n",
       "</table>\n",
       "</div>"
      ],
      "text/plain": [
       "                 id       host_id      latitude     longitude         price  \\\n",
       "count  4.889500e+04  4.889500e+04  48895.000000  48895.000000  48895.000000   \n",
       "mean   1.901714e+07  6.762001e+07     40.728949    -73.952170    152.720687   \n",
       "std    1.098311e+07  7.861097e+07      0.054530      0.046157    240.154170   \n",
       "min    2.539000e+03  2.438000e+03     40.499790    -74.244420      0.000000   \n",
       "25%    9.471945e+06  7.822033e+06     40.690100    -73.983070     69.000000   \n",
       "50%    1.967728e+07  3.079382e+07     40.723070    -73.955680    106.000000   \n",
       "75%    2.915218e+07  1.074344e+08     40.763115    -73.936275    175.000000   \n",
       "max    3.648724e+07  2.743213e+08     40.913060    -73.712990  10000.000000   \n",
       "\n",
       "       minimum_nights  number_of_reviews  reviews_per_month  \\\n",
       "count    48895.000000       48895.000000       38843.000000   \n",
       "mean         7.029962          23.274466           1.373221   \n",
       "std         20.510550          44.550582           1.680442   \n",
       "min          1.000000           0.000000           0.010000   \n",
       "25%          1.000000           1.000000           0.190000   \n",
       "50%          3.000000           5.000000           0.720000   \n",
       "75%          5.000000          24.000000           2.020000   \n",
       "max       1250.000000         629.000000          58.500000   \n",
       "\n",
       "       calculated_host_listings_count  availability_365           ZIP  \\\n",
       "count                    48895.000000      48895.000000  48871.000000   \n",
       "mean                         7.143982        112.781327  10675.111211   \n",
       "std                         32.952519        131.622289    599.591915   \n",
       "min                          1.000000          0.000000  10001.000000   \n",
       "25%                          1.000000          0.000000  10024.000000   \n",
       "50%                          1.000000         45.000000  11104.000000   \n",
       "75%                          2.000000        227.000000  11221.000000   \n",
       "max                        327.000000        365.000000  11697.000000   \n",
       "\n",
       "        dist_subway       cnt_all  cnt_entire_home  cnt_private_room  \\\n",
       "count  48895.000000  48895.000000     48895.000000      48895.000000   \n",
       "mean       0.245997     52.815768        29.719726         22.013396   \n",
       "std        0.346640     43.303548        29.254144         18.668278   \n",
       "min        0.000553      0.000000         0.000000          0.000000   \n",
       "25%        0.103457     20.000000         8.000000          7.000000   \n",
       "50%        0.173022     43.000000        20.000000         17.000000   \n",
       "75%        0.269066     73.000000        42.000000         33.000000   \n",
       "max        4.931115    230.000000       142.000000         91.000000   \n",
       "\n",
       "       cnt_shared_room  avgprice_all  avgprice_entire_home  \\\n",
       "count     48895.000000  48895.000000          48895.000000   \n",
       "mean          1.082646    152.703409            191.493067   \n",
       "std           2.615105     90.678742            114.468382   \n",
       "min           0.000000      0.000000              0.000000   \n",
       "25%           0.000000     94.812500            137.250000   \n",
       "50%           0.000000    135.208333            180.850000   \n",
       "75%           1.000000    189.000000            231.264463   \n",
       "max          26.000000   5000.000000           5000.000000   \n",
       "\n",
       "       avgprice_private_room  avgprice_shared_room  \n",
       "count           48895.000000          48895.000000  \n",
       "mean               98.024409             40.581520  \n",
       "std                73.981026             93.479089  \n",
       "min                 0.000000              0.000000  \n",
       "25%                64.500000              0.000000  \n",
       "50%                83.666667              0.000000  \n",
       "75%               111.500000             60.000000  \n",
       "max              3000.000000           1800.000000  "
      ]
     },
     "execution_count": 54,
     "metadata": {},
     "output_type": "execute_result"
    }
   ],
   "source": [
    "data = pd.read_csv('ABNB_NY_V2.csv')\n",
    "summary = data.describe()\n",
    "print({x: len(data[x].unique()) for x in data.columns})\n",
    "summary"
   ]
  },
  {
   "cell_type": "markdown",
   "metadata": {},
   "source": [
    "### Type Conversion"
   ]
  },
  {
   "cell_type": "code",
   "execution_count": 55,
   "metadata": {},
   "outputs": [],
   "source": [
    "data['price'] = data['price'].astype('float')\n",
    "data['minimum_nights'] = data['minimum_nights'].astype('float')\n",
    "data['number_of_reviews'] = data['number_of_reviews'].astype('float')\n",
    "data['calculated_host_listings_count'] = data[\n",
    "    'calculated_host_listings_count'].astype('float')\n",
    "data['availability_365'] = data['availability_365'].astype('float')\n",
    "data['dist_subway'] = data['dist_subway'].astype('float')\n",
    "data['cnt_all'] = data['cnt_all'].astype('float')\n",
    "data['cnt_all'] = data['cnt_all'].astype('float')\n",
    "data['cnt_entire_home'] = data['cnt_entire_home'].astype('float')\n",
    "data['cnt_private_room'] = data['cnt_private_room'].astype('float')\n",
    "data['cnt_shared_room'] = data['cnt_shared_room'].astype('float')\n",
    "data['avgprice_all'] = data['avgprice_all'].astype('float')\n",
    "data['avgprice_entire_home'] = data['avgprice_entire_home'].astype('float')\n",
    "data['avgprice_private_room'] = data['avgprice_private_room'].astype('float')\n",
    "data['avgprice_shared_room'] = data['avgprice_shared_room'].astype('float')\n",
    "data['neighbourhood_group'] = data['neighbourhood_group'].astype('category')\n",
    "data['neighbourhood'] = data['neighbourhood'].astype('category')\n",
    "data['ZIP'] = data['ZIP'].astype('category')\n",
    "data['last_review'] = pd.to_datetime(data['last_review'])\n",
    "\n",
    "data['days_since_last_review'] = (\n",
    "    dt.datetime.strptime('2020-01-01', '%Y-%m-%d') -\n",
    "    data['last_review']).dt.days\n",
    "data.days_since_last_review.fillna(data.days_since_last_review.max(),\n",
    "                                   inplace=True)\n",
    "data.drop(columns=['last_review'], inplace=True)"
   ]
  },
  {
   "cell_type": "markdown",
   "metadata": {},
   "source": [
    "### Remove Outliers"
   ]
  },
  {
   "cell_type": "code",
   "execution_count": 56,
   "metadata": {},
   "outputs": [],
   "source": [
    "data = data[data.price != 0].copy()\n",
    "data = data[data.price < 300].copy()\n",
    "data = data[data.minimum_nights <= 20].copy()\n",
    "data = data[data.room_type != 'Shared room'].copy()"
   ]
  },
  {
   "cell_type": "code",
   "execution_count": 104,
   "metadata": {},
   "outputs": [
    {
     "data": {
      "text/html": [
       "<div>\n",
       "<style scoped>\n",
       "    .dataframe tbody tr th:only-of-type {\n",
       "        vertical-align: middle;\n",
       "    }\n",
       "\n",
       "    .dataframe tbody tr th {\n",
       "        vertical-align: top;\n",
       "    }\n",
       "\n",
       "    .dataframe thead th {\n",
       "        text-align: right;\n",
       "    }\n",
       "</style>\n",
       "<table border=\"1\" class=\"dataframe\">\n",
       "  <thead>\n",
       "    <tr style=\"text-align: right;\">\n",
       "      <th></th>\n",
       "      <th>price</th>\n",
       "    </tr>\n",
       "    <tr>\n",
       "      <th>room_type</th>\n",
       "      <th></th>\n",
       "    </tr>\n",
       "  </thead>\n",
       "  <tbody>\n",
       "    <tr>\n",
       "      <th>Entire home/apt</th>\n",
       "      <td>155.974602</td>\n",
       "    </tr>\n",
       "    <tr>\n",
       "      <th>Private room</th>\n",
       "      <td>79.464975</td>\n",
       "    </tr>\n",
       "  </tbody>\n",
       "</table>\n",
       "</div>"
      ],
      "text/plain": [
       "                      price\n",
       "room_type                  \n",
       "Entire home/apt  155.974602\n",
       "Private room      79.464975"
      ]
     },
     "execution_count": 104,
     "metadata": {},
     "output_type": "execute_result"
    }
   ],
   "source": []
  },
  {
   "cell_type": "markdown",
   "metadata": {},
   "source": [
    "#Add Note here"
   ]
  },
  {
   "cell_type": "markdown",
   "metadata": {},
   "source": [
    "### Encode Target Variable"
   ]
  },
  {
   "cell_type": "code",
   "execution_count": 57,
   "metadata": {},
   "outputs": [],
   "source": [
    "target_col = 'room_type'\n",
    "room_types = {'Entire home/apt': 0, 'Private room': 1, 'Shared room': 2}\n",
    "data['Response'] = data.apply(lambda x: room_types[x.room_type], axis=1)"
   ]
  },
  {
   "cell_type": "markdown",
   "metadata": {},
   "source": [
    "### Drop Columns that won't be used in modeling"
   ]
  },
  {
   "cell_type": "code",
   "execution_count": 58,
   "metadata": {},
   "outputs": [],
   "source": [
    "data.drop(\n",
    "    columns=['id', 'name', 'host_id', 'host_name', 'neighbourhood', 'ZIP'],\n",
    "    inplace=True)"
   ]
  },
  {
   "cell_type": "markdown",
   "metadata": {},
   "source": [
    "### Feature / Target Split"
   ]
  },
  {
   "cell_type": "code",
   "execution_count": 59,
   "metadata": {},
   "outputs": [
    {
     "data": {
      "text/plain": [
       "((39156, 20), (39156, 1))"
      ]
     },
     "execution_count": 59,
     "metadata": {},
     "output_type": "execute_result"
    }
   ],
   "source": [
    "data_final = data\n",
    "features, target = data_final.drop(\n",
    "    columns=['Response']), data_final.loc[:, ['Response']]\n",
    "features.shape, target.shape"
   ]
  },
  {
   "cell_type": "markdown",
   "metadata": {},
   "source": [
    "<a id=\"CreateModels\"></a>\n",
    "# Create Models"
   ]
  },
  {
   "cell_type": "markdown",
   "metadata": {},
   "source": [
    "[50] Create a logistic regression model and a support vector machine model for the classification task involved with your dataset. Assess how well each model performs (use 80/20 training/testing split for your data). Adjust parameters of the models to make them more accurate. If your dataset size requires the use of stochastic gradient descent, then linear kernel only is fine to use. That is, the SGDClassifier is fine to use for optimizing logistic regression and linear support vector machines. For many problems, SGD will be required in order to train the SVM model in a reasonable timeframe. "
   ]
  },
  {
   "cell_type": "markdown",
   "metadata": {},
   "source": [
    "## Splitting and Encoding Data for Modeling"
   ]
  },
  {
   "cell_type": "markdown",
   "metadata": {},
   "source": [
    "### Train / Test Split"
   ]
  },
  {
   "cell_type": "code",
   "execution_count": 62,
   "metadata": {},
   "outputs": [
    {
     "data": {
      "text/plain": [
       "ClassBalance(ax=<matplotlib.axes._subplots.AxesSubplot object at 0x136133940>,\n",
       "       colormap=None, colors=None,\n",
       "       labels=['Entire home/apt', 'Private room'])"
      ]
     },
     "execution_count": 62,
     "metadata": {},
     "output_type": "execute_result"
    },
    {
     "data": {
      "image/png": "[encoded data removed]",
      "text/plain": [
       "<Figure size 432x288 with 1 Axes>"
      ]
     },
     "metadata": {
      "needs_background": "light"
     },
     "output_type": "display_data"
    }
   ],
   "source": [
    "X_train, X_test, y_train, y_test = train_test_split(features,\n",
    "                                                    target,\n",
    "                                                    test_size=0.2,\n",
    "                                                    random_state=0)\n",
    "classes_test = ClassBalance(\n",
    "    labels=['Entire home/apt', 'Private room'])#, 'Shared room'])\n",
    "classes_test.fit(y_train['Response'], y_test['Response'])"
   ]
  },
  {
   "cell_type": "markdown",
   "metadata": {},
   "source": [
    "We split the data set into 80% Train and 20% Test. The bar graph above shows the split by level of our response variable room type. Its good to note that 'Shared room' has a small number of observations compared to the other two classes."
   ]
  },
  {
   "cell_type": "markdown",
   "metadata": {},
   "source": [
    "### Data Transforms\n",
    "- One Hot Encode all categoricals\n",
    "- Standard Scale all numerics (sklearn is not R - it does not do this by default)\n",
    "- This needs to be done on train/test set separately (create a pipeline) \n",
    "\n",
    "https://scikit-learn.org/stable/modules/cross_validation.html\n",
    "\n",
    "https://scikit-learn.org/stable/modules/compose.html#combining-estimators"
   ]
  },
  {
   "cell_type": "code",
   "execution_count": 63,
   "metadata": {},
   "outputs": [
    {
     "name": "stdout",
     "output_type": "stream",
     "text": [
      "neighbourhood_group was OHE'd\n",
      "latitude was Standard Scaled\n",
      "longitude was Standard Scaled\n",
      "price was Standard Scaled\n",
      "minimum_nights was Standard Scaled\n",
      "number_of_reviews was Standard Scaled\n"
     ]
    },
    {
     "name": "stderr",
     "output_type": "stream",
     "text": [
      "/Library/Frameworks/Python.framework/Versions/3.6/lib/python3.6/site-packages/pandas/core/generic.py:6130: SettingWithCopyWarning: \n",
      "A value is trying to be set on a copy of a slice from a DataFrame\n",
      "\n",
      "See the caveats in the documentation: http://pandas.pydata.org/pandas-docs/stable/indexing.html#indexing-view-versus-copy\n",
      "  self._update_inplace(new_data)\n"
     ]
    },
    {
     "name": "stdout",
     "output_type": "stream",
     "text": [
      "reviews_per_month was Standard Scaled\n",
      "calculated_host_listings_count was Standard Scaled\n",
      "availability_365 was Standard Scaled\n",
      "dist_subway was Standard Scaled\n",
      "cnt_all was Standard Scaled\n",
      "cnt_entire_home was Standard Scaled\n",
      "cnt_private_room was Standard Scaled\n",
      "cnt_shared_room was Standard Scaled\n",
      "avgprice_all was Standard Scaled\n",
      "avgprice_entire_home was Standard Scaled\n",
      "avgprice_private_room was Standard Scaled\n",
      "avgprice_shared_room was Standard Scaled\n",
      "days_since_last_review was Standard Scaled\n"
     ]
    }
   ],
   "source": [
    "#OH encode\n",
    "label_encode = [\n",
    "    x for x, y in dict(X_train.dtypes).items()\n",
    "    if type(y) == pd.CategoricalDtype\n",
    "]\n",
    "for var in label_encode:\n",
    "    #impute to Mode\n",
    "    print(f\"{var} was OHE'd\")\n",
    "    X_train[var].fillna(X_train[var].mode()[0], inplace=True)\n",
    "    X_test[var].fillna(X_train[var].mode()[0], inplace=True)\n",
    "    cat_list_train = pd.get_dummies(X_train[var], prefix=var)\n",
    "    cat_list_test = pd.get_dummies(X_test[var], prefix=var)\n",
    "    X_train_new = X_train.join(cat_list_train)\n",
    "    X_train = X_train_new\n",
    "    X_test_new = X_test.join(cat_list_test)\n",
    "    X_test = X_test_new\n",
    "\n",
    "normalize = [x for x, y in dict(X_train.dtypes).items() if y == np.float64]\n",
    "for col in normalize:\n",
    "    #change impution scheme?\n",
    "    print(f\"{col} was Standard Scaled\")\n",
    "    X_train[col].fillna(X_train[col].median(), inplace=True)\n",
    "    X_test[col].fillna(X_train[col].median(), inplace=True)\n",
    "    normalizer = StandardScaler()\n",
    "    ar_train = X_train[col].to_numpy().reshape(-1, 1)\n",
    "    normalizer.fit(ar_train)\n",
    "    X_train.loc[:, col] = normalizer.transform(ar_train)\n",
    "    ar_test = X_test[col].to_numpy().reshape(-1, 1)\n",
    "    X_test.loc[:, col] = normalizer.transform(ar_test)\n",
    "\n",
    "X_train.drop(columns=label_encode, inplace=True)\n",
    "X_test.drop(columns=label_encode, inplace=True)\n",
    "X_train.drop(columns=target_col, inplace=True)\n",
    "X_test.drop(columns=target_col, inplace=True)"
   ]
  },
  {
   "cell_type": "markdown",
   "metadata": {},
   "source": [
    "1. Explain OHE\n",
    "2. Explain Missing Imputation\n",
    "3. Explain normalization"
   ]
  },
  {
   "cell_type": "markdown",
   "metadata": {},
   "source": [
    "### Baseline Accuracy"
   ]
  },
  {
   "cell_type": "code",
   "execution_count": 64,
   "metadata": {},
   "outputs": [
    {
     "name": "stdout",
     "output_type": "stream",
     "text": [
      "{'class_0': 0.48014302132550124, 'class_1': 0.5198569786744988, 'class_2': 0.0}\n",
      "{'class_0': 0.4726762002042901, 'class_1': 0.5273237997957099, 'class_2': 0.0}\n"
     ]
    }
   ],
   "source": [
    "base_line_accuracy_train = {\n",
    "    'class_0': (y_train[y_train.Response == 0].shape[0] / y_train.shape[0]),\n",
    "    'class_1': (y_train[y_train.Response == 1].shape[0] / y_train.shape[0]),\n",
    "    'class_2': (y_train[y_train.Response == 2].shape[0] / y_train.shape[0])\n",
    "}\n",
    "base_line_accuracy_test = {\n",
    "    'class_0': (y_test[y_test.Response == 0].shape[0] / y_test.shape[0]),\n",
    "    'class_1': (y_test[y_test.Response == 1].shape[0] / y_test.shape[0]),\n",
    "    'class_2': (y_test[y_test.Response == 2].shape[0] / y_test.shape[0])\n",
    "}\n",
    "\n",
    "print(base_line_accuracy_train)\n",
    "print(base_line_accuracy_test)"
   ]
  },
  {
   "cell_type": "markdown",
   "metadata": {},
   "source": [
    "We could achieve 50% - 51% accuracy by predicting class 1 all the time (Private room). Hopefully our models do better!"
   ]
  },
  {
   "cell_type": "markdown",
   "metadata": {},
   "source": [
    "## Logistic Regression"
   ]
  },
  {
   "cell_type": "code",
   "execution_count": 67,
   "metadata": {
    "scrolled": true
   },
   "outputs": [
    {
     "name": "stderr",
     "output_type": "stream",
     "text": [
      "/Library/Frameworks/Python.framework/Versions/3.6/lib/python3.6/site-packages/sklearn/linear_model/logistic.py:1300: UserWarning: 'n_jobs' > 1 does not have any effect when 'solver' is set to 'liblinear'. Got 'n_jobs' = 8.\n",
      "  \" = {}.\".format(effective_n_jobs(self.n_jobs)))\n"
     ]
    },
    {
     "name": "stdout",
     "output_type": "stream",
     "text": [
      "Best parameter (Accuracy score=0.834):\n",
      "{'logistic__C': 1.0, 'logistic__penalty': 'l1'}\n"
     ]
    },
    {
     "data": {
      "text/html": [
       "<div>\n",
       "<style scoped>\n",
       "    .dataframe tbody tr th:only-of-type {\n",
       "        vertical-align: middle;\n",
       "    }\n",
       "\n",
       "    .dataframe tbody tr th {\n",
       "        vertical-align: top;\n",
       "    }\n",
       "\n",
       "    .dataframe thead th {\n",
       "        text-align: right;\n",
       "    }\n",
       "</style>\n",
       "<table border=\"1\" class=\"dataframe\">\n",
       "  <thead>\n",
       "    <tr style=\"text-align: right;\">\n",
       "      <th></th>\n",
       "      <th>mean_fit_time</th>\n",
       "      <th>std_fit_time</th>\n",
       "      <th>mean_score_time</th>\n",
       "      <th>std_score_time</th>\n",
       "      <th>param_logistic__C</th>\n",
       "      <th>param_logistic__penalty</th>\n",
       "      <th>params</th>\n",
       "      <th>split0_test_score</th>\n",
       "      <th>split1_test_score</th>\n",
       "      <th>split2_test_score</th>\n",
       "      <th>mean_test_score</th>\n",
       "      <th>std_test_score</th>\n",
       "      <th>rank_test_score</th>\n",
       "      <th>split0_train_score</th>\n",
       "      <th>split1_train_score</th>\n",
       "      <th>split2_train_score</th>\n",
       "      <th>mean_train_score</th>\n",
       "      <th>std_train_score</th>\n",
       "    </tr>\n",
       "  </thead>\n",
       "  <tbody>\n",
       "    <tr>\n",
       "      <th>0</th>\n",
       "      <td>0.045110</td>\n",
       "      <td>0.002252</td>\n",
       "      <td>0.005652</td>\n",
       "      <td>0.002640</td>\n",
       "      <td>0.0001</td>\n",
       "      <td>l1</td>\n",
       "      <td>{'logistic__C': 0.0001, 'logistic__penalty': '...</td>\n",
       "      <td>0.480176</td>\n",
       "      <td>0.480126</td>\n",
       "      <td>0.480126</td>\n",
       "      <td>0.480143</td>\n",
       "      <td>0.000023</td>\n",
       "      <td>20</td>\n",
       "      <td>0.480126</td>\n",
       "      <td>0.480151</td>\n",
       "      <td>0.480151</td>\n",
       "      <td>0.480143</td>\n",
       "      <td>0.000012</td>\n",
       "    </tr>\n",
       "    <tr>\n",
       "      <th>1</th>\n",
       "      <td>0.138251</td>\n",
       "      <td>0.011201</td>\n",
       "      <td>0.005037</td>\n",
       "      <td>0.000614</td>\n",
       "      <td>0.0001</td>\n",
       "      <td>l2</td>\n",
       "      <td>{'logistic__C': 0.0001, 'logistic__penalty': '...</td>\n",
       "      <td>0.781076</td>\n",
       "      <td>0.772436</td>\n",
       "      <td>0.776554</td>\n",
       "      <td>0.776689</td>\n",
       "      <td>0.003529</td>\n",
       "      <td>19</td>\n",
       "      <td>0.778086</td>\n",
       "      <td>0.775942</td>\n",
       "      <td>0.775798</td>\n",
       "      <td>0.776609</td>\n",
       "      <td>0.001046</td>\n",
       "    </tr>\n",
       "    <tr>\n",
       "      <th>2</th>\n",
       "      <td>0.095532</td>\n",
       "      <td>0.000779</td>\n",
       "      <td>0.006414</td>\n",
       "      <td>0.002264</td>\n",
       "      <td>0.000464159</td>\n",
       "      <td>l1</td>\n",
       "      <td>{'logistic__C': 0.00046415888336127773, 'logis...</td>\n",
       "      <td>0.799081</td>\n",
       "      <td>0.792166</td>\n",
       "      <td>0.797625</td>\n",
       "      <td>0.796290</td>\n",
       "      <td>0.002977</td>\n",
       "      <td>18</td>\n",
       "      <td>0.794895</td>\n",
       "      <td>0.798353</td>\n",
       "      <td>0.795623</td>\n",
       "      <td>0.796290</td>\n",
       "      <td>0.001488</td>\n",
       "    </tr>\n",
       "    <tr>\n",
       "      <th>3</th>\n",
       "      <td>0.159079</td>\n",
       "      <td>0.002779</td>\n",
       "      <td>0.005761</td>\n",
       "      <td>0.001615</td>\n",
       "      <td>0.000464159</td>\n",
       "      <td>l2</td>\n",
       "      <td>{'logistic__C': 0.00046415888336127773, 'logis...</td>\n",
       "      <td>0.814978</td>\n",
       "      <td>0.805095</td>\n",
       "      <td>0.808543</td>\n",
       "      <td>0.809539</td>\n",
       "      <td>0.004096</td>\n",
       "      <td>17</td>\n",
       "      <td>0.807729</td>\n",
       "      <td>0.810324</td>\n",
       "      <td>0.811138</td>\n",
       "      <td>0.809731</td>\n",
       "      <td>0.001454</td>\n",
       "    </tr>\n",
       "    <tr>\n",
       "      <th>4</th>\n",
       "      <td>0.106516</td>\n",
       "      <td>0.004617</td>\n",
       "      <td>0.004545</td>\n",
       "      <td>0.000259</td>\n",
       "      <td>0.00215443</td>\n",
       "      <td>l1</td>\n",
       "      <td>{'logistic__C': 0.002154434690031882, 'logisti...</td>\n",
       "      <td>0.813541</td>\n",
       "      <td>0.808639</td>\n",
       "      <td>0.808735</td>\n",
       "      <td>0.810305</td>\n",
       "      <td>0.002289</td>\n",
       "      <td>16</td>\n",
       "      <td>0.809501</td>\n",
       "      <td>0.810181</td>\n",
       "      <td>0.811473</td>\n",
       "      <td>0.810385</td>\n",
       "      <td>0.000818</td>\n",
       "    </tr>\n",
       "    <tr>\n",
       "      <th>5</th>\n",
       "      <td>0.238736</td>\n",
       "      <td>0.029505</td>\n",
       "      <td>0.008617</td>\n",
       "      <td>0.004308</td>\n",
       "      <td>0.00215443</td>\n",
       "      <td>l2</td>\n",
       "      <td>{'logistic__C': 0.002154434690031882, 'logisti...</td>\n",
       "      <td>0.829726</td>\n",
       "      <td>0.825113</td>\n",
       "      <td>0.824346</td>\n",
       "      <td>0.826395</td>\n",
       "      <td>0.002376</td>\n",
       "      <td>15</td>\n",
       "      <td>0.825879</td>\n",
       "      <td>0.826318</td>\n",
       "      <td>0.828233</td>\n",
       "      <td>0.826810</td>\n",
       "      <td>0.001022</td>\n",
       "    </tr>\n",
       "    <tr>\n",
       "      <th>6</th>\n",
       "      <td>0.186598</td>\n",
       "      <td>0.047078</td>\n",
       "      <td>0.006301</td>\n",
       "      <td>0.002197</td>\n",
       "      <td>0.01</td>\n",
       "      <td>l1</td>\n",
       "      <td>{'logistic__C': 0.01, 'logistic__penalty': 'l1'}</td>\n",
       "      <td>0.832599</td>\n",
       "      <td>0.828273</td>\n",
       "      <td>0.828465</td>\n",
       "      <td>0.829779</td>\n",
       "      <td>0.001996</td>\n",
       "      <td>14</td>\n",
       "      <td>0.827938</td>\n",
       "      <td>0.829670</td>\n",
       "      <td>0.832016</td>\n",
       "      <td>0.829875</td>\n",
       "      <td>0.001671</td>\n",
       "    </tr>\n",
       "    <tr>\n",
       "      <th>7</th>\n",
       "      <td>0.411771</td>\n",
       "      <td>0.109614</td>\n",
       "      <td>0.009695</td>\n",
       "      <td>0.003930</td>\n",
       "      <td>0.01</td>\n",
       "      <td>l2</td>\n",
       "      <td>{'logistic__C': 0.01, 'logistic__penalty': 'l2'}</td>\n",
       "      <td>0.836238</td>\n",
       "      <td>0.830380</td>\n",
       "      <td>0.828848</td>\n",
       "      <td>0.831822</td>\n",
       "      <td>0.003185</td>\n",
       "      <td>13</td>\n",
       "      <td>0.830715</td>\n",
       "      <td>0.831681</td>\n",
       "      <td>0.833836</td>\n",
       "      <td>0.832078</td>\n",
       "      <td>0.001304</td>\n",
       "    </tr>\n",
       "    <tr>\n",
       "      <th>8</th>\n",
       "      <td>0.286882</td>\n",
       "      <td>0.017929</td>\n",
       "      <td>0.008919</td>\n",
       "      <td>0.004579</td>\n",
       "      <td>0.0464159</td>\n",
       "      <td>l1</td>\n",
       "      <td>{'logistic__C': 0.046415888336127774, 'logisti...</td>\n",
       "      <td>0.835472</td>\n",
       "      <td>0.831146</td>\n",
       "      <td>0.830284</td>\n",
       "      <td>0.832301</td>\n",
       "      <td>0.002270</td>\n",
       "      <td>12</td>\n",
       "      <td>0.831434</td>\n",
       "      <td>0.832016</td>\n",
       "      <td>0.834363</td>\n",
       "      <td>0.832604</td>\n",
       "      <td>0.001266</td>\n",
       "    </tr>\n",
       "    <tr>\n",
       "      <th>9</th>\n",
       "      <td>0.601851</td>\n",
       "      <td>0.086009</td>\n",
       "      <td>0.021322</td>\n",
       "      <td>0.010137</td>\n",
       "      <td>0.0464159</td>\n",
       "      <td>l2</td>\n",
       "      <td>{'logistic__C': 0.046415888336127774, 'logisti...</td>\n",
       "      <td>0.837579</td>\n",
       "      <td>0.832104</td>\n",
       "      <td>0.830284</td>\n",
       "      <td>0.833323</td>\n",
       "      <td>0.003100</td>\n",
       "      <td>11</td>\n",
       "      <td>0.831865</td>\n",
       "      <td>0.832831</td>\n",
       "      <td>0.835081</td>\n",
       "      <td>0.833259</td>\n",
       "      <td>0.001348</td>\n",
       "    </tr>\n",
       "    <tr>\n",
       "      <th>10</th>\n",
       "      <td>0.557100</td>\n",
       "      <td>0.115647</td>\n",
       "      <td>0.008056</td>\n",
       "      <td>0.004705</td>\n",
       "      <td>0.215443</td>\n",
       "      <td>l1</td>\n",
       "      <td>{'logistic__C': 0.21544346900318823, 'logistic...</td>\n",
       "      <td>0.837771</td>\n",
       "      <td>0.832870</td>\n",
       "      <td>0.830380</td>\n",
       "      <td>0.833674</td>\n",
       "      <td>0.003070</td>\n",
       "      <td>9</td>\n",
       "      <td>0.832152</td>\n",
       "      <td>0.832543</td>\n",
       "      <td>0.835225</td>\n",
       "      <td>0.833307</td>\n",
       "      <td>0.001366</td>\n",
       "    </tr>\n",
       "    <tr>\n",
       "      <th>11</th>\n",
       "      <td>0.665040</td>\n",
       "      <td>0.095442</td>\n",
       "      <td>0.009163</td>\n",
       "      <td>0.005384</td>\n",
       "      <td>0.215443</td>\n",
       "      <td>l2</td>\n",
       "      <td>{'logistic__C': 0.21544346900318823, 'logistic...</td>\n",
       "      <td>0.837292</td>\n",
       "      <td>0.833062</td>\n",
       "      <td>0.830189</td>\n",
       "      <td>0.833514</td>\n",
       "      <td>0.002917</td>\n",
       "      <td>10</td>\n",
       "      <td>0.832439</td>\n",
       "      <td>0.832687</td>\n",
       "      <td>0.835608</td>\n",
       "      <td>0.833578</td>\n",
       "      <td>0.001439</td>\n",
       "    </tr>\n",
       "    <tr>\n",
       "      <th>12</th>\n",
       "      <td>1.085450</td>\n",
       "      <td>0.790828</td>\n",
       "      <td>0.003850</td>\n",
       "      <td>0.001753</td>\n",
       "      <td>1</td>\n",
       "      <td>l1</td>\n",
       "      <td>{'logistic__C': 1.0, 'logistic__penalty': 'l1'}</td>\n",
       "      <td>0.837100</td>\n",
       "      <td>0.833349</td>\n",
       "      <td>0.831146</td>\n",
       "      <td>0.833865</td>\n",
       "      <td>0.002458</td>\n",
       "      <td>1</td>\n",
       "      <td>0.832870</td>\n",
       "      <td>0.832687</td>\n",
       "      <td>0.835321</td>\n",
       "      <td>0.833626</td>\n",
       "      <td>0.001201</td>\n",
       "    </tr>\n",
       "    <tr>\n",
       "      <th>13</th>\n",
       "      <td>0.464682</td>\n",
       "      <td>0.233214</td>\n",
       "      <td>0.009186</td>\n",
       "      <td>0.007930</td>\n",
       "      <td>1</td>\n",
       "      <td>l2</td>\n",
       "      <td>{'logistic__C': 1.0, 'logistic__penalty': 'l2'}</td>\n",
       "      <td>0.836909</td>\n",
       "      <td>0.833445</td>\n",
       "      <td>0.830859</td>\n",
       "      <td>0.833738</td>\n",
       "      <td>0.002478</td>\n",
       "      <td>8</td>\n",
       "      <td>0.832966</td>\n",
       "      <td>0.832735</td>\n",
       "      <td>0.835464</td>\n",
       "      <td>0.833722</td>\n",
       "      <td>0.001236</td>\n",
       "    </tr>\n",
       "    <tr>\n",
       "      <th>14</th>\n",
       "      <td>0.929375</td>\n",
       "      <td>0.628057</td>\n",
       "      <td>0.004235</td>\n",
       "      <td>0.001861</td>\n",
       "      <td>4.64159</td>\n",
       "      <td>l1</td>\n",
       "      <td>{'logistic__C': 4.641588833612772, 'logistic__...</td>\n",
       "      <td>0.837292</td>\n",
       "      <td>0.833158</td>\n",
       "      <td>0.831146</td>\n",
       "      <td>0.833865</td>\n",
       "      <td>0.002558</td>\n",
       "      <td>1</td>\n",
       "      <td>0.832823</td>\n",
       "      <td>0.832687</td>\n",
       "      <td>0.835081</td>\n",
       "      <td>0.833530</td>\n",
       "      <td>0.001098</td>\n",
       "    </tr>\n",
       "    <tr>\n",
       "      <th>15</th>\n",
       "      <td>0.612051</td>\n",
       "      <td>0.136943</td>\n",
       "      <td>0.011063</td>\n",
       "      <td>0.009629</td>\n",
       "      <td>4.64159</td>\n",
       "      <td>l2</td>\n",
       "      <td>{'logistic__C': 4.641588833612772, 'logistic__...</td>\n",
       "      <td>0.837292</td>\n",
       "      <td>0.833254</td>\n",
       "      <td>0.830859</td>\n",
       "      <td>0.833802</td>\n",
       "      <td>0.002655</td>\n",
       "      <td>7</td>\n",
       "      <td>0.832823</td>\n",
       "      <td>0.832687</td>\n",
       "      <td>0.835225</td>\n",
       "      <td>0.833578</td>\n",
       "      <td>0.001166</td>\n",
       "    </tr>\n",
       "    <tr>\n",
       "      <th>16</th>\n",
       "      <td>0.410270</td>\n",
       "      <td>0.132365</td>\n",
       "      <td>0.014254</td>\n",
       "      <td>0.003742</td>\n",
       "      <td>21.5443</td>\n",
       "      <td>l1</td>\n",
       "      <td>{'logistic__C': 21.54434690031882, 'logistic__...</td>\n",
       "      <td>0.837387</td>\n",
       "      <td>0.833254</td>\n",
       "      <td>0.830955</td>\n",
       "      <td>0.833865</td>\n",
       "      <td>0.002662</td>\n",
       "      <td>1</td>\n",
       "      <td>0.832775</td>\n",
       "      <td>0.832687</td>\n",
       "      <td>0.835033</td>\n",
       "      <td>0.833498</td>\n",
       "      <td>0.001086</td>\n",
       "    </tr>\n",
       "    <tr>\n",
       "      <th>17</th>\n",
       "      <td>0.471713</td>\n",
       "      <td>0.042057</td>\n",
       "      <td>0.003917</td>\n",
       "      <td>0.000056</td>\n",
       "      <td>21.5443</td>\n",
       "      <td>l2</td>\n",
       "      <td>{'logistic__C': 21.54434690031882, 'logistic__...</td>\n",
       "      <td>0.837387</td>\n",
       "      <td>0.833254</td>\n",
       "      <td>0.830955</td>\n",
       "      <td>0.833865</td>\n",
       "      <td>0.002662</td>\n",
       "      <td>1</td>\n",
       "      <td>0.832775</td>\n",
       "      <td>0.832687</td>\n",
       "      <td>0.835081</td>\n",
       "      <td>0.833514</td>\n",
       "      <td>0.001109</td>\n",
       "    </tr>\n",
       "    <tr>\n",
       "      <th>18</th>\n",
       "      <td>0.222688</td>\n",
       "      <td>0.061507</td>\n",
       "      <td>0.003422</td>\n",
       "      <td>0.000692</td>\n",
       "      <td>100</td>\n",
       "      <td>l1</td>\n",
       "      <td>{'logistic__C': 100.0, 'logistic__penalty': 'l1'}</td>\n",
       "      <td>0.837387</td>\n",
       "      <td>0.833254</td>\n",
       "      <td>0.830955</td>\n",
       "      <td>0.833865</td>\n",
       "      <td>0.002662</td>\n",
       "      <td>1</td>\n",
       "      <td>0.832823</td>\n",
       "      <td>0.832735</td>\n",
       "      <td>0.835081</td>\n",
       "      <td>0.833546</td>\n",
       "      <td>0.001086</td>\n",
       "    </tr>\n",
       "    <tr>\n",
       "      <th>19</th>\n",
       "      <td>0.337877</td>\n",
       "      <td>0.115714</td>\n",
       "      <td>0.003439</td>\n",
       "      <td>0.000727</td>\n",
       "      <td>100</td>\n",
       "      <td>l2</td>\n",
       "      <td>{'logistic__C': 100.0, 'logistic__penalty': 'l2'}</td>\n",
       "      <td>0.837387</td>\n",
       "      <td>0.833254</td>\n",
       "      <td>0.830955</td>\n",
       "      <td>0.833865</td>\n",
       "      <td>0.002662</td>\n",
       "      <td>1</td>\n",
       "      <td>0.832775</td>\n",
       "      <td>0.832687</td>\n",
       "      <td>0.835081</td>\n",
       "      <td>0.833514</td>\n",
       "      <td>0.001109</td>\n",
       "    </tr>\n",
       "  </tbody>\n",
       "</table>\n",
       "</div>"
      ],
      "text/plain": [
       "    mean_fit_time  std_fit_time  mean_score_time  std_score_time  \\\n",
       "0        0.045110      0.002252         0.005652        0.002640   \n",
       "1        0.138251      0.011201         0.005037        0.000614   \n",
       "2        0.095532      0.000779         0.006414        0.002264   \n",
       "3        0.159079      0.002779         0.005761        0.001615   \n",
       "4        0.106516      0.004617         0.004545        0.000259   \n",
       "5        0.238736      0.029505         0.008617        0.004308   \n",
       "6        0.186598      0.047078         0.006301        0.002197   \n",
       "7        0.411771      0.109614         0.009695        0.003930   \n",
       "8        0.286882      0.017929         0.008919        0.004579   \n",
       "9        0.601851      0.086009         0.021322        0.010137   \n",
       "10       0.557100      0.115647         0.008056        0.004705   \n",
       "11       0.665040      0.095442         0.009163        0.005384   \n",
       "12       1.085450      0.790828         0.003850        0.001753   \n",
       "13       0.464682      0.233214         0.009186        0.007930   \n",
       "14       0.929375      0.628057         0.004235        0.001861   \n",
       "15       0.612051      0.136943         0.011063        0.009629   \n",
       "16       0.410270      0.132365         0.014254        0.003742   \n",
       "17       0.471713      0.042057         0.003917        0.000056   \n",
       "18       0.222688      0.061507         0.003422        0.000692   \n",
       "19       0.337877      0.115714         0.003439        0.000727   \n",
       "\n",
       "   param_logistic__C param_logistic__penalty  \\\n",
       "0             0.0001                      l1   \n",
       "1             0.0001                      l2   \n",
       "2        0.000464159                      l1   \n",
       "3        0.000464159                      l2   \n",
       "4         0.00215443                      l1   \n",
       "5         0.00215443                      l2   \n",
       "6               0.01                      l1   \n",
       "7               0.01                      l2   \n",
       "8          0.0464159                      l1   \n",
       "9          0.0464159                      l2   \n",
       "10          0.215443                      l1   \n",
       "11          0.215443                      l2   \n",
       "12                 1                      l1   \n",
       "13                 1                      l2   \n",
       "14           4.64159                      l1   \n",
       "15           4.64159                      l2   \n",
       "16           21.5443                      l1   \n",
       "17           21.5443                      l2   \n",
       "18               100                      l1   \n",
       "19               100                      l2   \n",
       "\n",
       "                                               params  split0_test_score  \\\n",
       "0   {'logistic__C': 0.0001, 'logistic__penalty': '...           0.480176   \n",
       "1   {'logistic__C': 0.0001, 'logistic__penalty': '...           0.781076   \n",
       "2   {'logistic__C': 0.00046415888336127773, 'logis...           0.799081   \n",
       "3   {'logistic__C': 0.00046415888336127773, 'logis...           0.814978   \n",
       "4   {'logistic__C': 0.002154434690031882, 'logisti...           0.813541   \n",
       "5   {'logistic__C': 0.002154434690031882, 'logisti...           0.829726   \n",
       "6    {'logistic__C': 0.01, 'logistic__penalty': 'l1'}           0.832599   \n",
       "7    {'logistic__C': 0.01, 'logistic__penalty': 'l2'}           0.836238   \n",
       "8   {'logistic__C': 0.046415888336127774, 'logisti...           0.835472   \n",
       "9   {'logistic__C': 0.046415888336127774, 'logisti...           0.837579   \n",
       "10  {'logistic__C': 0.21544346900318823, 'logistic...           0.837771   \n",
       "11  {'logistic__C': 0.21544346900318823, 'logistic...           0.837292   \n",
       "12    {'logistic__C': 1.0, 'logistic__penalty': 'l1'}           0.837100   \n",
       "13    {'logistic__C': 1.0, 'logistic__penalty': 'l2'}           0.836909   \n",
       "14  {'logistic__C': 4.641588833612772, 'logistic__...           0.837292   \n",
       "15  {'logistic__C': 4.641588833612772, 'logistic__...           0.837292   \n",
       "16  {'logistic__C': 21.54434690031882, 'logistic__...           0.837387   \n",
       "17  {'logistic__C': 21.54434690031882, 'logistic__...           0.837387   \n",
       "18  {'logistic__C': 100.0, 'logistic__penalty': 'l1'}           0.837387   \n",
       "19  {'logistic__C': 100.0, 'logistic__penalty': 'l2'}           0.837387   \n",
       "\n",
       "    split1_test_score  split2_test_score  mean_test_score  std_test_score  \\\n",
       "0            0.480126           0.480126         0.480143        0.000023   \n",
       "1            0.772436           0.776554         0.776689        0.003529   \n",
       "2            0.792166           0.797625         0.796290        0.002977   \n",
       "3            0.805095           0.808543         0.809539        0.004096   \n",
       "4            0.808639           0.808735         0.810305        0.002289   \n",
       "5            0.825113           0.824346         0.826395        0.002376   \n",
       "6            0.828273           0.828465         0.829779        0.001996   \n",
       "7            0.830380           0.828848         0.831822        0.003185   \n",
       "8            0.831146           0.830284         0.832301        0.002270   \n",
       "9            0.832104           0.830284         0.833323        0.003100   \n",
       "10           0.832870           0.830380         0.833674        0.003070   \n",
       "11           0.833062           0.830189         0.833514        0.002917   \n",
       "12           0.833349           0.831146         0.833865        0.002458   \n",
       "13           0.833445           0.830859         0.833738        0.002478   \n",
       "14           0.833158           0.831146         0.833865        0.002558   \n",
       "15           0.833254           0.830859         0.833802        0.002655   \n",
       "16           0.833254           0.830955         0.833865        0.002662   \n",
       "17           0.833254           0.830955         0.833865        0.002662   \n",
       "18           0.833254           0.830955         0.833865        0.002662   \n",
       "19           0.833254           0.830955         0.833865        0.002662   \n",
       "\n",
       "    rank_test_score  split0_train_score  split1_train_score  \\\n",
       "0                20            0.480126            0.480151   \n",
       "1                19            0.778086            0.775942   \n",
       "2                18            0.794895            0.798353   \n",
       "3                17            0.807729            0.810324   \n",
       "4                16            0.809501            0.810181   \n",
       "5                15            0.825879            0.826318   \n",
       "6                14            0.827938            0.829670   \n",
       "7                13            0.830715            0.831681   \n",
       "8                12            0.831434            0.832016   \n",
       "9                11            0.831865            0.832831   \n",
       "10                9            0.832152            0.832543   \n",
       "11               10            0.832439            0.832687   \n",
       "12                1            0.832870            0.832687   \n",
       "13                8            0.832966            0.832735   \n",
       "14                1            0.832823            0.832687   \n",
       "15                7            0.832823            0.832687   \n",
       "16                1            0.832775            0.832687   \n",
       "17                1            0.832775            0.832687   \n",
       "18                1            0.832823            0.832735   \n",
       "19                1            0.832775            0.832687   \n",
       "\n",
       "    split2_train_score  mean_train_score  std_train_score  \n",
       "0             0.480151          0.480143         0.000012  \n",
       "1             0.775798          0.776609         0.001046  \n",
       "2             0.795623          0.796290         0.001488  \n",
       "3             0.811138          0.809731         0.001454  \n",
       "4             0.811473          0.810385         0.000818  \n",
       "5             0.828233          0.826810         0.001022  \n",
       "6             0.832016          0.829875         0.001671  \n",
       "7             0.833836          0.832078         0.001304  \n",
       "8             0.834363          0.832604         0.001266  \n",
       "9             0.835081          0.833259         0.001348  \n",
       "10            0.835225          0.833307         0.001366  \n",
       "11            0.835608          0.833578         0.001439  \n",
       "12            0.835321          0.833626         0.001201  \n",
       "13            0.835464          0.833722         0.001236  \n",
       "14            0.835081          0.833530         0.001098  \n",
       "15            0.835225          0.833578         0.001166  \n",
       "16            0.835033          0.833498         0.001086  \n",
       "17            0.835081          0.833514         0.001109  \n",
       "18            0.835081          0.833546         0.001086  \n",
       "19            0.835081          0.833514         0.001109  "
      ]
     },
     "execution_count": 67,
     "metadata": {},
     "output_type": "execute_result"
    }
   ],
   "source": [
    "logistic = LogisticRegression(\n",
    "     max_iter=10000\n",
    "    ,fit_intercept=True # always fit an intercept term\n",
    "    ,n_jobs=-1 # use all processors\n",
    ")\n",
    "pipe = Pipeline(steps=[('logistic', logistic)])\n",
    "# Parameters of pipelines can be set using ‘__’ separated parameter names:\n",
    "param_grid = {\n",
    "    'logistic__C': np.logspace(-4, 2, 10),\n",
    "    #'logistic__class_weight':[None, 'balanced'],\n",
    "    'logistic__penalty':['l1', 'l2'],\n",
    "    #'logistic__multi_class':['auto', 'ovr', 'multinomial'],\n",
    "    #'logistic__dual':[True, False],\n",
    "    #'logistic__solver':['lbfgs', 'liblinear', 'sag', 'saga']\n",
    "}\n",
    "\n",
    "search = GridSearchCV(pipe, param_grid, n_jobs=-1,error_score=0.0,scoring='accuracy')\n",
    "search.fit(X_train, y_train.values.ravel())\n",
    "print(\"Best parameter (Accuracy score=%0.3f):\" % search.best_score_)\n",
    "print(search.best_params_)\n",
    "results = pd.DataFrame(search.cv_results_)\n",
    "results"
   ]
  },
  {
   "cell_type": "code",
   "execution_count": 14,
   "metadata": {
    "scrolled": true
   },
   "outputs": [
    {
     "name": "stdout",
     "output_type": "stream",
     "text": [
      "<class 'pandas.core.frame.DataFrame'>\n",
      "RangeIndex: 20 entries, 0 to 19\n",
      "Data columns (total 18 columns):\n",
      "mean_fit_time              20 non-null float64\n",
      "std_fit_time               20 non-null float64\n",
      "mean_score_time            20 non-null float64\n",
      "std_score_time             20 non-null float64\n",
      "param_logistic__C          20 non-null object\n",
      "param_logistic__penalty    20 non-null object\n",
      "params                     20 non-null object\n",
      "split0_test_score          20 non-null float64\n",
      "split1_test_score          20 non-null float64\n",
      "split2_test_score          20 non-null float64\n",
      "mean_test_score            20 non-null float64\n",
      "std_test_score             20 non-null float64\n",
      "rank_test_score            20 non-null int32\n",
      "split0_train_score         20 non-null float64\n",
      "split1_train_score         20 non-null float64\n",
      "split2_train_score         20 non-null float64\n",
      "mean_train_score           20 non-null float64\n",
      "std_train_score            20 non-null float64\n",
      "dtypes: float64(14), int32(1), object(3)\n",
      "memory usage: 2.8+ KB\n",
      "<class 'pandas.core.frame.DataFrame'>\n",
      "Int64Index: 20 entries, 0 to 19\n",
      "Data columns (total 18 columns):\n",
      "mean_fit_time              20 non-null float64\n",
      "std_fit_time               20 non-null float64\n",
      "mean_score_time            20 non-null float64\n",
      "std_score_time             20 non-null float64\n",
      "param_logistic__C          20 non-null object\n",
      "param_logistic__penalty    20 non-null object\n",
      "params                     20 non-null object\n",
      "split0_test_score          20 non-null float64\n",
      "split1_test_score          20 non-null float64\n",
      "split2_test_score          20 non-null float64\n",
      "mean_test_score            20 non-null float64\n",
      "std_test_score             20 non-null float64\n",
      "rank_test_score            20 non-null int32\n",
      "split0_train_score         20 non-null float64\n",
      "split1_train_score         20 non-null float64\n",
      "split2_train_score         20 non-null float64\n",
      "mean_train_score           20 non-null float64\n",
      "std_train_score            20 non-null float64\n",
      "dtypes: float64(14), int32(1), object(3)\n",
      "memory usage: 2.9+ KB\n"
     ]
    },
    {
     "data": {
      "text/plain": [
       "count    20.000000\n",
       "mean      0.788391\n",
       "std       0.077187\n",
       "min       0.465997\n",
       "25%       0.802358\n",
       "50%       0.812329\n",
       "75%       0.812974\n",
       "max       0.812998\n",
       "Name: mean_test_score, dtype: float64"
      ]
     },
     "execution_count": 14,
     "metadata": {},
     "output_type": "execute_result"
    }
   ],
   "source": [
    "results.info()\n",
    "results.mean_test_score.describe()\n",
    "\n",
    "results2 = results[results.mean_test_score > 0].copy()\n",
    "results2.info()\n",
    "results2.mean_test_score.describe()"
   ]
  },
  {
   "cell_type": "code",
   "execution_count": 15,
   "metadata": {},
   "outputs": [
    {
     "name": "stdout",
     "output_type": "stream",
     "text": [
      "AxesSubplot(0.125,0.125;0.775x0.755)\n"
     ]
    },
    {
     "data": {
      "image/png": "[encoded data removed]",
      "text/plain": [
       "<Figure size 432x288 with 1 Axes>"
      ]
     },
     "metadata": {
      "needs_background": "light"
     },
     "output_type": "display_data"
    }
   ],
   "source": [
    "results2 = results[results.mean_test_score > 0]\n",
    "#sns.set(style='darkgrid')\n",
    "p1a = sns.lineplot(x=\"param_logistic__C\", y=\"mean_test_score\", data=results2, ci=None)\n",
    "print(p1a)"
   ]
  },
  {
   "cell_type": "code",
   "execution_count": 16,
   "metadata": {},
   "outputs": [
    {
     "name": "stdout",
     "output_type": "stream",
     "text": [
      "[(0, 0.5)]\n"
     ]
    },
    {
     "data": {
      "image/png": "[encoded data removed]",
      "text/plain": [
       "<Figure size 432x288 with 1 Axes>"
      ]
     },
     "metadata": {
      "needs_background": "light"
     },
     "output_type": "display_data"
    }
   ],
   "source": [
    "p1b = sns.lineplot(x=\"param_logistic__C\", y=\"mean_test_score\", data=results2, ci=None).set(xlim=(0,0.5))\n",
    "print(p1b)"
   ]
  },
  {
   "cell_type": "code",
   "execution_count": 17,
   "metadata": {},
   "outputs": [
    {
     "name": "stdout",
     "output_type": "stream",
     "text": [
      "AxesSubplot(0.125,0.125;0.775x0.755)\n"
     ]
    },
    {
     "data": {
      "image/png": "[encoded data removed]",
      "text/plain": [
       "<Figure size 432x288 with 1 Axes>"
      ]
     },
     "metadata": {
      "needs_background": "light"
     },
     "output_type": "display_data"
    }
   ],
   "source": [
    "p2 = sns.boxplot(x=\"param_logistic__penalty\", y=\"mean_test_score\", data=results2)\n",
    "print(p2)"
   ]
  },
  {
   "cell_type": "code",
   "execution_count": 18,
   "metadata": {},
   "outputs": [
    {
     "data": {
      "text/plain": [
       "array([1.00000000e-04, 4.64158883e-04, 2.15443469e-03, 1.00000000e-02,\n",
       "       4.64158883e-02, 2.15443469e-01, 1.00000000e+00, 4.64158883e+00,\n",
       "       2.15443469e+01, 1.00000000e+02])"
      ]
     },
     "execution_count": 18,
     "metadata": {},
     "output_type": "execute_result"
    }
   ],
   "source": [
    "np.logspace(-4, 2, 10)"
   ]
  },
  {
   "cell_type": "markdown",
   "metadata": {},
   "source": [
    "## Support Vector Machine"
   ]
  },
  {
   "cell_type": "code",
   "execution_count": 19,
   "metadata": {},
   "outputs": [],
   "source": [
    "from sklearn.svm import SVC\n",
    "?SVC"
   ]
  },
  {
   "cell_type": "code",
   "execution_count": 20,
   "metadata": {
    "scrolled": true
   },
   "outputs": [],
   "source": [
    "### THIS TAKES LIKE 2 HOURS to RUN\n",
    "\n",
    "param_grid_svm = {\n",
    "    'C': np.logspace(-4, 1, 10),\n",
    "    'gamma': [0.001, 0.01, 0.1, 1],\n",
    "    'kernel': ['linear', 'rbf']\n",
    "}\n",
    "#search = GridSearchCV(SVC(), param_grid_svm, n_jobs=-1,error_score=0.0,scoring='accuracy')\n",
    "#search.fit(X_train, y_train.values.ravel())\n",
    "#print(\"Best parameter (Accuracy score=%0.3f):\" % search.best_score_)\n",
    "#print(search.best_params_)\n",
    "#results = pd.DataFrame(search.cv_results_)\n",
    "#results"
   ]
  },
  {
   "cell_type": "code",
   "execution_count": 21,
   "metadata": {},
   "outputs": [],
   "source": [
    "#import pickle as pickle\n",
    "#with open('svm_search.pkl', 'wb') as output:\n",
    "#    pickle.dump(search, output, pickle.HIGHEST_PROTOCOL)\n"
   ]
  },
  {
   "cell_type": "code",
   "execution_count": 22,
   "metadata": {},
   "outputs": [
    {
     "ename": "FileNotFoundError",
     "evalue": "[Errno 2] No such file or directory: 'svm_search.pkl'",
     "output_type": "error",
     "traceback": [
      "\u001b[0;31m---------------------------------------------------------------------------\u001b[0m",
      "\u001b[0;31mFileNotFoundError\u001b[0m                         Traceback (most recent call last)",
      "\u001b[0;32m<ipython-input-22-76cdaf9192ae>\u001b[0m in \u001b[0;36m<module>\u001b[0;34m\u001b[0m\n\u001b[1;32m      1\u001b[0m \u001b[0;32mimport\u001b[0m \u001b[0mpickle\u001b[0m \u001b[0;32mas\u001b[0m \u001b[0mpickle\u001b[0m\u001b[0;34m\u001b[0m\u001b[0m\n\u001b[0;32m----> 2\u001b[0;31m \u001b[0;32mwith\u001b[0m \u001b[0mopen\u001b[0m\u001b[0;34m(\u001b[0m\u001b[0;34m'svm_search.pkl'\u001b[0m\u001b[0;34m,\u001b[0m \u001b[0;34m'rb'\u001b[0m\u001b[0;34m)\u001b[0m \u001b[0;32mas\u001b[0m \u001b[0minput\u001b[0m\u001b[0;34m:\u001b[0m\u001b[0;34m\u001b[0m\u001b[0m\n\u001b[0m\u001b[1;32m      3\u001b[0m     \u001b[0msearch\u001b[0m \u001b[0;34m=\u001b[0m \u001b[0mpickle\u001b[0m\u001b[0;34m.\u001b[0m\u001b[0mload\u001b[0m\u001b[0;34m(\u001b[0m\u001b[0minput\u001b[0m\u001b[0;34m)\u001b[0m\u001b[0;34m\u001b[0m\u001b[0m\n\u001b[1;32m      4\u001b[0m \u001b[0mprint\u001b[0m\u001b[0;34m(\u001b[0m\u001b[0;34m\"Best parameter (Accuracy score=%0.3f):\"\u001b[0m \u001b[0;34m%\u001b[0m \u001b[0msearch\u001b[0m\u001b[0;34m.\u001b[0m\u001b[0mbest_score_\u001b[0m\u001b[0;34m)\u001b[0m\u001b[0;34m\u001b[0m\u001b[0m\n\u001b[1;32m      5\u001b[0m \u001b[0mprint\u001b[0m\u001b[0;34m(\u001b[0m\u001b[0msearch\u001b[0m\u001b[0;34m.\u001b[0m\u001b[0mbest_params_\u001b[0m\u001b[0;34m)\u001b[0m\u001b[0;34m\u001b[0m\u001b[0m\n",
      "\u001b[0;31mFileNotFoundError\u001b[0m: [Errno 2] No such file or directory: 'svm_search.pkl'"
     ]
    }
   ],
   "source": [
    "import pickle as pickle\n",
    "with open('svm_search.pkl', 'rb') as input:\n",
    "    search = pickle.load(input)\n",
    "print(\"Best parameter (Accuracy score=%0.3f):\" % search.best_score_)\n",
    "print(search.best_params_)\n",
    "results = pd.DataFrame(search.cv_results_)\n",
    "results"
   ]
  },
  {
   "cell_type": "code",
   "execution_count": null,
   "metadata": {
    "scrolled": true
   },
   "outputs": [],
   "source": [
    "results2 = results[results.mean_test_score > 0]\n",
    "#sns.set(style='darkgrid')\n",
    "p1a = sns.lineplot(x=\"param_C\", y=\"mean_test_score\", data=results2, ci=None)"
   ]
  },
  {
   "cell_type": "code",
   "execution_count": null,
   "metadata": {},
   "outputs": [],
   "source": [
    "p2 = sns.lineplot(x=\"param_gamma\", y=\"mean_test_score\", data=results2, ci=None)\n",
    "print(p2)"
   ]
  },
  {
   "cell_type": "code",
   "execution_count": null,
   "metadata": {},
   "outputs": [],
   "source": [
    "p3 = sns.boxplot(x=\"param_kernel\", y=\"mean_test_score\", data=results2)\n",
    "print(p3)"
   ]
  },
  {
   "cell_type": "markdown",
   "metadata": {},
   "source": [
    "<a id=\"ModelAdvantages\"></a>\n",
    "# Model Advantages"
   ]
  },
  {
   "cell_type": "markdown",
   "metadata": {},
   "source": [
    "[10] Discuss the advantages of each model for each classification task. Does one type of model offer superior performance over another in terms of prediction accuracy? In terms of training time or efficiency? Explain in detail."
   ]
  },
  {
   "cell_type": "markdown",
   "metadata": {},
   "source": [
    "<a id=\"InterpretFeatureImportance\"></a>\n",
    "# Interpret Feature Importance"
   ]
  },
  {
   "cell_type": "code",
   "execution_count": 105,
   "metadata": {
    "scrolled": false
   },
   "outputs": [
    {
     "data": {
      "image/png": "[encoded data removed]",
      "text/plain": [
       "<Figure size 432x288 with 1 Axes>"
      ]
     },
     "metadata": {
      "needs_background": "light"
     },
     "output_type": "display_data"
    },
    {
     "data": {
      "image/png": "[encoded data removed]",
      "text/plain": [
       "<Figure size 432x288 with 2 Axes>"
      ]
     },
     "metadata": {
      "needs_background": "light"
     },
     "output_type": "display_data"
    },
    {
     "data": {
      "image/png": "[encoded data removed]",
      "text/plain": [
       "<Figure size 432x288 with 1 Axes>"
      ]
     },
     "metadata": {
      "needs_background": "light"
     },
     "output_type": "display_data"
    },
    {
     "data": {
      "image/png": "[encoded data removed]",
      "text/plain": [
       "<Figure size 432x288 with 1 Axes>"
      ]
     },
     "metadata": {
      "needs_background": "light"
     },
     "output_type": "display_data"
    },
    {
     "data": {
      "image/png": "[encoded data removed]",
      "text/plain": [
       "<Figure size 432x288 with 1 Axes>"
      ]
     },
     "metadata": {
      "needs_background": "light"
     },
     "output_type": "display_data"
    },
    {
     "name": "stdout",
     "output_type": "stream",
     "text": [
      "Logit (all features) Accuracy 0.83644\n",
      "[[ 0.00606718 -0.29010409 -2.57662735 -0.36214841 -0.10661302 -0.03394661\n",
      "   0.08452795  0.54506993  0.07333885  0.         -0.28816473  0.5330242\n",
      "   0.05552924 -0.05640904  0.17649525  0.36882858 -0.02084018  0.27442696\n",
      "  -0.16861926 -0.42333355  0.20622754  0.13334594 -2.06137864]]\n"
     ]
    }
   ],
   "source": [
    "best_logistic = LogisticRegression(\n",
    "    C = search.best_params_['logistic__C'],\n",
    "    penalty=search.best_params_['logistic__penalty'],\n",
    "    fit_intercept=True\n",
    ")\n",
    "best_logistic.fit(X_train, y_train.values.ravel())\n",
    "cutoffs_lgrg_all, scores_lgrg_all = analyze_classifier(best_logistic, X_train,\n",
    "                                                       X_test, y_train, y_test)\n",
    "predict_logit_all = best_logistic.predict(X_test)\n",
    "prob_logit_all = best_logistic.predict_proba(X_test)\n",
    "acc_logit_all = round(accuracy_score(y_test, predict_logit_all), 5)\n",
    "print(f'Logit (all features) Accuracy {acc_logit_all}')\n",
    "print(best_logistic.coef_)"
   ]
  },
  {
   "cell_type": "markdown",
   "metadata": {},
   "source": [
    "# [30] Use the weights from logistic regression to interpret the importance of different features for the classification task. Explain your interpretation in detail. Why do you think some variables are more important?\n",
    "\n",
    "https://stats.idre.ucla.edu/other/mult-pkg/faq/general/faq-how-do-i-interpret-odds-ratios-in-logistic-regression/\n",
    "\n",
    "\n",
    "Regression coefficients in LogisticRegression are the log odds of predicting class True/1/Positive class ('Shared Room') over False/0/Negative ('Entire Home/Apt') class.\n",
    "\n",
    "In this case - any feature that has a negative OddsRatio (Beta) - will tilt tilt the prediction towards the negative class by the amount exp^Beta-1.\n",
    "\n",
    "\n",
    "### Continuous:\n",
    "Hence increases in one unit of price increases the likelihood of predicting the false class ('Entire Home/Apt') by 92%. Inuitively, this makes sense, it is more expensive to rent an entire home than a shared room. Minimum nights and longitude were also variables where increases in value tilted predictions towards the negative class. availability_365 is a continuous predictor that tilts predictions towards the positive class. This also makes sense, since on average, availaibility_365 was higher for shared_rooms over Entire/Home apt\n",
    "\n",
    "### Categorical:\n",
    "For categroical variables, the most predictive feature was 'Staten Island' (87% increase in odds for the False class) - this is also somewhat intuitive - given that the class balance between Shared Room and Entire Home/Apt was had the least imbalance in Staten Island vs the other boroughs. \n",
    "\n"
   ]
  },
  {
   "cell_type": "code",
   "execution_count": 107,
   "metadata": {},
   "outputs": [
    {
     "data": {
      "text/html": [
       "<div>\n",
       "<style scoped>\n",
       "    .dataframe tbody tr th:only-of-type {\n",
       "        vertical-align: middle;\n",
       "    }\n",
       "\n",
       "    .dataframe tbody tr th {\n",
       "        vertical-align: top;\n",
       "    }\n",
       "\n",
       "    .dataframe thead th {\n",
       "        text-align: right;\n",
       "    }\n",
       "</style>\n",
       "<table border=\"1\" class=\"dataframe\">\n",
       "  <thead>\n",
       "    <tr style=\"text-align: right;\">\n",
       "      <th></th>\n",
       "      <th>OddsRatio</th>\n",
       "      <th>OddsChangePerUnitIncrease</th>\n",
       "    </tr>\n",
       "  </thead>\n",
       "  <tbody>\n",
       "    <tr>\n",
       "      <th>price</th>\n",
       "      <td>-2.576627</td>\n",
       "      <td>-0.923970</td>\n",
       "    </tr>\n",
       "    <tr>\n",
       "      <th>neighbourhood_group_Staten Island</th>\n",
       "      <td>-2.061379</td>\n",
       "      <td>-0.872722</td>\n",
       "    </tr>\n",
       "    <tr>\n",
       "      <th>availability_365</th>\n",
       "      <td>0.545070</td>\n",
       "      <td>0.724729</td>\n",
       "    </tr>\n",
       "    <tr>\n",
       "      <th>cnt_private_room</th>\n",
       "      <td>0.533024</td>\n",
       "      <td>0.704078</td>\n",
       "    </tr>\n",
       "    <tr>\n",
       "      <th>neighbourhood_group_Brooklyn</th>\n",
       "      <td>-0.423334</td>\n",
       "      <td>-0.345140</td>\n",
       "    </tr>\n",
       "    <tr>\n",
       "      <th>avgprice_private_room</th>\n",
       "      <td>0.368829</td>\n",
       "      <td>0.446040</td>\n",
       "    </tr>\n",
       "    <tr>\n",
       "      <th>minimum_nights</th>\n",
       "      <td>-0.362148</td>\n",
       "      <td>-0.303821</td>\n",
       "    </tr>\n",
       "    <tr>\n",
       "      <th>longitude</th>\n",
       "      <td>-0.290104</td>\n",
       "      <td>-0.251814</td>\n",
       "    </tr>\n",
       "    <tr>\n",
       "      <th>cnt_entire_home</th>\n",
       "      <td>-0.288165</td>\n",
       "      <td>-0.250362</td>\n",
       "    </tr>\n",
       "    <tr>\n",
       "      <th>days_since_last_review</th>\n",
       "      <td>0.274427</td>\n",
       "      <td>0.315776</td>\n",
       "    </tr>\n",
       "    <tr>\n",
       "      <th>neighbourhood_group_Manhattan</th>\n",
       "      <td>0.206228</td>\n",
       "      <td>0.229033</td>\n",
       "    </tr>\n",
       "    <tr>\n",
       "      <th>avgprice_entire_home</th>\n",
       "      <td>0.176495</td>\n",
       "      <td>0.193029</td>\n",
       "    </tr>\n",
       "    <tr>\n",
       "      <th>neighbourhood_group_Bronx</th>\n",
       "      <td>-0.168619</td>\n",
       "      <td>-0.155169</td>\n",
       "    </tr>\n",
       "    <tr>\n",
       "      <th>neighbourhood_group_Queens</th>\n",
       "      <td>0.133346</td>\n",
       "      <td>0.142645</td>\n",
       "    </tr>\n",
       "    <tr>\n",
       "      <th>number_of_reviews</th>\n",
       "      <td>-0.106613</td>\n",
       "      <td>-0.101127</td>\n",
       "    </tr>\n",
       "    <tr>\n",
       "      <th>calculated_host_listings_count</th>\n",
       "      <td>0.084528</td>\n",
       "      <td>0.088203</td>\n",
       "    </tr>\n",
       "    <tr>\n",
       "      <th>dist_subway</th>\n",
       "      <td>0.073339</td>\n",
       "      <td>0.076095</td>\n",
       "    </tr>\n",
       "    <tr>\n",
       "      <th>avgprice_all</th>\n",
       "      <td>-0.056409</td>\n",
       "      <td>-0.054848</td>\n",
       "    </tr>\n",
       "    <tr>\n",
       "      <th>cnt_shared_room</th>\n",
       "      <td>0.055529</td>\n",
       "      <td>0.057100</td>\n",
       "    </tr>\n",
       "    <tr>\n",
       "      <th>reviews_per_month</th>\n",
       "      <td>-0.033947</td>\n",
       "      <td>-0.033377</td>\n",
       "    </tr>\n",
       "    <tr>\n",
       "      <th>avgprice_shared_room</th>\n",
       "      <td>-0.020840</td>\n",
       "      <td>-0.020625</td>\n",
       "    </tr>\n",
       "    <tr>\n",
       "      <th>latitude</th>\n",
       "      <td>0.006067</td>\n",
       "      <td>0.006086</td>\n",
       "    </tr>\n",
       "    <tr>\n",
       "      <th>cnt_all</th>\n",
       "      <td>0.000000</td>\n",
       "      <td>0.000000</td>\n",
       "    </tr>\n",
       "  </tbody>\n",
       "</table>\n",
       "</div>"
      ],
      "text/plain": [
       "                                   OddsRatio  OddsChangePerUnitIncrease\n",
       "price                              -2.576627                  -0.923970\n",
       "neighbourhood_group_Staten Island  -2.061379                  -0.872722\n",
       "availability_365                    0.545070                   0.724729\n",
       "cnt_private_room                    0.533024                   0.704078\n",
       "neighbourhood_group_Brooklyn       -0.423334                  -0.345140\n",
       "avgprice_private_room               0.368829                   0.446040\n",
       "minimum_nights                     -0.362148                  -0.303821\n",
       "longitude                          -0.290104                  -0.251814\n",
       "cnt_entire_home                    -0.288165                  -0.250362\n",
       "days_since_last_review              0.274427                   0.315776\n",
       "neighbourhood_group_Manhattan       0.206228                   0.229033\n",
       "avgprice_entire_home                0.176495                   0.193029\n",
       "neighbourhood_group_Bronx          -0.168619                  -0.155169\n",
       "neighbourhood_group_Queens          0.133346                   0.142645\n",
       "number_of_reviews                  -0.106613                  -0.101127\n",
       "calculated_host_listings_count      0.084528                   0.088203\n",
       "dist_subway                         0.073339                   0.076095\n",
       "avgprice_all                       -0.056409                  -0.054848\n",
       "cnt_shared_room                     0.055529                   0.057100\n",
       "reviews_per_month                  -0.033947                  -0.033377\n",
       "avgprice_shared_room               -0.020840                  -0.020625\n",
       "latitude                            0.006067                   0.006086\n",
       "cnt_all                             0.000000                   0.000000"
      ]
     },
     "execution_count": 107,
     "metadata": {},
     "output_type": "execute_result"
    }
   ],
   "source": [
    "odds = pd.DataFrame(best_logistic.coef_[0], index=X_train.columns).rename(columns={0:'OddsRatio'})\n",
    "odds['OddsChangePerUnitIncrease'] = np.exp(odds.OddsRatio) - 1\n",
    "odds.reindex(odds.OddsRatio.abs().sort_values(ascending=False).index)"
   ]
  },
  {
   "cell_type": "code",
   "execution_count": 131,
   "metadata": {},
   "outputs": [
    {
     "data": {
      "text/html": [
       "<div>\n",
       "<style scoped>\n",
       "    .dataframe tbody tr th:only-of-type {\n",
       "        vertical-align: middle;\n",
       "    }\n",
       "\n",
       "    .dataframe tbody tr th {\n",
       "        vertical-align: top;\n",
       "    }\n",
       "\n",
       "    .dataframe thead th {\n",
       "        text-align: right;\n",
       "    }\n",
       "</style>\n",
       "<table border=\"1\" class=\"dataframe\">\n",
       "  <thead>\n",
       "    <tr style=\"text-align: right;\">\n",
       "      <th></th>\n",
       "      <th>price</th>\n",
       "    </tr>\n",
       "    <tr>\n",
       "      <th>room_type</th>\n",
       "      <th></th>\n",
       "    </tr>\n",
       "  </thead>\n",
       "  <tbody>\n",
       "    <tr>\n",
       "      <th>Entire home/apt</th>\n",
       "      <td>155.974602</td>\n",
       "    </tr>\n",
       "    <tr>\n",
       "      <th>Private room</th>\n",
       "      <td>79.464975</td>\n",
       "    </tr>\n",
       "  </tbody>\n",
       "</table>\n",
       "</div>"
      ],
      "text/plain": [
       "                      price\n",
       "room_type                  \n",
       "Entire home/apt  155.974602\n",
       "Private room      79.464975"
      ]
     },
     "execution_count": 131,
     "metadata": {},
     "output_type": "execute_result"
    }
   ],
   "source": [
    "data_final.groupby(['room_type'])[['price']].mean()"
   ]
  },
  {
   "cell_type": "code",
   "execution_count": 132,
   "metadata": {},
   "outputs": [
    {
     "data": {
      "text/html": [
       "<div>\n",
       "<style scoped>\n",
       "    .dataframe tbody tr th:only-of-type {\n",
       "        vertical-align: middle;\n",
       "    }\n",
       "\n",
       "    .dataframe tbody tr th {\n",
       "        vertical-align: top;\n",
       "    }\n",
       "\n",
       "    .dataframe thead th {\n",
       "        text-align: right;\n",
       "    }\n",
       "</style>\n",
       "<table border=\"1\" class=\"dataframe\">\n",
       "  <thead>\n",
       "    <tr style=\"text-align: right;\">\n",
       "      <th></th>\n",
       "      <th>longitude</th>\n",
       "    </tr>\n",
       "    <tr>\n",
       "      <th>room_type</th>\n",
       "      <th></th>\n",
       "    </tr>\n",
       "  </thead>\n",
       "  <tbody>\n",
       "    <tr>\n",
       "      <th>Entire home/apt</th>\n",
       "      <td>-73.956287</td>\n",
       "    </tr>\n",
       "    <tr>\n",
       "      <th>Private room</th>\n",
       "      <td>-73.942400</td>\n",
       "    </tr>\n",
       "  </tbody>\n",
       "</table>\n",
       "</div>"
      ],
      "text/plain": [
       "                 longitude\n",
       "room_type                 \n",
       "Entire home/apt -73.956287\n",
       "Private room    -73.942400"
      ]
     },
     "execution_count": 132,
     "metadata": {},
     "output_type": "execute_result"
    }
   ],
   "source": [
    "data_final.groupby(['room_type'])[['longitude']].mean()"
   ]
  },
  {
   "cell_type": "code",
   "execution_count": 133,
   "metadata": {},
   "outputs": [
    {
     "data": {
      "text/html": [
       "<div>\n",
       "<style scoped>\n",
       "    .dataframe tbody tr th:only-of-type {\n",
       "        vertical-align: middle;\n",
       "    }\n",
       "\n",
       "    .dataframe tbody tr th {\n",
       "        vertical-align: top;\n",
       "    }\n",
       "\n",
       "    .dataframe thead th {\n",
       "        text-align: right;\n",
       "    }\n",
       "</style>\n",
       "<table border=\"1\" class=\"dataframe\">\n",
       "  <thead>\n",
       "    <tr style=\"text-align: right;\">\n",
       "      <th></th>\n",
       "      <th>minimum_nights</th>\n",
       "    </tr>\n",
       "    <tr>\n",
       "      <th>room_type</th>\n",
       "      <th></th>\n",
       "    </tr>\n",
       "  </thead>\n",
       "  <tbody>\n",
       "    <tr>\n",
       "      <th>Entire home/apt</th>\n",
       "      <td>3.348362</td>\n",
       "    </tr>\n",
       "    <tr>\n",
       "      <th>Private room</th>\n",
       "      <td>2.861419</td>\n",
       "    </tr>\n",
       "  </tbody>\n",
       "</table>\n",
       "</div>"
      ],
      "text/plain": [
       "                 minimum_nights\n",
       "room_type                      \n",
       "Entire home/apt        3.348362\n",
       "Private room           2.861419"
      ]
     },
     "execution_count": 133,
     "metadata": {},
     "output_type": "execute_result"
    }
   ],
   "source": [
    "data_final.groupby(['room_type'])[['minimum_nights']].mean()"
   ]
  },
  {
   "cell_type": "code",
   "execution_count": 134,
   "metadata": {},
   "outputs": [
    {
     "data": {
      "text/html": [
       "<div>\n",
       "<style scoped>\n",
       "    .dataframe tbody tr th:only-of-type {\n",
       "        vertical-align: middle;\n",
       "    }\n",
       "\n",
       "    .dataframe tbody tr th {\n",
       "        vertical-align: top;\n",
       "    }\n",
       "\n",
       "    .dataframe thead th {\n",
       "        text-align: right;\n",
       "    }\n",
       "</style>\n",
       "<table border=\"1\" class=\"dataframe\">\n",
       "  <thead>\n",
       "    <tr style=\"text-align: right;\">\n",
       "      <th></th>\n",
       "      <th>availability_365</th>\n",
       "    </tr>\n",
       "    <tr>\n",
       "      <th>room_type</th>\n",
       "      <th></th>\n",
       "    </tr>\n",
       "  </thead>\n",
       "  <tbody>\n",
       "    <tr>\n",
       "      <th>Entire home/apt</th>\n",
       "      <td>84.608153</td>\n",
       "    </tr>\n",
       "    <tr>\n",
       "      <th>Private room</th>\n",
       "      <td>104.195013</td>\n",
       "    </tr>\n",
       "  </tbody>\n",
       "</table>\n",
       "</div>"
      ],
      "text/plain": [
       "                 availability_365\n",
       "room_type                        \n",
       "Entire home/apt         84.608153\n",
       "Private room           104.195013"
      ]
     },
     "execution_count": 134,
     "metadata": {},
     "output_type": "execute_result"
    }
   ],
   "source": [
    "data_final.groupby(['room_type'])[['availability_365']].mean()"
   ]
  },
  {
   "cell_type": "code",
   "execution_count": 109,
   "metadata": {},
   "outputs": [
    {
     "data": {
      "text/html": [
       "<div>\n",
       "<style scoped>\n",
       "    .dataframe tbody tr th:only-of-type {\n",
       "        vertical-align: middle;\n",
       "    }\n",
       "\n",
       "    .dataframe tbody tr th {\n",
       "        vertical-align: top;\n",
       "    }\n",
       "\n",
       "    .dataframe thead th {\n",
       "        text-align: right;\n",
       "    }\n",
       "</style>\n",
       "<table border=\"1\" class=\"dataframe\">\n",
       "  <thead>\n",
       "    <tr style=\"text-align: right;\">\n",
       "      <th></th>\n",
       "      <th></th>\n",
       "      <th>room_type</th>\n",
       "    </tr>\n",
       "    <tr>\n",
       "      <th>neighbourhood_group</th>\n",
       "      <th>room_type</th>\n",
       "      <th></th>\n",
       "    </tr>\n",
       "  </thead>\n",
       "  <tbody>\n",
       "    <tr>\n",
       "      <th rowspan=\"2\" valign=\"top\">Bronx</th>\n",
       "      <th>Entire home/apt</th>\n",
       "      <td>337</td>\n",
       "    </tr>\n",
       "    <tr>\n",
       "      <th>Private room</th>\n",
       "      <td>621</td>\n",
       "    </tr>\n",
       "    <tr>\n",
       "      <th rowspan=\"2\" valign=\"top\">Brooklyn</th>\n",
       "      <th>Entire home/apt</th>\n",
       "      <td>8011</td>\n",
       "    </tr>\n",
       "    <tr>\n",
       "      <th>Private room</th>\n",
       "      <td>9369</td>\n",
       "    </tr>\n",
       "    <tr>\n",
       "      <th rowspan=\"2\" valign=\"top\">Manhattan</th>\n",
       "      <th>Entire home/apt</th>\n",
       "      <td>8361</td>\n",
       "    </tr>\n",
       "    <tr>\n",
       "      <th>Private room</th>\n",
       "      <td>7187</td>\n",
       "    </tr>\n",
       "    <tr>\n",
       "      <th rowspan=\"2\" valign=\"top\">Queens</th>\n",
       "      <th>Entire home/apt</th>\n",
       "      <td>1877</td>\n",
       "    </tr>\n",
       "    <tr>\n",
       "      <th>Private room</th>\n",
       "      <td>3060</td>\n",
       "    </tr>\n",
       "    <tr>\n",
       "      <th rowspan=\"2\" valign=\"top\">Staten Island</th>\n",
       "      <th>Entire home/apt</th>\n",
       "      <td>156</td>\n",
       "    </tr>\n",
       "    <tr>\n",
       "      <th>Private room</th>\n",
       "      <td>177</td>\n",
       "    </tr>\n",
       "  </tbody>\n",
       "</table>\n",
       "</div>"
      ],
      "text/plain": [
       "                                     room_type\n",
       "neighbourhood_group room_type                 \n",
       "Bronx               Entire home/apt        337\n",
       "                    Private room           621\n",
       "Brooklyn            Entire home/apt       8011\n",
       "                    Private room          9369\n",
       "Manhattan           Entire home/apt       8361\n",
       "                    Private room          7187\n",
       "Queens              Entire home/apt       1877\n",
       "                    Private room          3060\n",
       "Staten Island       Entire home/apt        156\n",
       "                    Private room           177"
      ]
     },
     "execution_count": 109,
     "metadata": {},
     "output_type": "execute_result"
    }
   ],
   "source": [
    "data_final.groupby(['neighbourhood_group','room_type'])[['room_type']].count()"
   ]
  },
  {
   "cell_type": "markdown",
   "metadata": {},
   "source": [
    "<a id=\"InterpretSupportVectors\"></a>\n",
    "# Interpret Support Vectors"
   ]
  },
  {
   "cell_type": "markdown",
   "metadata": {},
   "source": [
    "[10] Look at the chosen support vectors for the classification task. Do these provide any insight into the data? Explain. If you used stochastic gradient descent (and therefore did not explicitly solve for support vectors), try subsampling your data to train the SVC model— then analyze the support vectors from the subsampled dataset."
   ]
  },
  {
   "cell_type": "markdown",
   "metadata": {},
   "source": [
    "<a id=\"Conclusion\"></a>\n",
    "# Conclusion"
   ]
  },
  {
   "cell_type": "code",
   "execution_count": null,
   "metadata": {},
   "outputs": [],
   "source": [
    "#\n",
    "#\n",
    "#\n",
    "#\n",
    "#\n",
    "#\n",
    "#\n",
    "#\n",
    "#\n",
    "#\n",
    "#\n",
    "#\n",
    "#\n",
    "#\n",
    "#\n",
    "#"
   ]
  }
 ],
 "metadata": {
  "kernelspec": {
   "display_name": "Python 3",
   "language": "python",
   "name": "python3"
  },
  "language_info": {
   "codemirror_mode": {
    "name": "ipython",
    "version": 3
   },
   "file_extension": ".py",
   "mimetype": "text/x-python",
   "name": "python",
   "nbconvert_exporter": "python",
   "pygments_lexer": "ipython3",
   "version": "3.6.1"
  }
 },
 "nbformat": 4,
 "nbformat_minor": 2
}
