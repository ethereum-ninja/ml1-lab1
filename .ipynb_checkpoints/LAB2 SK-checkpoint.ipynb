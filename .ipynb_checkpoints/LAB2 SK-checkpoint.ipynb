{
 "cells": [
  {
   "cell_type": "markdown",
   "metadata": {},
   "source": [
    "# Datamining 7331 Lab 2: Analysis of Airbnb data using Classification and Regression\n",
    "\n",
    "By: William Arnost, Stephen Johnson, Sean Kennedy, Tazeb Abera"
   ]
  },
  {
   "cell_type": "markdown",
   "metadata": {},
   "source": [
    "## Introduction\n",
    "\n",
    "In this notebook we will be predicting the room type and price features from the Airbnb data set using different algorithms. \n",
    "\n",
    "Room type can take 3 values: 'Private room', 'Entire home/apt', and 'Shared room'. We will drop shared room and focus on the other two classes. Room type by itself might not be a useful thing to predict, but we are hoping this can teach us something about our data for a future price prediction exercise. \n",
    "\n",
    "[Describe Price]\n",
    "\n",
    "[Describe other main topics]"
   ]
  },
  {
   "cell_type": "markdown",
   "metadata": {},
   "source": [
    "## Contents\n",
    "<link1>\n",
    "<link2>\n",
    "<...>"
   ]
  },
  {
   "cell_type": "markdown",
   "metadata": {},
   "source": [
    "## Data Preparation Part 1"
   ]
  },
  {
   "cell_type": "markdown",
   "metadata": {},
   "source": [
    "### Define and prepare your class variables. Use proper variable representations (int, float, one-hot, etc.). Use pre-processing methods (as needed) for dimensionality reduction, scaling, etc. Remove variables that are not needed/useful for the analysis."
   ]
  },
  {
   "cell_type": "markdown",
   "metadata": {},
   "source": [
    "### Package Loading"
   ]
  },
  {
   "cell_type": "code",
   "execution_count": 75,
   "metadata": {},
   "outputs": [],
   "source": [
    "import pandas as pd\n",
    "import numpy as np\n",
    "import matplotlib.pyplot as plt\n",
    "import datetime as dt\n",
    "import seaborn as sns\n",
    "\n",
    "#sns.set(style=\"ticks\", color_codes=True)\n",
    "# sklearn stuff\n",
    "from sklearn.naive_bayes import GaussianNB\n",
    "from sklearn.linear_model import LogisticRegression, LinearRegression, SGDClassifier\n",
    "from sklearn.ensemble import RandomForestClassifier\n",
    "from sklearn.model_selection import train_test_split, GridSearchCV, StratifiedShuffleSplit\n",
    "from sklearn.preprocessing import StandardScaler, OneHotEncoder\n",
    "from sklearn.metrics import accuracy_score, confusion_matrix, roc_curve, roc_auc_score\n",
    "from sklearn.decomposition import PCA\n",
    "from sklearn.pipeline import Pipeline\n",
    "from sklearn.model_selection import StratifiedShuffleSplit\n",
    "\n",
    "\n",
    "\n",
    "#yellobrick stuff\n",
    "from yellowbrick.classifier import ConfusionMatrix, DiscriminationThreshold, PrecisionRecallCurve, ClassificationReport, ClassPredictionError, ROCAUC\n",
    "from yellowbrick.target import ClassBalance\n",
    "import warnings\n",
    "warnings.simplefilter(action='ignore', category=FutureWarning)"
   ]
  },
  {
   "cell_type": "markdown",
   "metadata": {},
   "source": [
    "### Define Functions for model analysis"
   ]
  },
  {
   "cell_type": "code",
   "execution_count": 86,
   "metadata": {},
   "outputs": [],
   "source": [
    "def analyze_classifier(model,\n",
    "                       X_train,\n",
    "                       X_test,\n",
    "                       y_train,\n",
    "                       y_test,\n",
    "                       response='Response',\n",
    "                       classes=[0, 1]):\n",
    "    matrix = ConfusionMatrix(model, classes=classes)\n",
    "    matrix.fit(X_train, y_train[response])\n",
    "    matrix.score(X_test, y_test[response])\n",
    "    matrix.show()\n",
    "    class_report = ClassificationReport(model, classes=classes, support=True)\n",
    "    class_report.fit(X_train, y_train[response])\n",
    "    class_report.score(X_test, y_test[response])\n",
    "    class_report.show()\n",
    "    roc_auc = ROCAUC(model, classes=classes)\n",
    "    roc_auc.fit(X_train, y_train[response])\n",
    "    roc_auc.score(X_test, y_test[response])\n",
    "    roc_auc.show()\n",
    "    recall = PrecisionRecallCurve(model)\n",
    "    recall.fit(X_train, y_train)\n",
    "    recall.score(X_test, y_test)\n",
    "    recall.show()\n",
    "    if len(classes) == 2:\n",
    "        disc_thresh = DiscriminationThreshold(model)\n",
    "        disc_thresh.fit(X_train, y_train.values.ravel())\n",
    "        disc_thresh.show()\n",
    "        return disc_thresh.thresholds_, disc_thresh.cv_scores_\n",
    "    else:\n",
    "        return None, None\n",
    "\n",
    "\n",
    "def sklearn_vif(exogs, data):\n",
    "\n",
    "    # initialize dictionaries\n",
    "    vif_dict, tolerance_dict = {}, {}\n",
    "\n",
    "    # form input data for each exogenous variable\n",
    "    for exog in exogs:\n",
    "        #print(exog)\n",
    "        not_exog = [i for i in exogs if i != exog]\n",
    "        #print(not_exog)\n",
    "        X, y = data[not_exog], data[exog]\n",
    "\n",
    "        # extract r-squared from the fit\n",
    "        r_squared = LinearRegression().fit(X, y).score(X, y)\n",
    "\n",
    "        # calculate VIF\n",
    "        vif = 1 / (1 - r_squared)\n",
    "        vif_dict[exog] = vif\n",
    "\n",
    "        # calculate tolerance\n",
    "        tolerance = 1 - r_squared\n",
    "        tolerance_dict[exog] = tolerance\n",
    "\n",
    "    # return VIF DataFrame\n",
    "    df_vif = pd.DataFrame({'VIF': vif_dict, 'Tolerance': tolerance_dict})\n",
    "\n",
    "    return df_vif\n",
    "\n",
    "\n",
    "def compute_new_conf_matrix(predictions, probabilities, cutoff, y_test):\n",
    "    #create a df of predictions and probabilities\n",
    "    predictions = pd.DataFrame(list(predictions), columns=['Predict'])\n",
    "    predicted_probs = pd.concat([\n",
    "        pd.DataFrame(list(probabilities), columns=['ProbFalse', 'ProbTrue']),\n",
    "        predictions\n",
    "    ],\n",
    "                                axis=1)\n",
    "    #make array of values where val > cutoff\n",
    "    predicted_probs['NewPredict'] = predicted_probs['ProbTrue'].apply(\n",
    "        lambda x: 1 if x >= cutoff else 0)\n",
    "    matrix = pd.DataFrame(confusion_matrix(y_test, predicted_probs.NewPredict))\n",
    "    matrix.rename(columns={\n",
    "        0: 'No_Predicted',\n",
    "        1: 'Yes_Predicted'\n",
    "    },\n",
    "                  index={\n",
    "                      0: 'No_True',\n",
    "                      1: 'Yes_True'\n",
    "                  },\n",
    "                  inplace=True)\n",
    "    return round(accuracy_score(y_test, predicted_probs.NewPredict),\n",
    "                 5), matrix, predicted_probs\n",
    "\n",
    "\n",
    "def transform_data(X_train, X_test, y_train, y_test):\n",
    "    #OH encode\n",
    "    label_encode = [\n",
    "        x for x, y in dict(X_train.dtypes).items()\n",
    "        if type(y) == pd.CategoricalDtype\n",
    "    ]\n",
    "    for var in label_encode:\n",
    "        #impute to Mode\n",
    "        print(f\"{var} was OHE'd\")\n",
    "        X_train[var].fillna(X_train[var].mode()[0], inplace=True)\n",
    "        X_test[var].fillna(X_train[var].mode()[0], inplace=True)\n",
    "        cat_list_train = pd.get_dummies(X_train[var], prefix=var)\n",
    "        cat_list_test = pd.get_dummies(X_test[var], prefix=var)\n",
    "        X_train_new = X_train.join(cat_list_train)\n",
    "        X_train = X_train_new\n",
    "        X_test_new = X_test.join(cat_list_test)\n",
    "        X_test = X_test_new\n",
    "\n",
    "    normalize = [x for x, y in dict(X_train.dtypes).items() if y == np.float64]\n",
    "    for col in normalize:\n",
    "        #change impution scheme?\n",
    "        print(f\"{col} was Standard Scaled\")\n",
    "        X_train[col].fillna(X_train[col].median(), inplace=True)\n",
    "        X_test[col].fillna(X_train[col].median(), inplace=True)\n",
    "        normalizer = StandardScaler()\n",
    "        ar_train = X_train[col].to_numpy().reshape(-1, 1)\n",
    "        normalizer.fit(ar_train)\n",
    "        X_train.loc[:, col] = normalizer.transform(ar_train)\n",
    "        ar_test = X_test[col].to_numpy().reshape(-1, 1).copy()\n",
    "        X_test.loc[:, col] = normalizer.transform(ar_test)\n",
    "\n",
    "    X_train.drop(columns=label_encode, inplace=True)\n",
    "    X_test.drop(columns=label_encode, inplace=True)\n",
    "    X_train.drop(columns=target_col, inplace=True)\n",
    "    X_test.drop(columns=target_col, inplace=True)\n",
    "    \n",
    "    return X_train, X_test, y_train, y_test"
   ]
  },
  {
   "cell_type": "markdown",
   "metadata": {},
   "source": [
    "### Read in the data"
   ]
  },
  {
   "cell_type": "code",
   "execution_count": 77,
   "metadata": {
    "scrolled": true
   },
   "outputs": [
    {
     "name": "stdout",
     "output_type": "stream",
     "text": [
      "{'id': 48895, 'name': 47897, 'host_id': 37457, 'host_name': 11453, 'neighbourhood_group': 5, 'neighbourhood': 221, 'latitude': 19048, 'longitude': 14718, 'room_type': 3, 'price': 674, 'minimum_nights': 109, 'number_of_reviews': 394, 'last_review': 1765, 'reviews_per_month': 938, 'calculated_host_listings_count': 47, 'availability_365': 366, 'ZIP': 199, 'dist_subway': 46157, 'cnt_all': 133, 'cnt_entire_home': 95, 'cnt_private_room': 74, 'cnt_shared_room': 14, 'avgprice_all': 1912, 'avgprice_entire_home': 1409, 'avgprice_private_room': 1309, 'avgprice_shared_room': 219}\n"
     ]
    },
    {
     "data": {
      "text/html": [
       "<div>\n",
       "<style scoped>\n",
       "    .dataframe tbody tr th:only-of-type {\n",
       "        vertical-align: middle;\n",
       "    }\n",
       "\n",
       "    .dataframe tbody tr th {\n",
       "        vertical-align: top;\n",
       "    }\n",
       "\n",
       "    .dataframe thead th {\n",
       "        text-align: right;\n",
       "    }\n",
       "</style>\n",
       "<table border=\"1\" class=\"dataframe\">\n",
       "  <thead>\n",
       "    <tr style=\"text-align: right;\">\n",
       "      <th></th>\n",
       "      <th>id</th>\n",
       "      <th>host_id</th>\n",
       "      <th>latitude</th>\n",
       "      <th>longitude</th>\n",
       "      <th>price</th>\n",
       "      <th>minimum_nights</th>\n",
       "      <th>number_of_reviews</th>\n",
       "      <th>reviews_per_month</th>\n",
       "      <th>calculated_host_listings_count</th>\n",
       "      <th>availability_365</th>\n",
       "      <th>ZIP</th>\n",
       "      <th>dist_subway</th>\n",
       "      <th>cnt_all</th>\n",
       "      <th>cnt_entire_home</th>\n",
       "      <th>cnt_private_room</th>\n",
       "      <th>cnt_shared_room</th>\n",
       "      <th>avgprice_all</th>\n",
       "      <th>avgprice_entire_home</th>\n",
       "      <th>avgprice_private_room</th>\n",
       "      <th>avgprice_shared_room</th>\n",
       "    </tr>\n",
       "  </thead>\n",
       "  <tbody>\n",
       "    <tr>\n",
       "      <th>count</th>\n",
       "      <td>4.889500e+04</td>\n",
       "      <td>4.889500e+04</td>\n",
       "      <td>48895.000000</td>\n",
       "      <td>48895.000000</td>\n",
       "      <td>48895.000000</td>\n",
       "      <td>48895.000000</td>\n",
       "      <td>48895.000000</td>\n",
       "      <td>38843.000000</td>\n",
       "      <td>48895.000000</td>\n",
       "      <td>48895.000000</td>\n",
       "      <td>48871.000000</td>\n",
       "      <td>48895.000000</td>\n",
       "      <td>48895.000000</td>\n",
       "      <td>48895.000000</td>\n",
       "      <td>48895.000000</td>\n",
       "      <td>48895.000000</td>\n",
       "      <td>48895.000000</td>\n",
       "      <td>48895.000000</td>\n",
       "      <td>48895.000000</td>\n",
       "      <td>48895.000000</td>\n",
       "    </tr>\n",
       "    <tr>\n",
       "      <th>mean</th>\n",
       "      <td>1.901714e+07</td>\n",
       "      <td>6.762001e+07</td>\n",
       "      <td>40.728949</td>\n",
       "      <td>-73.952170</td>\n",
       "      <td>152.720687</td>\n",
       "      <td>7.029962</td>\n",
       "      <td>23.274466</td>\n",
       "      <td>1.373221</td>\n",
       "      <td>7.143982</td>\n",
       "      <td>112.781327</td>\n",
       "      <td>10675.111211</td>\n",
       "      <td>0.245997</td>\n",
       "      <td>52.815768</td>\n",
       "      <td>29.719726</td>\n",
       "      <td>22.013396</td>\n",
       "      <td>1.082646</td>\n",
       "      <td>152.703409</td>\n",
       "      <td>191.493067</td>\n",
       "      <td>98.024409</td>\n",
       "      <td>40.581520</td>\n",
       "    </tr>\n",
       "    <tr>\n",
       "      <th>std</th>\n",
       "      <td>1.098311e+07</td>\n",
       "      <td>7.861097e+07</td>\n",
       "      <td>0.054530</td>\n",
       "      <td>0.046157</td>\n",
       "      <td>240.154170</td>\n",
       "      <td>20.510550</td>\n",
       "      <td>44.550582</td>\n",
       "      <td>1.680442</td>\n",
       "      <td>32.952519</td>\n",
       "      <td>131.622289</td>\n",
       "      <td>599.591915</td>\n",
       "      <td>0.346640</td>\n",
       "      <td>43.303548</td>\n",
       "      <td>29.254144</td>\n",
       "      <td>18.668278</td>\n",
       "      <td>2.615105</td>\n",
       "      <td>90.678742</td>\n",
       "      <td>114.468382</td>\n",
       "      <td>73.981026</td>\n",
       "      <td>93.479089</td>\n",
       "    </tr>\n",
       "    <tr>\n",
       "      <th>min</th>\n",
       "      <td>2.539000e+03</td>\n",
       "      <td>2.438000e+03</td>\n",
       "      <td>40.499790</td>\n",
       "      <td>-74.244420</td>\n",
       "      <td>0.000000</td>\n",
       "      <td>1.000000</td>\n",
       "      <td>0.000000</td>\n",
       "      <td>0.010000</td>\n",
       "      <td>1.000000</td>\n",
       "      <td>0.000000</td>\n",
       "      <td>10001.000000</td>\n",
       "      <td>0.000553</td>\n",
       "      <td>0.000000</td>\n",
       "      <td>0.000000</td>\n",
       "      <td>0.000000</td>\n",
       "      <td>0.000000</td>\n",
       "      <td>0.000000</td>\n",
       "      <td>0.000000</td>\n",
       "      <td>0.000000</td>\n",
       "      <td>0.000000</td>\n",
       "    </tr>\n",
       "    <tr>\n",
       "      <th>25%</th>\n",
       "      <td>9.471945e+06</td>\n",
       "      <td>7.822033e+06</td>\n",
       "      <td>40.690100</td>\n",
       "      <td>-73.983070</td>\n",
       "      <td>69.000000</td>\n",
       "      <td>1.000000</td>\n",
       "      <td>1.000000</td>\n",
       "      <td>0.190000</td>\n",
       "      <td>1.000000</td>\n",
       "      <td>0.000000</td>\n",
       "      <td>10024.000000</td>\n",
       "      <td>0.103457</td>\n",
       "      <td>20.000000</td>\n",
       "      <td>8.000000</td>\n",
       "      <td>7.000000</td>\n",
       "      <td>0.000000</td>\n",
       "      <td>94.812500</td>\n",
       "      <td>137.250000</td>\n",
       "      <td>64.500000</td>\n",
       "      <td>0.000000</td>\n",
       "    </tr>\n",
       "    <tr>\n",
       "      <th>50%</th>\n",
       "      <td>1.967728e+07</td>\n",
       "      <td>3.079382e+07</td>\n",
       "      <td>40.723070</td>\n",
       "      <td>-73.955680</td>\n",
       "      <td>106.000000</td>\n",
       "      <td>3.000000</td>\n",
       "      <td>5.000000</td>\n",
       "      <td>0.720000</td>\n",
       "      <td>1.000000</td>\n",
       "      <td>45.000000</td>\n",
       "      <td>11104.000000</td>\n",
       "      <td>0.173022</td>\n",
       "      <td>43.000000</td>\n",
       "      <td>20.000000</td>\n",
       "      <td>17.000000</td>\n",
       "      <td>0.000000</td>\n",
       "      <td>135.208333</td>\n",
       "      <td>180.850000</td>\n",
       "      <td>83.666667</td>\n",
       "      <td>0.000000</td>\n",
       "    </tr>\n",
       "    <tr>\n",
       "      <th>75%</th>\n",
       "      <td>2.915218e+07</td>\n",
       "      <td>1.074344e+08</td>\n",
       "      <td>40.763115</td>\n",
       "      <td>-73.936275</td>\n",
       "      <td>175.000000</td>\n",
       "      <td>5.000000</td>\n",
       "      <td>24.000000</td>\n",
       "      <td>2.020000</td>\n",
       "      <td>2.000000</td>\n",
       "      <td>227.000000</td>\n",
       "      <td>11221.000000</td>\n",
       "      <td>0.269066</td>\n",
       "      <td>73.000000</td>\n",
       "      <td>42.000000</td>\n",
       "      <td>33.000000</td>\n",
       "      <td>1.000000</td>\n",
       "      <td>189.000000</td>\n",
       "      <td>231.264463</td>\n",
       "      <td>111.500000</td>\n",
       "      <td>60.000000</td>\n",
       "    </tr>\n",
       "    <tr>\n",
       "      <th>max</th>\n",
       "      <td>3.648724e+07</td>\n",
       "      <td>2.743213e+08</td>\n",
       "      <td>40.913060</td>\n",
       "      <td>-73.712990</td>\n",
       "      <td>10000.000000</td>\n",
       "      <td>1250.000000</td>\n",
       "      <td>629.000000</td>\n",
       "      <td>58.500000</td>\n",
       "      <td>327.000000</td>\n",
       "      <td>365.000000</td>\n",
       "      <td>11697.000000</td>\n",
       "      <td>4.931115</td>\n",
       "      <td>230.000000</td>\n",
       "      <td>142.000000</td>\n",
       "      <td>91.000000</td>\n",
       "      <td>26.000000</td>\n",
       "      <td>5000.000000</td>\n",
       "      <td>5000.000000</td>\n",
       "      <td>3000.000000</td>\n",
       "      <td>1800.000000</td>\n",
       "    </tr>\n",
       "  </tbody>\n",
       "</table>\n",
       "</div>"
      ],
      "text/plain": [
       "                 id       host_id      latitude     longitude         price  \\\n",
       "count  4.889500e+04  4.889500e+04  48895.000000  48895.000000  48895.000000   \n",
       "mean   1.901714e+07  6.762001e+07     40.728949    -73.952170    152.720687   \n",
       "std    1.098311e+07  7.861097e+07      0.054530      0.046157    240.154170   \n",
       "min    2.539000e+03  2.438000e+03     40.499790    -74.244420      0.000000   \n",
       "25%    9.471945e+06  7.822033e+06     40.690100    -73.983070     69.000000   \n",
       "50%    1.967728e+07  3.079382e+07     40.723070    -73.955680    106.000000   \n",
       "75%    2.915218e+07  1.074344e+08     40.763115    -73.936275    175.000000   \n",
       "max    3.648724e+07  2.743213e+08     40.913060    -73.712990  10000.000000   \n",
       "\n",
       "       minimum_nights  number_of_reviews  reviews_per_month  \\\n",
       "count    48895.000000       48895.000000       38843.000000   \n",
       "mean         7.029962          23.274466           1.373221   \n",
       "std         20.510550          44.550582           1.680442   \n",
       "min          1.000000           0.000000           0.010000   \n",
       "25%          1.000000           1.000000           0.190000   \n",
       "50%          3.000000           5.000000           0.720000   \n",
       "75%          5.000000          24.000000           2.020000   \n",
       "max       1250.000000         629.000000          58.500000   \n",
       "\n",
       "       calculated_host_listings_count  availability_365           ZIP  \\\n",
       "count                    48895.000000      48895.000000  48871.000000   \n",
       "mean                         7.143982        112.781327  10675.111211   \n",
       "std                         32.952519        131.622289    599.591915   \n",
       "min                          1.000000          0.000000  10001.000000   \n",
       "25%                          1.000000          0.000000  10024.000000   \n",
       "50%                          1.000000         45.000000  11104.000000   \n",
       "75%                          2.000000        227.000000  11221.000000   \n",
       "max                        327.000000        365.000000  11697.000000   \n",
       "\n",
       "        dist_subway       cnt_all  cnt_entire_home  cnt_private_room  \\\n",
       "count  48895.000000  48895.000000     48895.000000      48895.000000   \n",
       "mean       0.245997     52.815768        29.719726         22.013396   \n",
       "std        0.346640     43.303548        29.254144         18.668278   \n",
       "min        0.000553      0.000000         0.000000          0.000000   \n",
       "25%        0.103457     20.000000         8.000000          7.000000   \n",
       "50%        0.173022     43.000000        20.000000         17.000000   \n",
       "75%        0.269066     73.000000        42.000000         33.000000   \n",
       "max        4.931115    230.000000       142.000000         91.000000   \n",
       "\n",
       "       cnt_shared_room  avgprice_all  avgprice_entire_home  \\\n",
       "count     48895.000000  48895.000000          48895.000000   \n",
       "mean          1.082646    152.703409            191.493067   \n",
       "std           2.615105     90.678742            114.468382   \n",
       "min           0.000000      0.000000              0.000000   \n",
       "25%           0.000000     94.812500            137.250000   \n",
       "50%           0.000000    135.208333            180.850000   \n",
       "75%           1.000000    189.000000            231.264463   \n",
       "max          26.000000   5000.000000           5000.000000   \n",
       "\n",
       "       avgprice_private_room  avgprice_shared_room  \n",
       "count           48895.000000          48895.000000  \n",
       "mean               98.024409             40.581520  \n",
       "std                73.981026             93.479089  \n",
       "min                 0.000000              0.000000  \n",
       "25%                64.500000              0.000000  \n",
       "50%                83.666667              0.000000  \n",
       "75%               111.500000             60.000000  \n",
       "max              3000.000000           1800.000000  "
      ]
     },
     "execution_count": 77,
     "metadata": {},
     "output_type": "execute_result"
    }
   ],
   "source": [
    "data = pd.read_csv('ABNB_NY_V2.csv')\n",
    "summary = data.describe()\n",
    "print({x: len(data[x].unique()) for x in data.columns})\n",
    "summary"
   ]
  },
  {
   "cell_type": "markdown",
   "metadata": {},
   "source": [
    "### Type Conversion"
   ]
  },
  {
   "cell_type": "code",
   "execution_count": 78,
   "metadata": {},
   "outputs": [],
   "source": [
    "data['price'] = data['price'].astype('float')\n",
    "data['minimum_nights'] = data['minimum_nights'].astype('float')\n",
    "data['number_of_reviews'] = data['number_of_reviews'].astype('float')\n",
    "data['calculated_host_listings_count'] = data[\n",
    "    'calculated_host_listings_count'].astype('float')\n",
    "data['availability_365'] = data['availability_365'].astype('float')\n",
    "data['dist_subway'] = data['dist_subway'].astype('float')\n",
    "data['cnt_all'] = data['cnt_all'].astype('float')\n",
    "data['cnt_all'] = data['cnt_all'].astype('float')\n",
    "data['cnt_entire_home'] = data['cnt_entire_home'].astype('float')\n",
    "data['cnt_private_room'] = data['cnt_private_room'].astype('float')\n",
    "data['cnt_shared_room'] = data['cnt_shared_room'].astype('float')\n",
    "data['avgprice_all'] = data['avgprice_all'].astype('float')\n",
    "data['avgprice_entire_home'] = data['avgprice_entire_home'].astype('float')\n",
    "data['avgprice_private_room'] = data['avgprice_private_room'].astype('float')\n",
    "data['avgprice_shared_room'] = data['avgprice_shared_room'].astype('float')\n",
    "data['neighbourhood_group'] = data['neighbourhood_group'].astype('category')\n",
    "data['neighbourhood'] = data['neighbourhood'].astype('category')\n",
    "data['ZIP'] = data['ZIP'].astype('category')\n",
    "data['last_review'] = pd.to_datetime(data['last_review'])\n",
    "\n",
    "data['days_since_last_review'] = (\n",
    "    dt.datetime.strptime('2020-01-01', '%Y-%m-%d') -\n",
    "    data['last_review']).dt.days\n",
    "data.days_since_last_review.fillna(data.days_since_last_review.max(),\n",
    "                                   inplace=True)\n",
    "data.drop(columns=['last_review'], inplace=True)"
   ]
  },
  {
   "cell_type": "markdown",
   "metadata": {},
   "source": [
    "### Remove Outliers"
   ]
  },
  {
   "cell_type": "code",
   "execution_count": 79,
   "metadata": {},
   "outputs": [],
   "source": [
    "data = data[data.price != 0].copy()\n",
    "data = data[data.price < 300].copy()\n",
    "data = data[data.minimum_nights <= 20].copy()"
   ]
  },
  {
   "cell_type": "code",
   "execution_count": 80,
   "metadata": {},
   "outputs": [],
   "source": [
    "idx = data[data['room_type'] == 'Shared room'].index\n",
    "data.drop(idx , inplace=True)"
   ]
  },
  {
   "cell_type": "markdown",
   "metadata": {},
   "source": [
    "### Encode Target Variable"
   ]
  },
  {
   "cell_type": "code",
   "execution_count": 81,
   "metadata": {},
   "outputs": [],
   "source": [
    "target_col = 'room_type'\n",
    "room_types = {'Entire home/apt': 0, 'Private room': 1}\n",
    "data['Response'] = data.apply(lambda x: room_types[x.room_type], axis=1)"
   ]
  },
  {
   "cell_type": "markdown",
   "metadata": {},
   "source": [
    "### Drop Columns that won't be used in modeling"
   ]
  },
  {
   "cell_type": "code",
   "execution_count": 82,
   "metadata": {},
   "outputs": [],
   "source": [
    "data.drop(\n",
    "    columns=['id', 'name', 'host_id', 'host_name', 'neighbourhood', 'ZIP'],\n",
    "    inplace=True)"
   ]
  },
  {
   "cell_type": "markdown",
   "metadata": {},
   "source": [
    "### Feature / Target Split"
   ]
  },
  {
   "cell_type": "code",
   "execution_count": 83,
   "metadata": {},
   "outputs": [
    {
     "data": {
      "text/plain": [
       "((39156, 20), (39156, 1))"
      ]
     },
     "execution_count": 83,
     "metadata": {},
     "output_type": "execute_result"
    }
   ],
   "source": [
    "data_final = data\n",
    "features, target = data_final.drop(\n",
    "    columns=['Response']), data_final.loc[:, ['Response']]\n",
    "features.shape, target.shape"
   ]
  },
  {
   "cell_type": "markdown",
   "metadata": {},
   "source": [
    "## Modeling and Evaluation 1"
   ]
  },
  {
   "cell_type": "markdown",
   "metadata": {},
   "source": [
    "- Choose and explain your evaluation metrics that you will use (i.e., accuracy, precision, recall, F-measure, or any metric we have discussed). Why are the measure(s) appropriate for analyzing the results of your modeling? Give a detailed explanation backing up any assertions.\n"
   ]
  },
  {
   "cell_type": "markdown",
   "metadata": {},
   "source": [
    "## Modeling and Evaluation 2"
   ]
  },
  {
   "cell_type": "markdown",
   "metadata": {},
   "source": [
    "- Choose the method you will use for dividing your data into training and testing splits (i.e., are you using Stratified 10-fold cross validation? Why?). Explain why your chosen method is appropriate or use more than one method as appropriate. For example, if you are using time series data then you should be using continuous training and testing sets across time.\n"
   ]
  },
  {
   "cell_type": "markdown",
   "metadata": {},
   "source": [
    "### Train Test Split\n",
    "\n",
    "- For classification, we will start with a simple **5-fold StratifiedShuffleSplit 80/20** train/test split of our data. In this case we are looking to ensure that our classes are balanced (i.e have the same probability of being observed as they do in the dataset as a whole). The StratifiedKFold object in sklearn is designed to maintain class balance across all folds. From the **Yellowbrick ClassBalance** bar charts below, we can see that our classes are nearly perfectly balanced in our training and testing sets across all folds.\n",
    "\n",
    "\n",
    "- After each train/test split is created, we will transform the data (OHE and normalization/impution) before passing the train/test sets to the classifier."
   ]
  },
  {
   "cell_type": "code",
   "execution_count": 74,
   "metadata": {
    "scrolled": true
   },
   "outputs": [
    {
     "name": "stdout",
     "output_type": "stream",
     "text": [
      "31324, 31324\n",
      "7832, 7832\n",
      "31324, 31324\n",
      "7832, 7832\n",
      "31324, 31324\n",
      "7832, 7832\n",
      "31324, 31324\n",
      "7832, 7832\n",
      "31324, 31324\n",
      "7832, 7832\n"
     ]
    },
    {
     "data": {
      "image/png": "[encoded data removed]",
      "text/plain": [
       "<Figure size 2160x432 with 5 Axes>"
      ]
     },
     "metadata": {},
     "output_type": "display_data"
    }
   ],
   "source": [
    "n_splits = 5\n",
    "cv = StratifiedShuffleSplit(n_splits,test_size=.2, train_size=.8, random_state=5)\n",
    "support = []\n",
    "fold = 0\n",
    "fig, ax = plt.subplots(1, 5, sharey=True, figsize=(30, 6))\n",
    "\n",
    "for trainidx, testidx in cv.split(features, target):\n",
    "    X_train = features.iloc[trainidx] \n",
    "    X_test = features.iloc[testidx] \n",
    "    y_train = target.iloc[trainidx]\n",
    "    y_test = target.iloc[testidx]\n",
    "    classes_test = ClassBalance(labels=['Entire home/apt', 'Private room'], ax=ax[fold])\n",
    "    classes_test.fit(y_train['Response'], y_test['Response'])\n",
    "    support.append(classes_test.support_)\n",
    "    fold = fold + 1\n",
    "    #print(f'{len(X_train)}, {len(y_train)}')\n",
    "    #print(f'{len(X_test)}, {len(y_test)}')"
   ]
  },
  {
   "cell_type": "markdown",
   "metadata": {},
   "source": [
    "## Modeling and Evaluation 3"
   ]
  },
  {
   "cell_type": "markdown",
   "metadata": {},
   "source": [
    "- Create three different classification/regression models for each task (e.g., random forest, KNN, and SVM for task one and the same or different algorithms for task two). Two modeling techniques must be new (but the third could be SVM or logistic regression). Adjust parameters as appropriate to increase generalization performance using your chosen metric. You must investigate different parameters of the algorithms!"
   ]
  },
  {
   "cell_type": "markdown",
   "metadata": {},
   "source": [
    "## Modeling and Evaluation 4"
   ]
  },
  {
   "cell_type": "markdown",
   "metadata": {},
   "source": [
    "- Analyze the results using your chosen method of evaluation. Use visualizations of the results to bolster the analysis. Explain any visuals and analyze why they are interesting to someone that might use this model."
   ]
  },
  {
   "cell_type": "markdown",
   "metadata": {},
   "source": [
    "## Modeling and Evaluation 5"
   ]
  },
  {
   "cell_type": "markdown",
   "metadata": {},
   "source": [
    "- Discuss the advantages of each model for each classification task, if any. If there are not advantages, explain why. Is any model better than another? Is the difference significant with 95% confidence? Use proper statistical comparison methods. You must use statistical comparison techniques—be sure they are appropriate for your chosen method of validation as discussed in unit 7 of the course."
   ]
  },
  {
   "cell_type": "markdown",
   "metadata": {},
   "source": [
    "## Modeling and Evaluation 6"
   ]
  },
  {
   "cell_type": "markdown",
   "metadata": {},
   "source": [
    "- Which attributes from your analysis are most important? Use proper methods discussed in class to evaluate the importance of different attributes. Discuss the results and hypothesize about why certain attributes are more important than others for a given classification task."
   ]
  }
 ],
 "metadata": {
  "kernelspec": {
   "display_name": "Python 3",
   "language": "python",
   "name": "python3"
  },
  "language_info": {
   "codemirror_mode": {
    "name": "ipython",
    "version": 3
   },
   "file_extension": ".py",
   "mimetype": "text/x-python",
   "name": "python",
   "nbconvert_exporter": "python",
   "pygments_lexer": "ipython3",
   "version": "3.6.1"
  }
 },
 "nbformat": 4,
 "nbformat_minor": 2
}
