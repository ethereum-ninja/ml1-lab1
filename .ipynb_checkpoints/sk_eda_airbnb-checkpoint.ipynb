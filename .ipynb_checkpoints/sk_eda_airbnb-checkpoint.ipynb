{
 "cells": [
  {
   "cell_type": "code",
   "execution_count": null,
   "metadata": {
    "pycharm": {
     "is_executing": false
    }
   },
   "outputs": [],
   "source": [
    "import pandas as pd\n",
    "import numpy as np\n",
    "import matplotlib.pyplot as plt \n",
    "import datetime as dt\n",
    "# sklearn stuff\n",
    "from sklearn.naive_bayes import GaussianNB\n",
    "from sklearn.linear_model import LogisticRegression, LinearRegression\n",
    "from sklearn.ensemble import RandomForestClassifier\n",
    "from sklearn.model_selection import train_test_split, GridSearchCV\n",
    "from sklearn.preprocessing import StandardScaler, OneHotEncoder\n",
    "from sklearn.metrics import accuracy_score, confusion_matrix, roc_curve, roc_auc_score\n",
    "from sklearn.decomposition import PCA\n",
    "from sklearn.pipeline import Pipeline\n",
    "\n",
    "#yellobrick stuff\n",
    "from yellowbrick.classifier import ConfusionMatrix, DiscriminationThreshold, PrecisionRecallCurve, ClassificationReport, ClassPredictionError, ROCAUC\n",
    "from yellowbrick.target import ClassBalance\n",
    "import warnings\n",
    "warnings.simplefilter(action='ignore', category=FutureWarning)"
   ]
  },
  {
   "cell_type": "code",
   "execution_count": null,
   "metadata": {},
   "outputs": [],
   "source": [
    "def imply_season(month):\n",
    "    return 'Summer' if month in [12, 1, 2] else 'Fall' if month in [3, 4, 5] else 'Spring' if month in [9, 10, 11] else 'Winter' \n",
    "\n",
    "def analyze_classifier(model, X_train, X_test, y_train, y_test, response='Response', classes=[0, 1]):\n",
    "    matrix = ConfusionMatrix(model, classes=classes)\n",
    "    matrix.fit(X_train, y_train[response])\n",
    "    matrix.score(X_test, y_test[response])\n",
    "    matrix.show()\n",
    "    class_report = ClassificationReport(model, classes=classes, support=True)\n",
    "    class_report.fit(X_train, y_train[response])\n",
    "    class_report.score(X_test, y_test[response])\n",
    "    class_report.show()\n",
    "    roc_auc = ROCAUC(model, classes=classes)\n",
    "    roc_auc.fit(X_train, y_train[response])\n",
    "    roc_auc.score(X_test, y_test[response])\n",
    "    roc_auc.show()\n",
    "    disc_thresh = DiscriminationThreshold(model)\n",
    "    disc_thresh.fit(X_train, y_train.values.ravel())\n",
    "    disc_thresh.show()\n",
    "    recall = PrecisionRecallCurve(model)\n",
    "    recall.fit(X_train, y_train)\n",
    "    recall.score(X_test, y_test)\n",
    "    recall.show()\n",
    "    return disc_thresh.thresholds_, disc_thresh.cv_scores_\n",
    "\n",
    "def sklearn_vif(exogs, data):\n",
    "\n",
    "    # initialize dictionaries\n",
    "    vif_dict, tolerance_dict = {}, {}\n",
    "\n",
    "    # form input data for each exogenous variable\n",
    "    for exog in exogs:\n",
    "        #print(exog)\n",
    "        not_exog = [i for i in exogs if i != exog]\n",
    "        #print(not_exog)\n",
    "        X, y = data[not_exog], data[exog]\n",
    "\n",
    "        # extract r-squared from the fit\n",
    "        r_squared = LinearRegression().fit(X, y).score(X, y)\n",
    "\n",
    "        # calculate VIF\n",
    "        vif = 1/(1 - r_squared)\n",
    "        vif_dict[exog] = vif\n",
    "\n",
    "        # calculate tolerance\n",
    "        tolerance = 1 - r_squared\n",
    "        tolerance_dict[exog] = tolerance\n",
    "\n",
    "    # return VIF DataFrame\n",
    "    df_vif = pd.DataFrame({'VIF': vif_dict, 'Tolerance': tolerance_dict})\n",
    "\n",
    "    return df_vif\n",
    "\n",
    "def compute_new_conf_matrix(predictions, probabilities, cutoff, y_test):\n",
    "    #create a df of predictions and probabilities\n",
    "    predictions = pd.DataFrame(list(predictions), columns=['Predict'])\n",
    "    predicted_probs = pd.concat([pd.DataFrame(list(probabilities), columns=['ProbFalse', 'ProbTrue']), predictions], axis=1)\n",
    "    #make array of values where val > cutoff\n",
    "    predicted_probs['NewPredict'] = predicted_probs['ProbTrue'].apply(lambda x: 1 if x >= cutoff else 0)\n",
    "    matrix = pd.DataFrame(confusion_matrix(y_test, predicted_probs.NewPredict))\n",
    "    matrix.rename(columns={0:'No_Predicted',\n",
    "                            1:'Yes_Predicted'}, \n",
    "                  index={0:'No_True',\n",
    "                            1:'Yes_True'},\n",
    "                  inplace=True)\n",
    "    return round(accuracy_score(y_test, predicted_probs.NewPredict),5), matrix, predicted_probs\n",
    "    "
   ]
  },
  {
   "cell_type": "markdown",
   "metadata": {},
   "source": [
    "### Load/Clean Data"
   ]
  },
  {
   "cell_type": "code",
   "execution_count": 3,
   "metadata": {},
   "outputs": [
    {
     "name": "stdout",
     "output_type": "stream",
     "text": [
      "{'id': 48895, 'name': 47906, 'host_id': 37457, 'host_name': 11453, 'neighbourhood_group': 5, 'neighbourhood': 221, 'latitude': 19048, 'longitude': 14718, 'room_type': 3, 'price': 674, 'minimum_nights': 109, 'number_of_reviews': 394, 'last_review': 1765, 'reviews_per_month': 938, 'calculated_host_listings_count': 47, 'availability_365': 366}\n"
     ]
    },
    {
     "data": {
      "text/html": [
       "<div>\n",
       "<style scoped>\n",
       "    .dataframe tbody tr th:only-of-type {\n",
       "        vertical-align: middle;\n",
       "    }\n",
       "\n",
       "    .dataframe tbody tr th {\n",
       "        vertical-align: top;\n",
       "    }\n",
       "\n",
       "    .dataframe thead th {\n",
       "        text-align: right;\n",
       "    }\n",
       "</style>\n",
       "<table border=\"1\" class=\"dataframe\">\n",
       "  <thead>\n",
       "    <tr style=\"text-align: right;\">\n",
       "      <th></th>\n",
       "      <th>id</th>\n",
       "      <th>host_id</th>\n",
       "      <th>latitude</th>\n",
       "      <th>longitude</th>\n",
       "      <th>price</th>\n",
       "      <th>minimum_nights</th>\n",
       "      <th>number_of_reviews</th>\n",
       "      <th>reviews_per_month</th>\n",
       "      <th>calculated_host_listings_count</th>\n",
       "      <th>availability_365</th>\n",
       "    </tr>\n",
       "  </thead>\n",
       "  <tbody>\n",
       "    <tr>\n",
       "      <th>count</th>\n",
       "      <td>4.889500e+04</td>\n",
       "      <td>4.889500e+04</td>\n",
       "      <td>48895.000000</td>\n",
       "      <td>48895.000000</td>\n",
       "      <td>48895.000000</td>\n",
       "      <td>48895.000000</td>\n",
       "      <td>48895.000000</td>\n",
       "      <td>38843.000000</td>\n",
       "      <td>48895.000000</td>\n",
       "      <td>48895.000000</td>\n",
       "    </tr>\n",
       "    <tr>\n",
       "      <th>mean</th>\n",
       "      <td>1.901714e+07</td>\n",
       "      <td>6.762001e+07</td>\n",
       "      <td>40.728949</td>\n",
       "      <td>-73.952170</td>\n",
       "      <td>152.720687</td>\n",
       "      <td>7.029962</td>\n",
       "      <td>23.274466</td>\n",
       "      <td>1.373221</td>\n",
       "      <td>7.143982</td>\n",
       "      <td>112.781327</td>\n",
       "    </tr>\n",
       "    <tr>\n",
       "      <th>std</th>\n",
       "      <td>1.098311e+07</td>\n",
       "      <td>7.861097e+07</td>\n",
       "      <td>0.054530</td>\n",
       "      <td>0.046157</td>\n",
       "      <td>240.154170</td>\n",
       "      <td>20.510550</td>\n",
       "      <td>44.550582</td>\n",
       "      <td>1.680442</td>\n",
       "      <td>32.952519</td>\n",
       "      <td>131.622289</td>\n",
       "    </tr>\n",
       "    <tr>\n",
       "      <th>min</th>\n",
       "      <td>2.539000e+03</td>\n",
       "      <td>2.438000e+03</td>\n",
       "      <td>40.499790</td>\n",
       "      <td>-74.244420</td>\n",
       "      <td>0.000000</td>\n",
       "      <td>1.000000</td>\n",
       "      <td>0.000000</td>\n",
       "      <td>0.010000</td>\n",
       "      <td>1.000000</td>\n",
       "      <td>0.000000</td>\n",
       "    </tr>\n",
       "    <tr>\n",
       "      <th>25%</th>\n",
       "      <td>9.471945e+06</td>\n",
       "      <td>7.822033e+06</td>\n",
       "      <td>40.690100</td>\n",
       "      <td>-73.983070</td>\n",
       "      <td>69.000000</td>\n",
       "      <td>1.000000</td>\n",
       "      <td>1.000000</td>\n",
       "      <td>0.190000</td>\n",
       "      <td>1.000000</td>\n",
       "      <td>0.000000</td>\n",
       "    </tr>\n",
       "    <tr>\n",
       "      <th>50%</th>\n",
       "      <td>1.967728e+07</td>\n",
       "      <td>3.079382e+07</td>\n",
       "      <td>40.723070</td>\n",
       "      <td>-73.955680</td>\n",
       "      <td>106.000000</td>\n",
       "      <td>3.000000</td>\n",
       "      <td>5.000000</td>\n",
       "      <td>0.720000</td>\n",
       "      <td>1.000000</td>\n",
       "      <td>45.000000</td>\n",
       "    </tr>\n",
       "    <tr>\n",
       "      <th>75%</th>\n",
       "      <td>2.915218e+07</td>\n",
       "      <td>1.074344e+08</td>\n",
       "      <td>40.763115</td>\n",
       "      <td>-73.936275</td>\n",
       "      <td>175.000000</td>\n",
       "      <td>5.000000</td>\n",
       "      <td>24.000000</td>\n",
       "      <td>2.020000</td>\n",
       "      <td>2.000000</td>\n",
       "      <td>227.000000</td>\n",
       "    </tr>\n",
       "    <tr>\n",
       "      <th>max</th>\n",
       "      <td>3.648724e+07</td>\n",
       "      <td>2.743213e+08</td>\n",
       "      <td>40.913060</td>\n",
       "      <td>-73.712990</td>\n",
       "      <td>10000.000000</td>\n",
       "      <td>1250.000000</td>\n",
       "      <td>629.000000</td>\n",
       "      <td>58.500000</td>\n",
       "      <td>327.000000</td>\n",
       "      <td>365.000000</td>\n",
       "    </tr>\n",
       "  </tbody>\n",
       "</table>\n",
       "</div>"
      ],
      "text/plain": [
       "                 id       host_id      latitude     longitude         price  \\\n",
       "count  4.889500e+04  4.889500e+04  48895.000000  48895.000000  48895.000000   \n",
       "mean   1.901714e+07  6.762001e+07     40.728949    -73.952170    152.720687   \n",
       "std    1.098311e+07  7.861097e+07      0.054530      0.046157    240.154170   \n",
       "min    2.539000e+03  2.438000e+03     40.499790    -74.244420      0.000000   \n",
       "25%    9.471945e+06  7.822033e+06     40.690100    -73.983070     69.000000   \n",
       "50%    1.967728e+07  3.079382e+07     40.723070    -73.955680    106.000000   \n",
       "75%    2.915218e+07  1.074344e+08     40.763115    -73.936275    175.000000   \n",
       "max    3.648724e+07  2.743213e+08     40.913060    -73.712990  10000.000000   \n",
       "\n",
       "       minimum_nights  number_of_reviews  reviews_per_month  \\\n",
       "count    48895.000000       48895.000000       38843.000000   \n",
       "mean         7.029962          23.274466           1.373221   \n",
       "std         20.510550          44.550582           1.680442   \n",
       "min          1.000000           0.000000           0.010000   \n",
       "25%          1.000000           1.000000           0.190000   \n",
       "50%          3.000000           5.000000           0.720000   \n",
       "75%          5.000000          24.000000           2.020000   \n",
       "max       1250.000000         629.000000          58.500000   \n",
       "\n",
       "       calculated_host_listings_count  availability_365  \n",
       "count                    48895.000000      48895.000000  \n",
       "mean                         7.143982        112.781327  \n",
       "std                         32.952519        131.622289  \n",
       "min                          1.000000          0.000000  \n",
       "25%                          1.000000          0.000000  \n",
       "50%                          1.000000         45.000000  \n",
       "75%                          2.000000        227.000000  \n",
       "max                        327.000000        365.000000  "
      ]
     },
     "execution_count": 3,
     "metadata": {},
     "output_type": "execute_result"
    }
   ],
   "source": [
    "data = pd.read_csv('AB_NYC_2019.csv')\n",
    "#data['Month'] = pd.to_datetime(data['Date']).dt.month\n",
    "#data['Season'] =  data['Month'].apply(lambda x: imply_season(x)).astype('category')\n",
    "#data['Month'] = data['Month'].astype('category')\n",
    "#data['Response'] = data['RainTomorrow'].apply(lambda x: 1 if x == 'Yes' else 0) \n",
    "#data['RainTomorrow'] = data['RainTomorrow'].astype('category')\n",
    "#data['WindGustDir'] = data['WindGustDir'].astype('category')\n",
    "#data['WindDir9am'] = data['WindDir9am'].astype('category')\n",
    "#data['WindDir3pm'] = data['WindDir3pm'].astype('category')\n",
    "#data['RainToday'] = data['RainToday'].astype('category')\n",
    "#data['Location'] = data['Location'].astype('category')\n",
    "\n",
    "#OHE wind directions and RainToday (label encoder assumes ordinal?)\n",
    "#data.drop(columns=['Date', 'RISK_MM'], inplace=True)\n",
    "summary = data.describe()\n",
    "print({x:len(data[x].unique()) for x in data.columns})\n",
    "summary"
   ]
  },
  {
   "cell_type": "code",
   "execution_count": 4,
   "metadata": {},
   "outputs": [
    {
     "name": "stdout",
     "output_type": "stream",
     "text": [
      "['Brooklyn' 'Manhattan' 'Queens' 'Staten Island' 'Bronx']\n",
      "['Private room' 'Entire home/apt' 'Shared room']\n"
     ]
    },
    {
     "data": {
      "text/plain": [
       "10052"
      ]
     },
     "execution_count": 4,
     "metadata": {},
     "output_type": "execute_result"
    }
   ],
   "source": [
    "print(data['neighbourhood_group'].unique())\n",
    "print(data['room_type'].unique())\n",
    "len(data[data['last_review'].isna()])"
   ]
  },
  {
   "cell_type": "markdown",
   "metadata": {},
   "source": [
    "### Need to bucket some of these values (too much cardinality)"
   ]
  },
  {
   "cell_type": "code",
   "execution_count": 5,
   "metadata": {
    "scrolled": false
   },
   "outputs": [
    {
     "data": {
      "image/png": "[encoded data removed]",
      "text/plain": [
       "<Figure size 576x396 with 1 Axes>"
      ]
     },
     "metadata": {},
     "output_type": "display_data"
    },
    {
     "data": {
      "image/png": "[encoded data removed]",
      "text/plain": [
       "<Figure size 576x396 with 6 Axes>"
      ]
     },
     "metadata": {},
     "output_type": "display_data"
    }
   ],
   "source": [
    "data[data.reviews_per_month < 10]['reviews_per_month'].hist(bins=10)\n",
    "#appropriate bins are 1, 2, 3, 4, 5\n",
    "data['reviews_per_month'].fillna(0, inplace=True)\n",
    "data['reviews_per_month_cut'] = pd.cut(data.reviews_per_month, bins=range(0,6)\n",
    "                                       , labels=['Less Than One', 'Less Than 2', 'Less Than Three', 'Less Than Four', 'Less Than Five'])\n",
    "data['reviews_per_month_cut'].cat.add_categories(['Greater Than Five'], inplace=True)\n",
    "data.loc[data.reviews_per_month_cut.isna(), ['reviews_per_month_cut']] = 'Greater Than Five'\n",
    "data['price'].hist(by=data['reviews_per_month_cut'])\n",
    "\n",
    "features = ['neighbourhood_group'\n",
    "            , 'neighbourhood'\n",
    "            , 'latitude'\n",
    "            , 'longitude'\n",
    "            , 'price'\n",
    "            , 'minimum_nights'\n",
    "            , 'number_of_reviews'\n",
    "            , 'reviews_per_month'\n",
    "            , 'calculated_host_listings_count'\n",
    "            , 'availability_365']\n",
    "\n",
    "target = 'room_type'\n",
    "data['neighbourhood_group'] = data['neighbourhood_group'].astype('category')\n",
    "data['neighbourhood'] = data['neighbourhood'].astype('category')\n",
    "data['last_review'] = pd.to_datetime(data['last_review'])\n",
    "data['days_since_last_review'] = (dt.datetime.strptime('2020-01-01', '%Y-%m-%d') - data['last_review']).dt.days\n",
    "\n",
    "\n",
    "\n",
    "data.days_since_last_review.fillna(data.days_since_last_review.max(), inplace=True) "
   ]
  },
  {
   "cell_type": "code",
   "execution_count": 6,
   "metadata": {},
   "outputs": [],
   "source": [
    "data.drop(columns=['id', 'name', 'host_id', 'host_name'], inplace=True)"
   ]
  },
  {
   "cell_type": "code",
   "execution_count": 7,
   "metadata": {},
   "outputs": [
    {
     "data": {
      "text/html": [
       "<div>\n",
       "<style scoped>\n",
       "    .dataframe tbody tr th:only-of-type {\n",
       "        vertical-align: middle;\n",
       "    }\n",
       "\n",
       "    .dataframe tbody tr th {\n",
       "        vertical-align: top;\n",
       "    }\n",
       "\n",
       "    .dataframe thead th {\n",
       "        text-align: right;\n",
       "    }\n",
       "</style>\n",
       "<table border=\"1\" class=\"dataframe\">\n",
       "  <thead>\n",
       "    <tr style=\"text-align: right;\">\n",
       "      <th></th>\n",
       "      <th>latitude</th>\n",
       "      <th>longitude</th>\n",
       "      <th>price</th>\n",
       "      <th>minimum_nights</th>\n",
       "      <th>number_of_reviews</th>\n",
       "      <th>reviews_per_month</th>\n",
       "      <th>calculated_host_listings_count</th>\n",
       "      <th>availability_365</th>\n",
       "      <th>days_since_last_review</th>\n",
       "    </tr>\n",
       "  </thead>\n",
       "  <tbody>\n",
       "    <tr>\n",
       "      <th>count</th>\n",
       "      <td>48895.000000</td>\n",
       "      <td>48895.000000</td>\n",
       "      <td>48895.000000</td>\n",
       "      <td>48895.000000</td>\n",
       "      <td>48895.000000</td>\n",
       "      <td>48895.000000</td>\n",
       "      <td>48895.000000</td>\n",
       "      <td>48895.000000</td>\n",
       "      <td>48895.000000</td>\n",
       "    </tr>\n",
       "    <tr>\n",
       "      <th>mean</th>\n",
       "      <td>40.728949</td>\n",
       "      <td>-73.952170</td>\n",
       "      <td>152.720687</td>\n",
       "      <td>7.029962</td>\n",
       "      <td>23.274466</td>\n",
       "      <td>1.090910</td>\n",
       "      <td>7.143982</td>\n",
       "      <td>112.781327</td>\n",
       "      <td>1018.678331</td>\n",
       "    </tr>\n",
       "    <tr>\n",
       "      <th>std</th>\n",
       "      <td>0.054530</td>\n",
       "      <td>0.046157</td>\n",
       "      <td>240.154170</td>\n",
       "      <td>20.510550</td>\n",
       "      <td>44.550582</td>\n",
       "      <td>1.597283</td>\n",
       "      <td>32.952519</td>\n",
       "      <td>131.622289</td>\n",
       "      <td>1169.872743</td>\n",
       "    </tr>\n",
       "    <tr>\n",
       "      <th>min</th>\n",
       "      <td>40.499790</td>\n",
       "      <td>-74.244420</td>\n",
       "      <td>0.000000</td>\n",
       "      <td>1.000000</td>\n",
       "      <td>0.000000</td>\n",
       "      <td>0.000000</td>\n",
       "      <td>1.000000</td>\n",
       "      <td>0.000000</td>\n",
       "      <td>177.000000</td>\n",
       "    </tr>\n",
       "    <tr>\n",
       "      <th>25%</th>\n",
       "      <td>40.690100</td>\n",
       "      <td>-73.983070</td>\n",
       "      <td>69.000000</td>\n",
       "      <td>1.000000</td>\n",
       "      <td>1.000000</td>\n",
       "      <td>0.040000</td>\n",
       "      <td>1.000000</td>\n",
       "      <td>0.000000</td>\n",
       "      <td>196.000000</td>\n",
       "    </tr>\n",
       "    <tr>\n",
       "      <th>50%</th>\n",
       "      <td>40.723070</td>\n",
       "      <td>-73.955680</td>\n",
       "      <td>106.000000</td>\n",
       "      <td>3.000000</td>\n",
       "      <td>5.000000</td>\n",
       "      <td>0.370000</td>\n",
       "      <td>1.000000</td>\n",
       "      <td>45.000000</td>\n",
       "      <td>363.000000</td>\n",
       "    </tr>\n",
       "    <tr>\n",
       "      <th>75%</th>\n",
       "      <td>40.763115</td>\n",
       "      <td>-73.936275</td>\n",
       "      <td>175.000000</td>\n",
       "      <td>5.000000</td>\n",
       "      <td>24.000000</td>\n",
       "      <td>1.580000</td>\n",
       "      <td>2.000000</td>\n",
       "      <td>227.000000</td>\n",
       "      <td>1378.000000</td>\n",
       "    </tr>\n",
       "    <tr>\n",
       "      <th>max</th>\n",
       "      <td>40.913060</td>\n",
       "      <td>-73.712990</td>\n",
       "      <td>10000.000000</td>\n",
       "      <td>1250.000000</td>\n",
       "      <td>629.000000</td>\n",
       "      <td>58.500000</td>\n",
       "      <td>327.000000</td>\n",
       "      <td>365.000000</td>\n",
       "      <td>3201.000000</td>\n",
       "    </tr>\n",
       "  </tbody>\n",
       "</table>\n",
       "</div>"
      ],
      "text/plain": [
       "           latitude     longitude         price  minimum_nights  \\\n",
       "count  48895.000000  48895.000000  48895.000000    48895.000000   \n",
       "mean      40.728949    -73.952170    152.720687        7.029962   \n",
       "std        0.054530      0.046157    240.154170       20.510550   \n",
       "min       40.499790    -74.244420      0.000000        1.000000   \n",
       "25%       40.690100    -73.983070     69.000000        1.000000   \n",
       "50%       40.723070    -73.955680    106.000000        3.000000   \n",
       "75%       40.763115    -73.936275    175.000000        5.000000   \n",
       "max       40.913060    -73.712990  10000.000000     1250.000000   \n",
       "\n",
       "       number_of_reviews  reviews_per_month  calculated_host_listings_count  \\\n",
       "count       48895.000000       48895.000000                    48895.000000   \n",
       "mean           23.274466           1.090910                        7.143982   \n",
       "std            44.550582           1.597283                       32.952519   \n",
       "min             0.000000           0.000000                        1.000000   \n",
       "25%             1.000000           0.040000                        1.000000   \n",
       "50%             5.000000           0.370000                        1.000000   \n",
       "75%            24.000000           1.580000                        2.000000   \n",
       "max           629.000000          58.500000                      327.000000   \n",
       "\n",
       "       availability_365  days_since_last_review  \n",
       "count      48895.000000            48895.000000  \n",
       "mean         112.781327             1018.678331  \n",
       "std          131.622289             1169.872743  \n",
       "min            0.000000              177.000000  \n",
       "25%            0.000000              196.000000  \n",
       "50%           45.000000              363.000000  \n",
       "75%          227.000000             1378.000000  \n",
       "max          365.000000             3201.000000  "
      ]
     },
     "execution_count": 7,
     "metadata": {},
     "output_type": "execute_result"
    }
   ],
   "source": [
    "data.describe()"
   ]
  },
  {
   "cell_type": "code",
   "execution_count": 8,
   "metadata": {},
   "outputs": [],
   "source": [
    "data['price'] = data['price'].astype('float')\n",
    "data['minimum_nights'] = data['minimum_nights'].astype('float')\n",
    "data['number_of_reviews'] = data['number_of_reviews'].astype('float')\n",
    "data['calculated_host_listings_count'] = data['calculated_host_listings_count'].astype('float')\n",
    "data['availability_365'] = data['availability_365'].astype('float')\n"
   ]
  },
  {
   "cell_type": "code",
   "execution_count": 9,
   "metadata": {},
   "outputs": [
    {
     "data": {
      "text/html": [
       "<div>\n",
       "<style scoped>\n",
       "    .dataframe tbody tr th:only-of-type {\n",
       "        vertical-align: middle;\n",
       "    }\n",
       "\n",
       "    .dataframe tbody tr th {\n",
       "        vertical-align: top;\n",
       "    }\n",
       "\n",
       "    .dataframe thead th {\n",
       "        text-align: right;\n",
       "    }\n",
       "</style>\n",
       "<table border=\"1\" class=\"dataframe\">\n",
       "  <thead>\n",
       "    <tr style=\"text-align: right;\">\n",
       "      <th></th>\n",
       "      <th></th>\n",
       "      <th>price</th>\n",
       "    </tr>\n",
       "    <tr>\n",
       "      <th>neighbourhood_group</th>\n",
       "      <th>room_type</th>\n",
       "      <th></th>\n",
       "    </tr>\n",
       "  </thead>\n",
       "  <tbody>\n",
       "    <tr>\n",
       "      <th>Manhattan</th>\n",
       "      <th>Entire home/apt</th>\n",
       "      <td>249.239109</td>\n",
       "    </tr>\n",
       "    <tr>\n",
       "      <th>Brooklyn</th>\n",
       "      <th>Entire home/apt</th>\n",
       "      <td>178.327545</td>\n",
       "    </tr>\n",
       "    <tr>\n",
       "      <th>Staten Island</th>\n",
       "      <th>Entire home/apt</th>\n",
       "      <td>173.846591</td>\n",
       "    </tr>\n",
       "    <tr>\n",
       "      <th>Queens</th>\n",
       "      <th>Entire home/apt</th>\n",
       "      <td>147.050573</td>\n",
       "    </tr>\n",
       "    <tr>\n",
       "      <th>Bronx</th>\n",
       "      <th>Entire home/apt</th>\n",
       "      <td>127.506596</td>\n",
       "    </tr>\n",
       "    <tr>\n",
       "      <th rowspan=\"2\" valign=\"top\">Manhattan</th>\n",
       "      <th>Private room</th>\n",
       "      <td>116.776622</td>\n",
       "    </tr>\n",
       "    <tr>\n",
       "      <th>Shared room</th>\n",
       "      <td>88.977083</td>\n",
       "    </tr>\n",
       "    <tr>\n",
       "      <th>Brooklyn</th>\n",
       "      <th>Private room</th>\n",
       "      <td>76.500099</td>\n",
       "    </tr>\n",
       "    <tr>\n",
       "      <th rowspan=\"2\" valign=\"top\">Queens</th>\n",
       "      <th>Private room</th>\n",
       "      <td>71.762456</td>\n",
       "    </tr>\n",
       "    <tr>\n",
       "      <th>Shared room</th>\n",
       "      <td>69.020202</td>\n",
       "    </tr>\n",
       "    <tr>\n",
       "      <th>Bronx</th>\n",
       "      <th>Private room</th>\n",
       "      <td>66.788344</td>\n",
       "    </tr>\n",
       "    <tr>\n",
       "      <th>Staten Island</th>\n",
       "      <th>Private room</th>\n",
       "      <td>62.292553</td>\n",
       "    </tr>\n",
       "    <tr>\n",
       "      <th>Bronx</th>\n",
       "      <th>Shared room</th>\n",
       "      <td>59.800000</td>\n",
       "    </tr>\n",
       "    <tr>\n",
       "      <th>Staten Island</th>\n",
       "      <th>Shared room</th>\n",
       "      <td>57.444444</td>\n",
       "    </tr>\n",
       "    <tr>\n",
       "      <th>Brooklyn</th>\n",
       "      <th>Shared room</th>\n",
       "      <td>50.527845</td>\n",
       "    </tr>\n",
       "  </tbody>\n",
       "</table>\n",
       "</div>"
      ],
      "text/plain": [
       "                                          price\n",
       "neighbourhood_group room_type                  \n",
       "Manhattan           Entire home/apt  249.239109\n",
       "Brooklyn            Entire home/apt  178.327545\n",
       "Staten Island       Entire home/apt  173.846591\n",
       "Queens              Entire home/apt  147.050573\n",
       "Bronx               Entire home/apt  127.506596\n",
       "Manhattan           Private room     116.776622\n",
       "                    Shared room       88.977083\n",
       "Brooklyn            Private room      76.500099\n",
       "Queens              Private room      71.762456\n",
       "                    Shared room       69.020202\n",
       "Bronx               Private room      66.788344\n",
       "Staten Island       Private room      62.292553\n",
       "Bronx               Shared room       59.800000\n",
       "Staten Island       Shared room       57.444444\n",
       "Brooklyn            Shared room       50.527845"
      ]
     },
     "execution_count": 9,
     "metadata": {},
     "output_type": "execute_result"
    }
   ],
   "source": [
    "data.groupby(['neighbourhood_group', 'room_type'])[['price']].mean().sort_values(['price'], ascending=False)"
   ]
  },
  {
   "cell_type": "code",
   "execution_count": 10,
   "metadata": {
    "scrolled": true
   },
   "outputs": [
    {
     "ename": "KeyError",
     "evalue": "'Location'",
     "output_type": "error",
     "traceback": [
      "\u001b[0;31m---------------------------------------------------------------------------\u001b[0m",
      "\u001b[0;31mKeyError\u001b[0m                                  Traceback (most recent call last)",
      "\u001b[0;32m<ipython-input-10-4f33fc850956>\u001b[0m in \u001b[0;36m<module>\u001b[0;34m\u001b[0m\n\u001b[0;32m----> 1\u001b[0;31m \u001b[0mdata\u001b[0m\u001b[0;34m.\u001b[0m\u001b[0mgroupby\u001b[0m\u001b[0;34m(\u001b[0m\u001b[0;34m[\u001b[0m\u001b[0;34m'Location'\u001b[0m\u001b[0;34m]\u001b[0m\u001b[0;34m)\u001b[0m\u001b[0;34m[\u001b[0m\u001b[0;34m[\u001b[0m\u001b[0;34m'Response'\u001b[0m\u001b[0;34m]\u001b[0m\u001b[0;34m]\u001b[0m\u001b[0;34m.\u001b[0m\u001b[0mmean\u001b[0m\u001b[0;34m(\u001b[0m\u001b[0;34m)\u001b[0m\u001b[0;34m.\u001b[0m\u001b[0msort_values\u001b[0m\u001b[0;34m(\u001b[0m\u001b[0;34m[\u001b[0m\u001b[0;34m'Response'\u001b[0m\u001b[0;34m]\u001b[0m\u001b[0;34m,\u001b[0m \u001b[0mascending\u001b[0m\u001b[0;34m=\u001b[0m\u001b[0;32mFalse\u001b[0m\u001b[0;34m)\u001b[0m\u001b[0;34m.\u001b[0m\u001b[0mhead\u001b[0m\u001b[0;34m(\u001b[0m\u001b[0;36m10\u001b[0m\u001b[0;34m)\u001b[0m\u001b[0;34m\u001b[0m\u001b[0m\n\u001b[0m\u001b[1;32m      2\u001b[0m \u001b[0;31m#let's look for a more logical grouping than location....\u001b[0m\u001b[0;34m\u001b[0m\u001b[0;34m\u001b[0m\u001b[0m\n",
      "\u001b[0;32m~/.local/share/virtualenvs/lab1-1JSoLDP8/lib/python3.6/site-packages/pandas/core/generic.py\u001b[0m in \u001b[0;36mgroupby\u001b[0;34m(self, by, axis, level, as_index, sort, group_keys, squeeze, observed, **kwargs)\u001b[0m\n\u001b[1;32m   7892\u001b[0m             \u001b[0msqueeze\u001b[0m\u001b[0;34m=\u001b[0m\u001b[0msqueeze\u001b[0m\u001b[0;34m,\u001b[0m\u001b[0;34m\u001b[0m\u001b[0m\n\u001b[1;32m   7893\u001b[0m             \u001b[0mobserved\u001b[0m\u001b[0;34m=\u001b[0m\u001b[0mobserved\u001b[0m\u001b[0;34m,\u001b[0m\u001b[0;34m\u001b[0m\u001b[0m\n\u001b[0;32m-> 7894\u001b[0;31m             \u001b[0;34m**\u001b[0m\u001b[0mkwargs\u001b[0m\u001b[0;34m\u001b[0m\u001b[0m\n\u001b[0m\u001b[1;32m   7895\u001b[0m         )\n\u001b[1;32m   7896\u001b[0m \u001b[0;34m\u001b[0m\u001b[0m\n",
      "\u001b[0;32m~/.local/share/virtualenvs/lab1-1JSoLDP8/lib/python3.6/site-packages/pandas/core/groupby/groupby.py\u001b[0m in \u001b[0;36mgroupby\u001b[0;34m(obj, by, **kwds)\u001b[0m\n\u001b[1;32m   2520\u001b[0m         \u001b[0;32mraise\u001b[0m \u001b[0mTypeError\u001b[0m\u001b[0;34m(\u001b[0m\u001b[0;34m\"invalid type: {}\"\u001b[0m\u001b[0;34m.\u001b[0m\u001b[0mformat\u001b[0m\u001b[0;34m(\u001b[0m\u001b[0mobj\u001b[0m\u001b[0;34m)\u001b[0m\u001b[0;34m)\u001b[0m\u001b[0;34m\u001b[0m\u001b[0m\n\u001b[1;32m   2521\u001b[0m \u001b[0;34m\u001b[0m\u001b[0m\n\u001b[0;32m-> 2522\u001b[0;31m     \u001b[0;32mreturn\u001b[0m \u001b[0mklass\u001b[0m\u001b[0;34m(\u001b[0m\u001b[0mobj\u001b[0m\u001b[0;34m,\u001b[0m \u001b[0mby\u001b[0m\u001b[0;34m,\u001b[0m \u001b[0;34m**\u001b[0m\u001b[0mkwds\u001b[0m\u001b[0;34m)\u001b[0m\u001b[0;34m\u001b[0m\u001b[0m\n\u001b[0m",
      "\u001b[0;32m~/.local/share/virtualenvs/lab1-1JSoLDP8/lib/python3.6/site-packages/pandas/core/groupby/groupby.py\u001b[0m in \u001b[0;36m__init__\u001b[0;34m(self, obj, keys, axis, level, grouper, exclusions, selection, as_index, sort, group_keys, squeeze, observed, **kwargs)\u001b[0m\n\u001b[1;32m    389\u001b[0m                 \u001b[0msort\u001b[0m\u001b[0;34m=\u001b[0m\u001b[0msort\u001b[0m\u001b[0;34m,\u001b[0m\u001b[0;34m\u001b[0m\u001b[0m\n\u001b[1;32m    390\u001b[0m                 \u001b[0mobserved\u001b[0m\u001b[0;34m=\u001b[0m\u001b[0mobserved\u001b[0m\u001b[0;34m,\u001b[0m\u001b[0;34m\u001b[0m\u001b[0m\n\u001b[0;32m--> 391\u001b[0;31m                 \u001b[0mmutated\u001b[0m\u001b[0;34m=\u001b[0m\u001b[0mself\u001b[0m\u001b[0;34m.\u001b[0m\u001b[0mmutated\u001b[0m\u001b[0;34m,\u001b[0m\u001b[0;34m\u001b[0m\u001b[0m\n\u001b[0m\u001b[1;32m    392\u001b[0m             )\n\u001b[1;32m    393\u001b[0m \u001b[0;34m\u001b[0m\u001b[0m\n",
      "\u001b[0;32m~/.local/share/virtualenvs/lab1-1JSoLDP8/lib/python3.6/site-packages/pandas/core/groupby/grouper.py\u001b[0m in \u001b[0;36m_get_grouper\u001b[0;34m(obj, key, axis, level, sort, observed, mutated, validate)\u001b[0m\n\u001b[1;32m    619\u001b[0m                 \u001b[0min_axis\u001b[0m\u001b[0;34m,\u001b[0m \u001b[0mname\u001b[0m\u001b[0;34m,\u001b[0m \u001b[0mlevel\u001b[0m\u001b[0;34m,\u001b[0m \u001b[0mgpr\u001b[0m \u001b[0;34m=\u001b[0m \u001b[0;32mFalse\u001b[0m\u001b[0;34m,\u001b[0m \u001b[0;32mNone\u001b[0m\u001b[0;34m,\u001b[0m \u001b[0mgpr\u001b[0m\u001b[0;34m,\u001b[0m \u001b[0;32mNone\u001b[0m\u001b[0;34m\u001b[0m\u001b[0m\n\u001b[1;32m    620\u001b[0m             \u001b[0;32melse\u001b[0m\u001b[0;34m:\u001b[0m\u001b[0;34m\u001b[0m\u001b[0m\n\u001b[0;32m--> 621\u001b[0;31m                 \u001b[0;32mraise\u001b[0m \u001b[0mKeyError\u001b[0m\u001b[0;34m(\u001b[0m\u001b[0mgpr\u001b[0m\u001b[0;34m)\u001b[0m\u001b[0;34m\u001b[0m\u001b[0m\n\u001b[0m\u001b[1;32m    622\u001b[0m         \u001b[0;32melif\u001b[0m \u001b[0misinstance\u001b[0m\u001b[0;34m(\u001b[0m\u001b[0mgpr\u001b[0m\u001b[0;34m,\u001b[0m \u001b[0mGrouper\u001b[0m\u001b[0;34m)\u001b[0m \u001b[0;32mand\u001b[0m \u001b[0mgpr\u001b[0m\u001b[0;34m.\u001b[0m\u001b[0mkey\u001b[0m \u001b[0;32mis\u001b[0m \u001b[0;32mnot\u001b[0m \u001b[0;32mNone\u001b[0m\u001b[0;34m:\u001b[0m\u001b[0;34m\u001b[0m\u001b[0m\n\u001b[1;32m    623\u001b[0m             \u001b[0;31m# Add key to exclusions\u001b[0m\u001b[0;34m\u001b[0m\u001b[0;34m\u001b[0m\u001b[0m\n",
      "\u001b[0;31mKeyError\u001b[0m: 'Location'"
     ]
    }
   ],
   "source": [
    "data.groupby(['Location'])[['Response']].mean().sort_values(['Response'], ascending=False).head(10)\n",
    "#let's look for a more logical grouping than location.... "
   ]
  },
  {
   "cell_type": "code",
   "execution_count": null,
   "metadata": {
    "scrolled": true
   },
   "outputs": [],
   "source": [
    "data.groupby(['Month'])[['Response']].mean().sort_values(['Response'], ascending=False)"
   ]
  },
  {
   "cell_type": "code",
   "execution_count": null,
   "metadata": {},
   "outputs": [],
   "source": [
    "data.groupby(['Season'])[['Response']].mean().sort_values(['Response'], ascending=False)"
   ]
  },
  {
   "cell_type": "code",
   "execution_count": null,
   "metadata": {},
   "outputs": [],
   "source": [
    "data.groupby(['RainToday'])[['Response']].mean().sort_values(['Response'], ascending=False)"
   ]
  },
  {
   "cell_type": "code",
   "execution_count": null,
   "metadata": {},
   "outputs": [],
   "source": [
    "%matplotlib inline\n",
    "pd.crosstab(data.Location, data.Response).plot(kind='bar')\n",
    "plt.title('Rain frequency by location')\n",
    "plt.xlabel('Location')\n",
    "plt.ylabel('Rain Freq')"
   ]
  },
  {
   "cell_type": "code",
   "execution_count": null,
   "metadata": {},
   "outputs": [],
   "source": [
    "%matplotlib inline\n",
    "pd.crosstab(data.Season, data.Response).plot(kind='bar')\n",
    "plt.title('Rain frequency by Season')\n",
    "plt.xlabel('Season')\n",
    "plt.ylabel('Rain Freq')"
   ]
  },
  {
   "cell_type": "code",
   "execution_count": null,
   "metadata": {},
   "outputs": [],
   "source": [
    "%matplotlib inline\n",
    "pd.crosstab(data.Month, data.Response).plot(kind='bar')\n",
    "plt.title('Rain frequency by Month')\n",
    "plt.xlabel('Month')\n",
    "plt.ylabel('Rain Freq')"
   ]
  },
  {
   "cell_type": "code",
   "execution_count": null,
   "metadata": {},
   "outputs": [],
   "source": [
    "%matplotlib inline\n",
    "pd.crosstab(data.RainToday, data.Response).plot(kind='bar')\n",
    "plt.title('Rain frequency by Rain Today')\n",
    "plt.xlabel('Rain Today')\n",
    "plt.ylabel('Rain Freq')"
   ]
  },
  {
   "cell_type": "code",
   "execution_count": null,
   "metadata": {},
   "outputs": [],
   "source": [
    "%matplotlib inline\n",
    "pd.crosstab(data.Humidity3pm, data.Response).plot(kind='bar')\n",
    "plt.title('Rain frequency by Humidity3pm')\n",
    "plt.xlabel('Humidity3pm')\n",
    "plt.ylabel('Rain Freq')"
   ]
  },
  {
   "cell_type": "code",
   "execution_count": null,
   "metadata": {},
   "outputs": [],
   "source": [
    "%matplotlib inline\n",
    "pd.crosstab(data.Cloud3pm, data.Response).plot(kind='bar')\n",
    "plt.title('Rain frequency by Cloud3pm')\n",
    "plt.xlabel('Cloud3pm')\n",
    "plt.ylabel('Rain Freq')"
   ]
  },
  {
   "cell_type": "code",
   "execution_count": null,
   "metadata": {},
   "outputs": [],
   "source": [
    "%matplotlib inline\n",
    "pd.crosstab(data.Pressure3pm, data.Response).plot(kind='bar')\n",
    "plt.title('Rain frequency by Pressure3pm')\n",
    "plt.xlabel('Pressure3pm')\n",
    "plt.ylabel('Rain Freq')"
   ]
  },
  {
   "cell_type": "code",
   "execution_count": null,
   "metadata": {},
   "outputs": [],
   "source": [
    "data.groupby(['WindDir9am'])[['Response']].mean().sort_values(['Response'], ascending=False)"
   ]
  },
  {
   "cell_type": "markdown",
   "metadata": {},
   "source": [
    "### Data Transforms\n",
    "\n",
    "    - OHE Encode all categoricals\n",
    "    - Standard Scale all numerics (sklearn is not R - it does not do this by default)\n",
    "    - This needs to be done on train/test set separately (create a pipeline) \n",
    "    \n",
    "    https://scikit-learn.org/stable/modules/cross_validation.html\n",
    "    \n",
    "    https://scikit-learn.org/stable/modules/compose.html#combining-estimators"
   ]
  },
  {
   "cell_type": "code",
   "execution_count": 11,
   "metadata": {},
   "outputs": [
    {
     "name": "stdout",
     "output_type": "stream",
     "text": [
      "neighbourhood_group was OHE'd\n",
      "neighbourhood was OHE'd\n",
      "reviews_per_month_cut was OHE'd\n",
      "latitude was Standard Scaled\n",
      "longitude was Standard Scaled\n",
      "price was Standard Scaled\n",
      "minimum_nights was Standard Scaled\n",
      "number_of_reviews was Standard Scaled\n",
      "reviews_per_month was Standard Scaled\n",
      "calculated_host_listings_count was Standard Scaled\n",
      "availability_365 was Standard Scaled\n",
      "days_since_last_review was Standard Scaled\n"
     ]
    },
    {
     "data": {
      "text/html": [
       "<div>\n",
       "<style scoped>\n",
       "    .dataframe tbody tr th:only-of-type {\n",
       "        vertical-align: middle;\n",
       "    }\n",
       "\n",
       "    .dataframe tbody tr th {\n",
       "        vertical-align: top;\n",
       "    }\n",
       "\n",
       "    .dataframe thead th {\n",
       "        text-align: right;\n",
       "    }\n",
       "</style>\n",
       "<table border=\"1\" class=\"dataframe\">\n",
       "  <thead>\n",
       "    <tr style=\"text-align: right;\">\n",
       "      <th></th>\n",
       "      <th>latitude</th>\n",
       "      <th>longitude</th>\n",
       "      <th>price</th>\n",
       "      <th>minimum_nights</th>\n",
       "      <th>number_of_reviews</th>\n",
       "      <th>reviews_per_month</th>\n",
       "      <th>calculated_host_listings_count</th>\n",
       "      <th>availability_365</th>\n",
       "      <th>days_since_last_review</th>\n",
       "      <th>neighbourhood_group_Bronx</th>\n",
       "      <th>...</th>\n",
       "      <th>neighbourhood_Woodhaven</th>\n",
       "      <th>neighbourhood_Woodlawn</th>\n",
       "      <th>neighbourhood_Woodrow</th>\n",
       "      <th>neighbourhood_Woodside</th>\n",
       "      <th>reviews_per_month_cut_Less Than One</th>\n",
       "      <th>reviews_per_month_cut_Less Than 2</th>\n",
       "      <th>reviews_per_month_cut_Less Than Three</th>\n",
       "      <th>reviews_per_month_cut_Less Than Four</th>\n",
       "      <th>reviews_per_month_cut_Less Than Five</th>\n",
       "      <th>reviews_per_month_cut_Greater Than Five</th>\n",
       "    </tr>\n",
       "  </thead>\n",
       "  <tbody>\n",
       "    <tr>\n",
       "      <th>count</th>\n",
       "      <td>4.889500e+04</td>\n",
       "      <td>4.889500e+04</td>\n",
       "      <td>4.889500e+04</td>\n",
       "      <td>4.889500e+04</td>\n",
       "      <td>4.889500e+04</td>\n",
       "      <td>4.889500e+04</td>\n",
       "      <td>4.889500e+04</td>\n",
       "      <td>48895.000000</td>\n",
       "      <td>4.889500e+04</td>\n",
       "      <td>48895.000000</td>\n",
       "      <td>...</td>\n",
       "      <td>48895.000000</td>\n",
       "      <td>48895.000000</td>\n",
       "      <td>48895.000000</td>\n",
       "      <td>48895.000000</td>\n",
       "      <td>48895.000000</td>\n",
       "      <td>48895.000000</td>\n",
       "      <td>48895.000000</td>\n",
       "      <td>48895.000000</td>\n",
       "      <td>48895.000000</td>\n",
       "      <td>48895.000000</td>\n",
       "    </tr>\n",
       "    <tr>\n",
       "      <th>mean</th>\n",
       "      <td>3.951661e-14</td>\n",
       "      <td>1.661660e-13</td>\n",
       "      <td>3.720195e-17</td>\n",
       "      <td>1.104433e-17</td>\n",
       "      <td>1.860098e-17</td>\n",
       "      <td>4.650244e-18</td>\n",
       "      <td>-1.860098e-17</td>\n",
       "      <td>0.000000</td>\n",
       "      <td>-9.300488e-18</td>\n",
       "      <td>0.022313</td>\n",
       "      <td>...</td>\n",
       "      <td>0.001800</td>\n",
       "      <td>0.000225</td>\n",
       "      <td>0.000020</td>\n",
       "      <td>0.004806</td>\n",
       "      <td>0.469066</td>\n",
       "      <td>0.125637</td>\n",
       "      <td>0.084630</td>\n",
       "      <td>0.053993</td>\n",
       "      <td>0.031087</td>\n",
       "      <td>0.235586</td>\n",
       "    </tr>\n",
       "    <tr>\n",
       "      <th>std</th>\n",
       "      <td>1.000010e+00</td>\n",
       "      <td>1.000010e+00</td>\n",
       "      <td>1.000010e+00</td>\n",
       "      <td>1.000010e+00</td>\n",
       "      <td>1.000010e+00</td>\n",
       "      <td>1.000010e+00</td>\n",
       "      <td>1.000010e+00</td>\n",
       "      <td>1.000010</td>\n",
       "      <td>1.000010e+00</td>\n",
       "      <td>0.147701</td>\n",
       "      <td>...</td>\n",
       "      <td>0.042386</td>\n",
       "      <td>0.014998</td>\n",
       "      <td>0.004522</td>\n",
       "      <td>0.069161</td>\n",
       "      <td>0.499047</td>\n",
       "      <td>0.331443</td>\n",
       "      <td>0.278334</td>\n",
       "      <td>0.226007</td>\n",
       "      <td>0.173555</td>\n",
       "      <td>0.424369</td>\n",
       "    </tr>\n",
       "    <tr>\n",
       "      <th>min</th>\n",
       "      <td>-4.202474e+00</td>\n",
       "      <td>-6.331760e+00</td>\n",
       "      <td>-6.359342e-01</td>\n",
       "      <td>-2.939962e-01</td>\n",
       "      <td>-5.224332e-01</td>\n",
       "      <td>-6.829856e-01</td>\n",
       "      <td>-1.864514e-01</td>\n",
       "      <td>-0.856865</td>\n",
       "      <td>-7.194688e-01</td>\n",
       "      <td>0.000000</td>\n",
       "      <td>...</td>\n",
       "      <td>0.000000</td>\n",
       "      <td>0.000000</td>\n",
       "      <td>0.000000</td>\n",
       "      <td>0.000000</td>\n",
       "      <td>0.000000</td>\n",
       "      <td>0.000000</td>\n",
       "      <td>0.000000</td>\n",
       "      <td>0.000000</td>\n",
       "      <td>0.000000</td>\n",
       "      <td>0.000000</td>\n",
       "    </tr>\n",
       "    <tr>\n",
       "      <th>25%</th>\n",
       "      <td>-7.124376e-01</td>\n",
       "      <td>-6.694733e-01</td>\n",
       "      <td>-3.486158e-01</td>\n",
       "      <td>-2.939962e-01</td>\n",
       "      <td>-4.999866e-01</td>\n",
       "      <td>-6.579428e-01</td>\n",
       "      <td>-1.864514e-01</td>\n",
       "      <td>-0.856865</td>\n",
       "      <td>-7.032276e-01</td>\n",
       "      <td>0.000000</td>\n",
       "      <td>...</td>\n",
       "      <td>0.000000</td>\n",
       "      <td>0.000000</td>\n",
       "      <td>0.000000</td>\n",
       "      <td>0.000000</td>\n",
       "      <td>0.000000</td>\n",
       "      <td>0.000000</td>\n",
       "      <td>0.000000</td>\n",
       "      <td>0.000000</td>\n",
       "      <td>0.000000</td>\n",
       "      <td>0.000000</td>\n",
       "    </tr>\n",
       "    <tr>\n",
       "      <th>50%</th>\n",
       "      <td>-1.078110e-01</td>\n",
       "      <td>-7.605436e-02</td>\n",
       "      <td>-1.945465e-01</td>\n",
       "      <td>-1.964844e-01</td>\n",
       "      <td>-4.102001e-01</td>\n",
       "      <td>-4.513398e-01</td>\n",
       "      <td>-1.864514e-01</td>\n",
       "      <td>-0.514974</td>\n",
       "      <td>-5.604755e-01</td>\n",
       "      <td>0.000000</td>\n",
       "      <td>...</td>\n",
       "      <td>0.000000</td>\n",
       "      <td>0.000000</td>\n",
       "      <td>0.000000</td>\n",
       "      <td>0.000000</td>\n",
       "      <td>0.000000</td>\n",
       "      <td>0.000000</td>\n",
       "      <td>0.000000</td>\n",
       "      <td>0.000000</td>\n",
       "      <td>0.000000</td>\n",
       "      <td>0.000000</td>\n",
       "    </tr>\n",
       "    <tr>\n",
       "      <th>75%</th>\n",
       "      <td>6.265619e-01</td>\n",
       "      <td>3.443653e-01</td>\n",
       "      <td>9.277183e-02</td>\n",
       "      <td>-9.897262e-02</td>\n",
       "      <td>1.628580e-02</td>\n",
       "      <td>3.062045e-01</td>\n",
       "      <td>-1.561044e-01</td>\n",
       "      <td>0.867785</td>\n",
       "      <td>3.071491e-01</td>\n",
       "      <td>0.000000</td>\n",
       "      <td>...</td>\n",
       "      <td>0.000000</td>\n",
       "      <td>0.000000</td>\n",
       "      <td>0.000000</td>\n",
       "      <td>0.000000</td>\n",
       "      <td>1.000000</td>\n",
       "      <td>0.000000</td>\n",
       "      <td>0.000000</td>\n",
       "      <td>0.000000</td>\n",
       "      <td>0.000000</td>\n",
       "      <td>0.000000</td>\n",
       "    </tr>\n",
       "    <tr>\n",
       "      <th>max</th>\n",
       "      <td>3.376357e+00</td>\n",
       "      <td>5.181954e+00</td>\n",
       "      <td>4.100441e+01</td>\n",
       "      <td>6.060212e+01</td>\n",
       "      <td>1.359649e+01</td>\n",
       "      <td>3.594209e+01</td>\n",
       "      <td>9.706672e+00</td>\n",
       "      <td>1.916250</td>\n",
       "      <td>1.865454e+00</td>\n",
       "      <td>1.000000</td>\n",
       "      <td>...</td>\n",
       "      <td>1.000000</td>\n",
       "      <td>1.000000</td>\n",
       "      <td>1.000000</td>\n",
       "      <td>1.000000</td>\n",
       "      <td>1.000000</td>\n",
       "      <td>1.000000</td>\n",
       "      <td>1.000000</td>\n",
       "      <td>1.000000</td>\n",
       "      <td>1.000000</td>\n",
       "      <td>1.000000</td>\n",
       "    </tr>\n",
       "  </tbody>\n",
       "</table>\n",
       "<p>8 rows × 241 columns</p>\n",
       "</div>"
      ],
      "text/plain": [
       "           latitude     longitude         price  minimum_nights  \\\n",
       "count  4.889500e+04  4.889500e+04  4.889500e+04    4.889500e+04   \n",
       "mean   3.951661e-14  1.661660e-13  3.720195e-17    1.104433e-17   \n",
       "std    1.000010e+00  1.000010e+00  1.000010e+00    1.000010e+00   \n",
       "min   -4.202474e+00 -6.331760e+00 -6.359342e-01   -2.939962e-01   \n",
       "25%   -7.124376e-01 -6.694733e-01 -3.486158e-01   -2.939962e-01   \n",
       "50%   -1.078110e-01 -7.605436e-02 -1.945465e-01   -1.964844e-01   \n",
       "75%    6.265619e-01  3.443653e-01  9.277183e-02   -9.897262e-02   \n",
       "max    3.376357e+00  5.181954e+00  4.100441e+01    6.060212e+01   \n",
       "\n",
       "       number_of_reviews  reviews_per_month  calculated_host_listings_count  \\\n",
       "count       4.889500e+04       4.889500e+04                    4.889500e+04   \n",
       "mean        1.860098e-17       4.650244e-18                   -1.860098e-17   \n",
       "std         1.000010e+00       1.000010e+00                    1.000010e+00   \n",
       "min        -5.224332e-01      -6.829856e-01                   -1.864514e-01   \n",
       "25%        -4.999866e-01      -6.579428e-01                   -1.864514e-01   \n",
       "50%        -4.102001e-01      -4.513398e-01                   -1.864514e-01   \n",
       "75%         1.628580e-02       3.062045e-01                   -1.561044e-01   \n",
       "max         1.359649e+01       3.594209e+01                    9.706672e+00   \n",
       "\n",
       "       availability_365  days_since_last_review  neighbourhood_group_Bronx  \\\n",
       "count      48895.000000            4.889500e+04               48895.000000   \n",
       "mean           0.000000           -9.300488e-18                   0.022313   \n",
       "std            1.000010            1.000010e+00                   0.147701   \n",
       "min           -0.856865           -7.194688e-01                   0.000000   \n",
       "25%           -0.856865           -7.032276e-01                   0.000000   \n",
       "50%           -0.514974           -5.604755e-01                   0.000000   \n",
       "75%            0.867785            3.071491e-01                   0.000000   \n",
       "max            1.916250            1.865454e+00                   1.000000   \n",
       "\n",
       "       ...  neighbourhood_Woodhaven  neighbourhood_Woodlawn  \\\n",
       "count  ...             48895.000000            48895.000000   \n",
       "mean   ...                 0.001800                0.000225   \n",
       "std    ...                 0.042386                0.014998   \n",
       "min    ...                 0.000000                0.000000   \n",
       "25%    ...                 0.000000                0.000000   \n",
       "50%    ...                 0.000000                0.000000   \n",
       "75%    ...                 0.000000                0.000000   \n",
       "max    ...                 1.000000                1.000000   \n",
       "\n",
       "       neighbourhood_Woodrow  neighbourhood_Woodside  \\\n",
       "count           48895.000000            48895.000000   \n",
       "mean                0.000020                0.004806   \n",
       "std                 0.004522                0.069161   \n",
       "min                 0.000000                0.000000   \n",
       "25%                 0.000000                0.000000   \n",
       "50%                 0.000000                0.000000   \n",
       "75%                 0.000000                0.000000   \n",
       "max                 1.000000                1.000000   \n",
       "\n",
       "       reviews_per_month_cut_Less Than One  reviews_per_month_cut_Less Than 2  \\\n",
       "count                         48895.000000                       48895.000000   \n",
       "mean                              0.469066                           0.125637   \n",
       "std                               0.499047                           0.331443   \n",
       "min                               0.000000                           0.000000   \n",
       "25%                               0.000000                           0.000000   \n",
       "50%                               0.000000                           0.000000   \n",
       "75%                               1.000000                           0.000000   \n",
       "max                               1.000000                           1.000000   \n",
       "\n",
       "       reviews_per_month_cut_Less Than Three  \\\n",
       "count                           48895.000000   \n",
       "mean                                0.084630   \n",
       "std                                 0.278334   \n",
       "min                                 0.000000   \n",
       "25%                                 0.000000   \n",
       "50%                                 0.000000   \n",
       "75%                                 0.000000   \n",
       "max                                 1.000000   \n",
       "\n",
       "       reviews_per_month_cut_Less Than Four  \\\n",
       "count                          48895.000000   \n",
       "mean                               0.053993   \n",
       "std                                0.226007   \n",
       "min                                0.000000   \n",
       "25%                                0.000000   \n",
       "50%                                0.000000   \n",
       "75%                                0.000000   \n",
       "max                                1.000000   \n",
       "\n",
       "       reviews_per_month_cut_Less Than Five  \\\n",
       "count                          48895.000000   \n",
       "mean                               0.031087   \n",
       "std                                0.173555   \n",
       "min                                0.000000   \n",
       "25%                                0.000000   \n",
       "50%                                0.000000   \n",
       "75%                                0.000000   \n",
       "max                                1.000000   \n",
       "\n",
       "       reviews_per_month_cut_Greater Than Five  \n",
       "count                             48895.000000  \n",
       "mean                                  0.235586  \n",
       "std                                   0.424369  \n",
       "min                                   0.000000  \n",
       "25%                                   0.000000  \n",
       "50%                                   0.000000  \n",
       "75%                                   0.000000  \n",
       "max                                   1.000000  \n",
       "\n",
       "[8 rows x 241 columns]"
      ]
     },
     "execution_count": 11,
     "metadata": {},
     "output_type": "execute_result"
    }
   ],
   "source": [
    "data_final = data\n",
    "#OH encode \n",
    "label_encode = [x for x, y in dict(data_final.dtypes).items() if type(y) == pd.CategoricalDtype]\n",
    "for var in label_encode:\n",
    "    #impute to Mode\n",
    "    print(f\"{var} was OHE'd\")\n",
    "    data_final[var].fillna(data_final[var].mode()[0], inplace=True)\n",
    "    cat_list = f'var_{var}'\n",
    "    cat_list = pd.get_dummies(data[var], prefix=var)\n",
    "    data_new = data_final.join(cat_list)\n",
    "    data_final = data_new\n",
    "\n",
    "normalize =  [x for x, y in dict(data_final.dtypes).items() if y == np.float64]\n",
    "for col in normalize:\n",
    "        #change impution scheme?\n",
    "        print(f\"{col} was Standard Scaled\")\n",
    "        data_final[col].fillna(data_final[col].median(), inplace=True)\n",
    "        normalizer = StandardScaler()\n",
    "        ar = data_final[col].to_numpy().reshape(-1, 1)\n",
    "        normalizer.fit(ar)\n",
    "        data_final.loc[:,col] = normalizer.transform(ar)\n",
    "\n",
    "data_final.drop(columns=label_encode, inplace=True)\n",
    "#data.fillna(0, inplace=True)\n",
    "data_final.describe()"
   ]
  },
  {
   "cell_type": "code",
   "execution_count": null,
   "metadata": {},
   "outputs": [],
   "source": [
    "data_final.dtypes['availability_365']"
   ]
  },
  {
   "cell_type": "code",
   "execution_count": 12,
   "metadata": {},
   "outputs": [],
   "source": [
    "room_types = {\n",
    "    'Entire home/apt':0,\n",
    "    'Private room':1,\n",
    "    'Shared room': 2\n",
    "}\n",
    "data_final['Response'] = data_final.apply(lambda x: room_types[x.room_type], axis=1)\n",
    "data_final.drop(axis=0, labels=[x for x in data_final.index if data_final.iloc[x].Response == 2], inplace=True)\n",
    "data_final.drop(columns=['last_review', 'room_type'], inplace=True)"
   ]
  },
  {
   "cell_type": "code",
   "execution_count": null,
   "metadata": {},
   "outputs": [],
   "source": [
    "#[x for x in data_final.index if data_final.iloc[x].Response == 3]\n"
   ]
  },
  {
   "cell_type": "markdown",
   "metadata": {},
   "source": [
    "### Feature / Target Split"
   ]
  },
  {
   "cell_type": "code",
   "execution_count": 13,
   "metadata": {},
   "outputs": [
    {
     "data": {
      "text/plain": [
       "((47735, 241), (47735, 1))"
      ]
     },
     "execution_count": 13,
     "metadata": {},
     "output_type": "execute_result"
    }
   ],
   "source": [
    "features, target =  data_final.drop(columns=['Response']), data_final.loc[:,['Response']]\n",
    "features.shape, target.shape"
   ]
  },
  {
   "cell_type": "markdown",
   "metadata": {},
   "source": [
    "### Train/Test Split"
   ]
  },
  {
   "cell_type": "code",
   "execution_count": 14,
   "metadata": {},
   "outputs": [
    {
     "data": {
      "text/plain": [
       "ClassBalance(ax=<matplotlib.axes._subplots.AxesSubplot object at 0x12d163390>,\n",
       "             colormap=None, colors=None,\n",
       "             labels=['Entire home/apt', 'Private room'])"
      ]
     },
     "execution_count": 14,
     "metadata": {},
     "output_type": "execute_result"
    },
    {
     "data": {
      "image/png": "[encoded data removed]",
      "text/plain": [
       "<Figure size 576x396 with 1 Axes>"
      ]
     },
     "metadata": {},
     "output_type": "display_data"
    }
   ],
   "source": [
    "X_train, X_test, y_train, y_test = train_test_split(features, target, test_size=0.3, random_state=0)\n",
    "classes_test = ClassBalance(labels=['Entire home/apt', 'Private room'])\n",
    "classes_test.fit(y_train['Response'], y_test['Response']) "
   ]
  },
  {
   "cell_type": "markdown",
   "metadata": {},
   "source": [
    "### Baseline accuracy rates"
   ]
  },
  {
   "cell_type": "code",
   "execution_count": 15,
   "metadata": {},
   "outputs": [
    {
     "data": {
      "text/plain": [
       "(0.5312443885796373, 0.5347391941903499)"
      ]
     },
     "execution_count": 15,
     "metadata": {},
     "output_type": "execute_result"
    }
   ],
   "source": [
    "baseline_accuracy_train, baseline_accuracy_test = (1-y_train[y_train.Response == 1].shape[0]/y_train.shape[0]) , (1-y_test[y_test.Response == 1].shape[0]/y_test.shape[0])\n",
    "baseline_accuracy_train, baseline_accuracy_test"
   ]
  },
  {
   "cell_type": "markdown",
   "metadata": {},
   "source": [
    "### Feature Eng \n",
    "\n",
    "    - opted for selection via inspection"
   ]
  },
  {
   "cell_type": "code",
   "execution_count": null,
   "metadata": {},
   "outputs": [],
   "source": [
    "#from sklearn.feature_selection import RFE\n",
    "#rfe = RFE(lgrg, 50)\n",
    "#rfe = rfe.fit(X_train, y_train.values.ravel())"
   ]
  },
  {
   "cell_type": "code",
   "execution_count": 16,
   "metadata": {},
   "outputs": [
    {
     "data": {
      "text/plain": [
       "neighbourhood_group                     category\n",
       "neighbourhood                           category\n",
       "latitude                                 float64\n",
       "longitude                                float64\n",
       "room_type                                 object\n",
       "price                                    float64\n",
       "minimum_nights                           float64\n",
       "number_of_reviews                        float64\n",
       "last_review                       datetime64[ns]\n",
       "reviews_per_month                        float64\n",
       "calculated_host_listings_count           float64\n",
       "availability_365                         float64\n",
       "reviews_per_month_cut                   category\n",
       "days_since_last_review                   float64\n",
       "dtype: object"
      ]
     },
     "execution_count": 16,
     "metadata": {},
     "output_type": "execute_result"
    }
   ],
   "source": [
    "#X_train_fe = X_train[X_train.columns[rfe.support_]]\n",
    "#X_test_fe = X_test[X_test.columns[rfe.support_]]\n",
    "data.dtypes"
   ]
  },
  {
   "cell_type": "markdown",
   "metadata": {},
   "source": [
    "### Fit a Logistic on all predictors"
   ]
  },
  {
   "cell_type": "code",
   "execution_count": null,
   "metadata": {
    "scrolled": false
   },
   "outputs": [],
   "source": [
    "lgrg_all = LogisticRegression(C=0.01\n",
    "                          , solver='liblinear'\n",
    "                          , dual=False\n",
    "                          , fit_intercept=True\n",
    "                          , intercept_scaling=1\n",
    "                          #, l1_ratio=None\n",
    "                          , max_iter=100\n",
    "                          , multi_class='auto'\n",
    "                          , n_jobs=None\n",
    "                          , penalty='l2'\n",
    "                          , random_state=0\n",
    "                          , tol=0.0001\n",
    "                          , verbose=0\n",
    "                          , warm_start=False)\n",
    "\n",
    "lgrg_all.fit(X_train, y_train.values.ravel())\n",
    "cutoffs_lgrg_all, scores_lgrg_all = analyze_classifier(lgrg_all, X_train, X_test, y_train, y_test)\n",
    "predict_logit_all = lgrg_all.predict(X_test)\n",
    "prob_logit_all = lgrg_all.predict_proba(X_test)\n",
    "best_cutoff_lgrg_all = 0.4# = pd.Series(cutoffs_lgrg_all)[pd.Series(list(scores_lgrg_all['fscore'])).idxmax()]\n",
    "adj_acc_logit_all, adj_conf_matrix_logit_all, new_preds_logit_all = compute_new_conf_matrix(predict_logit_all, prob_logit_all, best_cutoff_lgrg_all, y_test)\n",
    "acc_logit_all = round(accuracy_score(y_test, predict_logit_all),5)\n",
    "print(f'Logit (all features) Accuracy {acc_logit_all}')\n",
    "print(f'Cutoff ({round(best_cutoff_lgrg_all,4)}) adjusted accuracy: {adj_acc_logit_all}')\n",
    "print(new_preds_logit_all.iloc[new_preds_logit_all[new_preds_logit_all.Predict == 1]['ProbTrue'].argmin()])\n",
    "print(new_preds_logit_all.iloc[new_preds_logit_all[new_preds_logit_all.NewPredict == 1]['ProbTrue'].argmin()])\n",
    "print(f'50/50 Accuracy {acc_logit_all} is {\"better than baseline\" if acc_logit_all > baseline_accuracy_test else \"worse than baseline\"}')\n",
    "print(f'Cutoff Adjusted Accuracy {adj_acc_logit_all} is {\"better than baseline\" if adj_acc_logit_all > baseline_accuracy_test else \"worse than baseline\"}')\n",
    "adj_conf_matrix_logit_all"
   ]
  },
  {
   "cell_type": "markdown",
   "metadata": {},
   "source": [
    "### Cols chosen from intuition/EDA"
   ]
  },
  {
   "cell_type": "code",
   "execution_count": 18,
   "metadata": {},
   "outputs": [],
   "source": [
    "X_train_fe = X_train#[['Humidity3pm', 'Cloud3pm', 'Pressure3pm', 'RainToday_Yes', 'Season_Winter']]#, 'Season_Summer', 'Season_Fall', 'Season_Spring']]\n",
    "X_test_fe = X_test#[['Humidity3pm', 'Cloud3pm', 'Pressure3pm', 'RainToday_Yes', 'Season_Winter']]#, 'Season_Summer', 'Season_Fall', 'Season_Spring']]"
   ]
  },
  {
   "cell_type": "markdown",
   "metadata": {},
   "source": [
    "### Basic logistic regression"
   ]
  },
  {
   "cell_type": "code",
   "execution_count": null,
   "metadata": {
    "scrolled": false
   },
   "outputs": [],
   "source": [
    "lgrg = LogisticRegression(C=0.01\n",
    "                          , solver='liblinear'\n",
    "                          , dual=False\n",
    "                          , fit_intercept=True\n",
    "                          , intercept_scaling=1\n",
    "                          #, l1_ratio=None\n",
    "                          , max_iter=100\n",
    "                          , multi_class='auto'\n",
    "                          , n_jobs=None\n",
    "                          , penalty='l2'\n",
    "                          , random_state=0\n",
    "                          , tol=0.0001\n",
    "                          , verbose=0\n",
    "                          , warm_start=False)\n",
    "\n",
    "lgrg.fit(X_train_fe, y_train.values.ravel())\n",
    "cutoffs_lgrg, scores_lgrg = analyze_classifier(lgrg, X_train_fe, X_test_fe, y_train, y_test)\n",
    "predict_logit = lgrg.predict(X_test_fe)\n",
    "prob_logit = lgrg.predict_proba(X_test_fe)\n",
    "best_cutoff_lgrg = pd.Series(cutoffs_lgrg)[pd.Series(list(scores_lgrg['fscore'])).idxmax()]\n",
    "adj_acc_logit, adj_conf_matrix_logit, new_preds_logit = compute_new_conf_matrix(predict_logit, prob_logit, best_cutoff_lgrg, y_test)\n",
    "acc_logit = round(accuracy_score(y_test, predict_logit),5)\n",
    "print(f'Logit Accuracy {acc_logit}')\n",
    "print(f'Cutoff ({round(best_cutoff_lgrg,4)}) adjusted accuracy: {adj_acc_logit}')\n",
    "print(new_preds_logit.iloc[new_preds_logit[new_preds_logit.Predict == 1]['ProbTrue'].argmin()])\n",
    "print(new_preds_logit.iloc[new_preds_logit[new_preds_logit.NewPredict == 1]['ProbTrue'].argmin()])\n",
    "print(f'50/50 Accuracy {acc_logit} is {\"better than baseline\" if acc_logit > baseline_accuracy_test else \"worse than baseline\"}')\n",
    "print(f'Cutoff Adjusted Accuracy {adj_acc_logit} is {\"better than baseline\" if adj_acc_logit > baseline_accuracy_test else \"worse than baseline\"}')\n",
    "adj_conf_matrix_logit"
   ]
  },
  {
   "cell_type": "markdown",
   "metadata": {},
   "source": [
    "### LDA \n",
    "\n",
    " - number of components = 1 (# of reponse variables - 1)"
   ]
  },
  {
   "cell_type": "code",
   "execution_count": null,
   "metadata": {
    "scrolled": false
   },
   "outputs": [],
   "source": [
    "from sklearn.discriminant_analysis import LinearDiscriminantAnalysis as LDA\n",
    "lda = LDA(n_components=1)\n",
    "X_train_continuous = X_train_fe#[[x for x, y in dict(X_train_fe.dtypes).items() if y == np.float64]]\n",
    "X_test_continuous = X_test_fe#[[x for x, y in dict(X_test_fe.dtypes).items() if y == np.float64]]\n",
    "lda.fit(X_train_continuous, y_train.values.ravel())\n",
    "cutoffs_lda, scores_lda = analyze_classifier(lda, X_train_continuous, X_test_continuous, y_train, y_test)\n",
    "predict_lda = lda.predict(X_test_fe)\n",
    "prob_lda = lda.predict_proba(X_test_fe)\n",
    "best_cutoff_lda = pd.Series(cutoffs_lda)[pd.Series(list(scores_lda['fscore'])).idxmax()]\n",
    "adj_acc_lda, adj_conf_matrix_lda, new_preds_lda = compute_new_conf_matrix(predict_lda, prob_lda, best_cutoff_lda, y_test)\n",
    "acc_lda = round(accuracy_score(y_test, predict_lda),5)\n",
    "print(f'LDA Accuracy {acc_lda}')\n",
    "print(f'Cutoff ({round(best_cutoff_lda,4)}) adjusted accuracy: {adj_acc_lda}')\n",
    "print(new_preds_lda.iloc[new_preds_lda[new_preds_lda.Predict == 1]['ProbTrue'].argmin()])\n",
    "print(new_preds_lda.iloc[new_preds_lda[new_preds_lda.NewPredict == 1]['ProbTrue'].argmin()])\n",
    "print(f'50/50 Accuracy {acc_lda} is {\"better than baseline\" if acc_lda > baseline_accuracy_test else \"worse than baseline\"}')\n",
    "print(f'Cutoff Adjusted Accuracy {adj_acc_lda} is {\"better than baseline\" if adj_acc_lda > baseline_accuracy_test else \"worse than baseline\"}')\n",
    "adj_conf_matrix_lda"
   ]
  },
  {
   "cell_type": "markdown",
   "metadata": {},
   "source": [
    "### QDA"
   ]
  },
  {
   "cell_type": "code",
   "execution_count": null,
   "metadata": {
    "scrolled": true
   },
   "outputs": [],
   "source": [
    "from sklearn.discriminant_analysis import QuadraticDiscriminantAnalysis as QDA\n",
    "qda = QDA()\n",
    "qda.fit(X_train_continuous, y_train.values.ravel())\n",
    "cutoffs_qda, scores_qda = analyze_classifier(qda, X_train_continuous, X_test_continuous, y_train, y_test)\n",
    "predict_qda = qda.predict(X_test_fe)\n",
    "prob_qda = qda.predict_proba(X_test_fe)\n",
    "best_cutoff_qda = pd.Series(cutoffs_qda)[pd.Series(list(scores_qda['fscore'])).idxmax()]\n",
    "adj_acc_qda, adj_conf_matrix_qda, new_preds_qda = compute_new_conf_matrix(predict_qda, prob_qda, best_cutoff_qda, y_test)\n",
    "acc_qda = round(accuracy_score(y_test, predict_qda),5)\n",
    "print(f'QDA Accuracy {acc_qda}')\n",
    "print(f'Cutoff ({round(best_cutoff_qda,4)}) adjusted accuracy: {adj_acc_qda}')\n",
    "print(new_preds_qda.iloc[new_preds_qda[new_preds_qda.Predict == 1]['ProbTrue'].argmin()])\n",
    "print(new_preds_qda.iloc[new_preds_qda[new_preds_qda.NewPredict == 1]['ProbTrue'].argmin()])\n",
    "print(f'50/50 Accuracy {acc_qda} is {\"better than baseline\" if acc_qda > baseline_accuracy_test else \"worse than baseline\"}')\n",
    "print(f'Cutoff Adjusted Accuracy {adj_acc_qda} is {\"better than baseline\" if adj_acc_qda > baseline_accuracy_test else \"worse than baseline\"}')\n",
    "adj_conf_matrix_qda"
   ]
  },
  {
   "cell_type": "code",
   "execution_count": null,
   "metadata": {
    "scrolled": true
   },
   "outputs": [],
   "source": [
    "from sklearn.svm import SVC\n",
    "#support_vec_model = SVC(gamma='auto', kernel='linear', C=0.01)\n",
    "#support_vec_model.fit(X_train_fe, y_train.values.ravel())\n",
    "#analyze_classifier(support_vec_model, X_train_fe, X_test_fe, y_train, y_test)"
   ]
  },
  {
   "cell_type": "markdown",
   "metadata": {},
   "source": [
    "### Naive Bayes"
   ]
  },
  {
   "cell_type": "code",
   "execution_count": null,
   "metadata": {
    "scrolled": true
   },
   "outputs": [],
   "source": [
    "nb = GaussianNB(\n",
    "   var_smoothing=1e-9\n",
    ")\n",
    "cutoffs_nb, scores_nb = analyze_classifier(nb, X_train_fe, X_test_fe, y_train, y_test)\n",
    "predict_nb = nb.predict(X_test_fe)\n",
    "prob_nb = nb.predict_proba(X_test_fe)\n",
    "best_cutoff_nb = pd.Series(cutoffs_nb)[pd.Series(list(scores_nb['fscore'])).idxmax()]\n",
    "adj_acc_nb, adj_conf_matrix_nb, new_preds_nb = compute_new_conf_matrix(predict_qda, prob_qda, best_cutoff_qda, y_test)\n",
    "acc_nb = round(accuracy_score(y_test, predict_nb),5)\n",
    "print(f'NB Accuracy {acc_nb}')\n",
    "print(f'Cutoff ({round(best_cutoff_nb,4)}) adjusted accuracy: {adj_acc_nb}')\n",
    "print(new_preds_nb.iloc[new_preds_nb[new_preds_nb.Predict == 1]['ProbTrue'].argmin()])\n",
    "print(new_preds_nb.iloc[new_preds_nb[new_preds_nb.NewPredict == 1]['ProbTrue'].argmin()])\n",
    "print(f'50/50 Accuracy {acc_nb} is {\"better than baseline\" if acc_nb > baseline_accuracy_test else \"worse than baseline\"}')\n",
    "print(f'Cutoff Adjusted Accuracy {adj_acc_nb} is {\"better than baseline\" if adj_acc_nb > baseline_accuracy_test else \"worse than baseline\"}')\n",
    "adj_conf_matrix_nb"
   ]
  },
  {
   "cell_type": "markdown",
   "metadata": {},
   "source": [
    "### Random forest classifier"
   ]
  },
  {
   "cell_type": "code",
   "execution_count": null,
   "metadata": {
    "scrolled": true
   },
   "outputs": [
    {
     "data": {
      "image/png": "[encoded data removed]",
      "text/plain": [
       "<Figure size 576x396 with 1 Axes>"
      ]
     },
     "metadata": {},
     "output_type": "display_data"
    },
    {
     "data": {
      "image/png": "[encoded data removed]",
      "text/plain": [
       "<Figure size 576x396 with 2 Axes>"
      ]
     },
     "metadata": {},
     "output_type": "display_data"
    },
    {
     "data": {
      "image/png": "[encoded data removed]",
      "text/plain": [
       "<Figure size 576x396 with 1 Axes>"
      ]
     },
     "metadata": {},
     "output_type": "display_data"
    }
   ],
   "source": [
    "rf_classifier = RandomForestClassifier(\n",
    "  #max_depth=None,\n",
    "  random_state=0,\n",
    "  #bootstrap=True,\n",
    "  #oob_score=True,\n",
    "  #max_samples = 50,\n",
    "  criterion='gini',\n",
    "  n_estimators=200\n",
    ")\n",
    "rf_classifier.fit(X_train_fe, y_train.values.ravel())\n",
    "cutoffs_rf, scores_rf = analyze_classifier(rf_classifier, X_train_fe, X_test_fe, y_train, y_test)\n",
    "predict_rf = rf_classifier.predict(X_test_fe)\n",
    "prob_rf = rf_classifier.predict_proba(X_test_fe)\n",
    "best_cutoff_rf = pd.Series(cutoffs_rf)[pd.Series(list(scores_rf['fscore'])).idxmax()]\n",
    "adj_acc_rf, adj_conf_matrix_rf, new_preds_rf = compute_new_conf_matrix(predict_rf, prob_rf, best_cutoff_rf, y_test)\n",
    "acc_rf = round(accuracy_score(y_test, predict_rf),5)\n",
    "print(f'RF Accuracy {acc_rf}')\n",
    "print(f'Cutoff ({round(best_cutoff_rf,4)}) adjusted accuracy: {adj_acc_rf}')\n",
    "print(new_preds_rf.iloc[new_preds_rf[new_preds_rf.Predict == 1]['ProbTrue'].argmin()])\n",
    "print(new_preds_rf.iloc[new_preds_rf[new_preds_rf.NewPredict == 1]['ProbTrue'].argmin()])\n",
    "print(f'50/50 Accuracy {acc_rf} is {\"better than baseline\" if acc_rf > baseline_accuracy_test else \"worse than baseline\"}')\n",
    "print(f'Cutoff Adjusted Accuracy {adj_acc_rf} is {\"better than baseline\" if adj_acc_rf > baseline_accuracy_test else \"worse than baseline\"}')\n",
    "adj_conf_matrix_rf"
   ]
  },
  {
   "cell_type": "markdown",
   "metadata": {},
   "source": [
    "### VIF Factors for Final Model"
   ]
  },
  {
   "cell_type": "code",
   "execution_count": null,
   "metadata": {},
   "outputs": [],
   "source": [
    "vif = sklearn_vif(X_train_fe.columns, data_final.drop(columns=['Response']))"
   ]
  },
  {
   "cell_type": "code",
   "execution_count": null,
   "metadata": {},
   "outputs": [],
   "source": [
    "#rf.feature_importance_\n",
    "vif"
   ]
  },
  {
   "cell_type": "code",
   "execution_count": null,
   "metadata": {
    "scrolled": false
   },
   "outputs": [],
   "source": [
    "roc_curve(y_test, predicted_probs.NewPredict)"
   ]
  },
  {
   "cell_type": "code",
   "execution_count": null,
   "metadata": {},
   "outputs": [],
   "source": [
    "roc_auc_score(y_test, predicted_probs.NewPredict)"
   ]
  },
  {
   "cell_type": "code",
   "execution_count": null,
   "metadata": {},
   "outputs": [],
   "source": [
    "vif = sklearn_vif(features.columns, data_final.drop(columns=['Response']))"
   ]
  },
  {
   "cell_type": "code",
   "execution_count": null,
   "metadata": {},
   "outputs": [],
   "source": [
    "# Define a pipeline to search for the best combination of PCA truncation\n",
    "# and classifier regularization.\n",
    "pca = PCA()\n",
    "# set the tolerance to a large value to make the example faster\n",
    "#logistic = LogisticRegression(max_iter=10000, tol=0.1)\n",
    "pipe = Pipeline(steps=[('pre-process',StandardScaler()), ('pca', pca), ('logistic', lgrg_all)])\n",
    "\n",
    "#X, y = datasets.load_digits(return_X_y=True)\n",
    "\n",
    "# Parameters of pipelines can be set using ‘__’ separated parameter names:\n",
    "param_grid = {\n",
    "    'pca__n_components': [5, 15, 30, 45, 64, 131],\n",
    "    'logistic__C': np.logspace(-4, 4, 4),\n",
    "}\n",
    "search = GridSearchCV(pipe, param_grid, n_jobs=-1)\n",
    "search.fit(X_train, y_train.values.ravel())\n",
    "print(\"Best parameter (CV score=%0.3f):\" % search.best_score_)\n",
    "print(search.best_params_)\n",
    "\n",
    "# Plot the PCA spectrum\n",
    "pca.fit(X_train)\n",
    "\n",
    "fig, (ax0, ax1) = plt.subplots(nrows=2, sharex=True, figsize=(6, 6))\n",
    "ax0.plot(np.arange(1, pca.n_components_ + 1),\n",
    "         pca.explained_variance_ratio_, '+', linewidth=2)\n",
    "ax0.set_ylabel('PCA explained variance ratio')\n",
    "\n",
    "ax0.axvline(search.best_estimator_.named_steps['pca'].n_components,\n",
    "            linestyle=':', label='n_components chosen')\n",
    "ax0.legend(prop=dict(size=12))\n",
    "\n",
    "# For each number of components, find the best classifier results\n",
    "results = pd.DataFrame(search.cv_results_)\n",
    "components_col = 'param_pca__n_components'\n",
    "best_clfs = results.groupby(components_col).apply(\n",
    "    lambda g: g.nlargest(1, 'mean_test_score'))\n",
    "\n",
    "best_clfs.plot(x=components_col, y='mean_test_score', yerr='std_test_score',\n",
    "               legend=False, ax=ax1)\n",
    "ax1.set_ylabel('Classification accuracy (val)')\n",
    "ax1.set_xlabel('n_components')\n",
    "\n",
    "plt.xlim(-1, 150)\n",
    "\n",
    "plt.tight_layout()\n",
    "plt.show()"
   ]
  },
  {
   "cell_type": "code",
   "execution_count": null,
   "metadata": {},
   "outputs": [],
   "source": [
    "pca.explained_variance_ratio_.sum()"
   ]
  },
  {
   "cell_type": "code",
   "execution_count": null,
   "metadata": {},
   "outputs": [],
   "source": []
  }
 ],
 "metadata": {
  "kernelspec": {
   "display_name": "Python 3",
   "language": "python",
   "name": "python3"
  },
  "language_info": {
   "codemirror_mode": {
    "name": "ipython",
    "version": 3
   },
   "file_extension": ".py",
   "mimetype": "text/x-python",
   "name": "python",
   "nbconvert_exporter": "python",
   "pygments_lexer": "ipython3",
   "version": "3.6.1"
  }
 },
 "nbformat": 4,
 "nbformat_minor": 1
}
