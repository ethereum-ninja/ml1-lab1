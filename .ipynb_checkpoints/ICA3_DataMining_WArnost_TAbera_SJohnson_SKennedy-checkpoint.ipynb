{
 "cells": [
  {
   "cell_type": "code",
   "execution_count": 1,
   "metadata": {},
   "outputs": [
    {
     "data": {
      "text/html": [
       "<link href='https://fonts.googleapis.com/css?family=Passion+One' rel='stylesheet' type='text/css'><style>div.attn { font-family: 'Helvetica Neue'; font-size: 30px; line-height: 40px; color: #FFFFFF; text-align: center; margin: 30px 0; border-width: 10px 0; border-style: solid; border-color: #5AAAAA; padding: 30px 0; background-color: #DDDDFF; }hr { border: 0; background-color: #ffffff; border-top: 1px solid black; }hr.major { border-top: 10px solid #5AAA5A; }hr.minor { border: none; background-color: #ffffff; border-top: 5px dotted #CC3333; }div.bubble { width: 65%; padding: 20px; background: #DDDDDD; border-radius: 15px; margin: 0 auto; font-style: italic; color: #f00; }em { color: #AAA; }div.c1{visibility:hidden;margin:0;height:0;}div.note{color:red;}</style>"
      ],
      "text/plain": [
       "<IPython.core.display.HTML object>"
      ]
     },
     "execution_count": 1,
     "metadata": {},
     "output_type": "execute_result"
    }
   ],
   "source": [
    "#  Ebnable HTML/CSS \n",
    "from IPython.core.display import HTML\n",
    "HTML(\"<link href='https://fonts.googleapis.com/css?family=Passion+One' rel='stylesheet' type='text/css'><style>div.attn { font-family: 'Helvetica Neue'; font-size: 30px; line-height: 40px; color: #FFFFFF; text-align: center; margin: 30px 0; border-width: 10px 0; border-style: solid; border-color: #5AAAAA; padding: 30px 0; background-color: #DDDDFF; }hr { border: 0; background-color: #ffffff; border-top: 1px solid black; }hr.major { border-top: 10px solid #5AAA5A; }hr.minor { border: none; background-color: #ffffff; border-top: 5px dotted #CC3333; }div.bubble { width: 65%; padding: 20px; background: #DDDDDD; border-radius: 15px; margin: 0 auto; font-style: italic; color: #f00; }em { color: #AAA; }div.c1{visibility:hidden;margin:0;height:0;}div.note{color:red;}</style>\")"
   ]
  },
  {
   "cell_type": "markdown",
   "metadata": {},
   "source": [
    "___\n",
    "Enter Team Member Names here (double click to edit):\n",
    "\n",
    "- Name 1: Tazeb Abera\n",
    "- Name 2: William Arnost\n",
    "- Name 3: Sean Kennedy\n",
    "- Name 4: Stephen Johnson\n",
    "\n",
    "________\n",
    "\n",
    "# In Class Assignment Three\n",
    "In the following assignment you will be asked to fill in python code and derivations for a number of different problems. Please read all instructions carefully and turn in the rendered notebook (or HTML of the rendered notebook)  before the end of class.\n",
    "\n",
    "<a id=\"top\"></a>\n",
    "## Contents\n",
    "* <a href=\"#Loading\">Loading the Data</a>\n",
    "* <a href=\"#distance\">Measuring Distances</a>\n",
    "* <a href=\"#KNN\">K-Nearest Neighbors</a>\n",
    "* <a href=\"#naive\">Naive Bayes</a>\n",
    "\n",
    "________________________________________________________________________________________________________\n",
    "<a id=\"Loading\"></a>\n",
    "<a href=\"#top\">Back to Top</a>\n",
    "## Downloading the Document Data\n",
    "Please run the following code to read in the \"20 newsgroups\" dataset from sklearn's data loading module."
   ]
  },
  {
   "cell_type": "code",
   "execution_count": null,
   "metadata": {},
   "outputs": [
    {
     "name": "stderr",
     "output_type": "stream",
     "text": [
      "Downloading 20news dataset. This may take a few minutes.\n",
      "Downloading dataset from https://ndownloader.figshare.com/files/5975967 (14 MB)\n"
     ]
    }
   ],
   "source": [
    "from sklearn.datasets import fetch_20newsgroups_vectorized\n",
    "import numpy as np\n",
    "#from __future__ import print_function\n",
    "\n",
    "# this takes about 30 seconds to compute, read the next section while this downloads\n",
    "ds = fetch_20newsgroups_vectorized(subset='train')\n",
    "\n",
    "# this holds the continuous feature data (which is tfidf)\n",
    "print('features shape:', ds.data.shape) # there are ~11000 instances and ~130k features per instance\n",
    "print('target shape:', ds.target.shape) \n",
    "print('range of target:', np.min(ds.target),np.max(ds.target))\n",
    "print('Data type is', type(ds.data), float(ds.data.nnz)/(ds.data.shape[0]*ds.data.shape[1])*100, '% of the data is non-zero')"
   ]
  },
  {
   "cell_type": "markdown",
   "metadata": {},
   "source": [
    "## Understanding the Dataset\n",
    "Look at the description for the 20 newsgroups dataset at http://qwone.com/~jason/20Newsgroups/. You have just downloaded the \"vectorized\" version of the dataset, which means all the words inside the articles have gone through a transformation that binned them into 130 thousand features related to the words in them.  \n",
    "\n",
    "**Question Set 1**:\n",
    "- How many instances are in the dataset? \n",
    "- What does each instance represent? \n",
    "- How many classes are in the dataset and what does each class represent?\n",
    "- Would you expect a classifier trained on this data would generalize to documents written in the past week? Why or why not?\n",
    "- Is the data represented as a sparse or dense matrix?"
   ]
  },
  {
   "cell_type": "markdown",
   "metadata": {},
   "source": [
    "___\n",
    "Enter your answer here:\n",
    "\n",
    "- #1 11,314 Instances\n",
    "- #2 A news article with its text vectorized to create 130K features\n",
    "- #3 There are 20 Newsgroups, with each group representing a certain news topic like medical science or recreational autos\n",
    "- #4 No. The original data was collected in 1997, over 20 years ago. Most likely writing styles and relevant content have changes\n",
    "- #5 Sparse, 0.1214353154362896 % of the data is non-zero\n",
    "\n",
    "\n"
   ]
  },
  {
   "cell_type": "markdown",
   "metadata": {},
   "source": [
    "___\n",
    "<a id=\"distance\"></a>\n",
    "<a href=\"#top\">Back to Top</a>\n",
    "## Measures of Distance\n",
    "In the following block of code, we isolate three instances from the dataset. The instance \"`a`\" is from the group *computer graphics*, \"`b`\" is from from the group *recreation autos*, and \"`c`\" is from group *recreation motorcycle*. **Exercise for part 2**: Calculate the: \n",
    "- (1) Euclidean distance\n",
    "- (2) Cosine distance \n",
    "- (3) Jaccard similarity \n",
    "\n",
    "between each pair of instances using the imported functions below. Remember that the Jaccard similarity is only for binary valued vectors, so convert vectors to binary using a threshold. \n",
    "\n",
    "**Question for part 2**: Which distance seems more appropriate to use for this data? **Why**?"
   ]
  },
  {
   "cell_type": "code",
   "execution_count": null,
   "metadata": {},
   "outputs": [],
   "source": [
    "from scipy.spatial.distance import cosine\n",
    "from scipy.spatial.distance import euclidean\n",
    "from scipy.spatial.distance import jaccard\n",
    "import numpy as np\n",
    "\n",
    "# get first instance (comp)\n",
    "idx = 550\n",
    "a = ds.data[idx].todense()\n",
    "a_class = ds.target_names[ds.target[idx]]\n",
    "print('Instance A is from class', a_class)\n",
    "\n",
    "# get second instance (autos)\n",
    "idx = 4000\n",
    "b = ds.data[idx].todense()\n",
    "b_class = ds.target_names[ds.target[idx]]\n",
    "print('Instance B is from class', b_class)\n",
    "\n",
    "# get third instance (motorcycle)\n",
    "idx = 7000\n",
    "c = ds.data[idx].todense()\n",
    "c_class = ds.target_names[ds.target[idx]]\n",
    "print('Instance C is from class', c_class)\n",
    "\n",
    "# Enter distance comparison below for each pair of vectors:\n",
    "print('\\n\\nEuclidean Distance\\n ab:', euclidean(a,b), 'ac:', euclidean(a,c), 'bc:',euclidean(b,c))\n",
    "print('Cosine Distance\\n ab:', cosine(a,b), 'ac:', cosine(a,c), 'bc:', cosine(b,c))\n",
    "print('Jaccard Dissimilarity (vectors should be boolean values)\\n ab:', jaccard(a>0,b>0), 'ac:', jaccard(a>0,c>0), 'bc:', jaccard(b>0,c>0))\n",
    "\n",
    "print('\\n\\nThe most appropriate distance is...')\n",
    "print(\"Cosine is the best. B&C are the most similar topics. Jaccard doesn't capture B&C as similar, \\n and Cosine shows more distance between the topics than Euclidean, so it seems to be \\n getting better seperation\")"
   ]
  },
  {
   "cell_type": "markdown",
   "metadata": {},
   "source": [
    "___\n",
    "# Start of Live Session Assignment\n",
    "___\n",
    "<a id=\"KNN\"></a>\n",
    "<a href=\"#top\">Back to Top</a>\n",
    "## Using scikit-learn with KNN\n",
    "Now let's use stratified cross validation with a holdout set to train a KNN model in `scikit-learn`. Use the example below to train a KNN classifier. The documentation for `KNeighborsClassifier` is here: http://scikit-learn.org/stable/modules/generated/sklearn.neighbors.KNeighborsClassifier.html  \n",
    "\n",
    "**Exercise for part 3**: Use the code below to test what value of `n_neighbors` works best for the given data. *Note: do NOT change the metric to be anything other than `'euclidean'`. Other distance functions are not optimized for the amount of data we are working with.* \n",
    "\n",
    "**Question for part 3**: What is the accuracy of the best classifier you can create for this data (by changing only the `n_neighbors` parameter)? "
   ]
  },
  {
   "cell_type": "code",
   "execution_count": null,
   "metadata": {},
   "outputs": [],
   "source": [
    "from sklearn.model_selection import StratifiedShuffleSplit\n",
    "from sklearn.neighbors import KNeighborsClassifier\n",
    "from sklearn.metrics import accuracy_score\n",
    "from IPython.html import widgets \n",
    "\n",
    "cv = StratifiedShuffleSplit(test_size = 0.5, train_size=0.5)\n",
    "\n",
    "# fill in the training and testing data and save as separate variables\n",
    "for trainidx, testidx in cv.split(ds.data, ds.target):\n",
    "    # note that these are sparse matrices\n",
    "    X_train = ds.data[trainidx] \n",
    "    X_test = ds.data[testidx] \n",
    "    y_train = ds.target[trainidx]\n",
    "    y_test = ds.target[testidx]\n",
    "\n",
    "# fill in your code  here to train and test\n",
    "# calculate the accuracy and print it for various values of K\n",
    "for K in range(1, 20): \n",
    "    clf = KNeighborsClassifier(n_neighbors=K, weights='uniform', metric='euclidean')\n",
    "    clf = clf.fit(X_train, y_train)\n",
    "    predict = clf.predict(X_test)\n",
    "    acc = accuracy_score(y_test, predict)\n",
    "    print('Accuracy of classifier with %d neighbors is: %.2f'%(K,acc))\n",
    "\n",
    "\n"
   ]
  },
  {
   "cell_type": "markdown",
   "metadata": {},
   "source": [
    "The best accuracy is 60% neighbor with 1 neighbor."
   ]
  },
  {
   "cell_type": "markdown",
   "metadata": {},
   "source": [
    "**Question for part 3**: With sparse data, does the use of a KDTree representation make sense? Why or Why not?"
   ]
  },
  {
   "cell_type": "markdown",
   "metadata": {},
   "source": [
    "Enter your answer below:\n",
    "\n",
    "No. With so many zeroes the data will not branch well with KD Tree. The tree will need to be very deep to handle all of the zero comparisons, reducing the benefit of KDTree. The cost of measuring distance with really sparse data is low compared to the cost of making the tree."
   ]
  },
  {
   "cell_type": "markdown",
   "metadata": {
    "collapsed": true
   },
   "source": [
    "_____\n",
    "## KNN extensions - Centroids\n",
    "Now lets look at a very closely related classifier to KNN, called nearest centroid. In this classifier (which is more appropriate for big data scenarios and sparse data), the training step is used to calculate the centroids for each class. These centroids are saved. Unknown attributes, at prediction time, only need to have distances calculated for each saved centroid, drastically decreasing the time required for a prediction. \n",
    "\n",
    "**Exercise for part 4**: Use the template code below to create a nearest centroid classifier. Test which metric has the best cross validated performance: Euclidean, Cosine, or Manhattan. In `scikit-learn` you can see the documentation for NearestCentroid here: \n",
    "- http://scikit-learn.org/stable/modules/generated/sklearn.neighbors.NearestCentroid.html#sklearn.neighbors.NearestCentroid\n",
    "\n",
    "and for supported distance metrics here:\n",
    "- http://scikit-learn.org/stable/modules/generated/sklearn.metrics.pairwise.distance_metrics.html#sklearn.metrics.pairwise.distance_metrics"
   ]
  },
  {
   "cell_type": "code",
   "execution_count": 23,
   "metadata": {},
   "outputs": [
    {
     "name": "stderr",
     "output_type": "stream",
     "text": [
      "D:\\Users\\William\\Anaconda3\\lib\\site-packages\\sklearn\\neighbors\\nearest_centroid.py:141: UserWarning: Averaging for metrics other than euclidean and manhattan not supported. The average is set to be the mean.\n",
      "  warnings.warn(\"Averaging for metrics other than \"\n"
     ]
    },
    {
     "name": "stdout",
     "output_type": "stream",
     "text": [
      "metric cosine acc 0.4919568675976666\n",
      "metric euclidean acc 0.4094042778858052\n",
      "metric manhattan acc 0.17712568499204526\n"
     ]
    },
    {
     "name": "stderr",
     "output_type": "stream",
     "text": [
      "D:\\Users\\William\\Anaconda3\\lib\\site-packages\\sklearn\\neighbors\\nearest_centroid.py:141: UserWarning: Averaging for metrics other than euclidean and manhattan not supported. The average is set to be the mean.\n",
      "  warnings.warn(\"Averaging for metrics other than \"\n"
     ]
    },
    {
     "name": "stdout",
     "output_type": "stream",
     "text": [
      "metric l1 acc 0.3330387130988156\n",
      "metric l2 acc 0.4094042778858052\n",
      "The best distance metric is: Cosine\n"
     ]
    },
    {
     "name": "stderr",
     "output_type": "stream",
     "text": [
      "D:\\Users\\William\\Anaconda3\\lib\\site-packages\\sklearn\\neighbors\\nearest_centroid.py:141: UserWarning: Averaging for metrics other than euclidean and manhattan not supported. The average is set to be the mean.\n",
      "  warnings.warn(\"Averaging for metrics other than \"\n"
     ]
    }
   ],
   "source": [
    "from sklearn.neighbors.nearest_centroid import NearestCentroid\n",
    "\n",
    "# the parameters for the nearest centroid metric to test are:\n",
    "#    l1, l2, and cosine (all are optimized)\n",
    "for m in  ['cosine', 'euclidean', 'manhattan','l1','l2']:\n",
    "    clf = NearestCentroid(metric=m)\n",
    "    clf.fit(X_train, y_train)\n",
    "    predict = clf.predict(X_test)\n",
    "    acc = accuracy_score(y_test, predict)\n",
    "    print(f'metric {m} acc {acc}')\n",
    "\n",
    "print('The best distance metric is: Cosine')"
   ]
  },
  {
   "cell_type": "markdown",
   "metadata": {},
   "source": [
    "___\n",
    "<a id=\"naive\"></a>\n",
    "<a href=\"#top\">Back to Top</a>\n",
    "## Naive Bayes Classification\n",
    "Now let's look at the use of the Naive Bayes classifier. The 20 newsgroups dataset has 20 classes and about 130,000 features per instance. Recall that the Naive Bayes classifer calculates a posterior distribution for each possible class. Each posterior distribution is a multiplication of many conditional distributions: \n",
    "\n",
    "$${\\arg \\max}_{j} \\left(p(class=j)\\prod_{i} p(attribute=i|class=j) \\right)$$\n",
    "\n",
    "where $p(class=j)$ is the prior and $p(attribute=i|class=j)$ is the conditional probability.\n",
    "\n",
    "**Question for part 5**: With this many classes and features, how many different conditional probabilities need to be parameterized? How many priors need to be parameterized?"
   ]
  },
  {
   "cell_type": "markdown",
   "metadata": {},
   "source": [
    "Enter you answer here:\n",
    "\n",
    "2,602,140 conditional probabilities need to be parameterized.\n",
    "\n",
    "There are 20 priors, one for each class. "
   ]
  },
  {
   "cell_type": "code",
   "execution_count": 24,
   "metadata": {},
   "outputs": [
    {
     "data": {
      "text/plain": [
       "2602140"
      ]
     },
     "execution_count": 24,
     "metadata": {},
     "output_type": "execute_result"
    }
   ],
   "source": [
    "# Use this space for any calculations you might want to do\n",
    "20*130107"
   ]
  },
  {
   "cell_type": "markdown",
   "metadata": {},
   "source": [
    "___\n",
    "## Naive Bayes in Scikit-learn\n",
    "Scikit has several implementations of the Naive Bayes classifier: `GaussianNB`, `MultinomialNB`, and `BernoulliNB`. Look at the documentation here: http://scikit-learn.org/stable/modules/naive_bayes.html Take a look at each implementation and then answer this question: \n",
    "\n",
    "**Questions for part 6**: \n",
    "- If the instances contain mostly continuous attributes, would it be better to use Gaussian Naive Bayes, Multinomial Naive Bayes, or Bernoulli? And Why? \n",
    "- What if the data is sparse, does this change your answer? Why or Why not?"
   ]
  },
  {
   "cell_type": "markdown",
   "metadata": {},
   "source": [
    "\n",
    "Enter you answer here:\n",
    "\n",
    "Gaussian Naive bayes would be best for continuous data. It uses this function to get the probability value of the continuous variable:\n",
    "\n",
    "\n",
    "$$P(x_i \\mid y) = \\frac{1}{\\sqrt{2\\pi\\sigma^2_y}} \\exp\\left(-\\frac{(x_i - \\mu_y)^2}{2\\sigma^2_y}\\right)$$\n",
    "\n",
    "If the matrix is sparse, multinomial NB would be best. The documentation specifically mentions text applications (Which often use sparse matrices), but also the mean of sparse data would be close to zero most of the time so gaussian would not work well. multinomial NB uses this function:\n",
    "\n",
    "$$\\hat{\\theta}_{yi} = \\frac{ N_{yi} + \\alpha}{N_y + \\alpha n}$$"
   ]
  },
  {
   "cell_type": "markdown",
   "metadata": {},
   "source": [
    "## Naive Bayes Comparison\n",
    "For the final section of this notebook let's compare the performance of Naive Bayes for document classification. Look at the parameters for `MultinomialNB`, and `BernoulliNB` (especially `alpha` and `binarize`). \n",
    "\n",
    "**Exercise for part 7**: Using the example code below, change the parameters for each classifier and see how accurate you can make the classifiers on the test set. \n",
    "\n",
    "**Question for part 7**: Why are these implementations so fast to train? What does the `'alpha'` value control in these models (*i.e.*, how does it change the parameterizations)? "
   ]
  },
  {
   "cell_type": "code",
   "execution_count": 47,
   "metadata": {},
   "outputs": [
    {
     "name": "stdout",
     "output_type": "stream",
     "text": [
      "0.01: mnb acc 0.8836839314124094\n",
      "(0.01, 0.0): bnb acc 0.8836839314124094\n",
      "(0.01, 0.022222222222222223): bnb acc 0.8836839314124094\n",
      "(0.01, 0.044444444444444446): bnb acc 0.8836839314124094\n",
      "(0.01, 0.06666666666666667): bnb acc 0.8836839314124094\n",
      "(0.01, 0.08888888888888889): bnb acc 0.8836839314124094\n",
      "(0.01, 0.11111111111111112): bnb acc 0.8836839314124094\n",
      "(0.01, 0.13333333333333333): bnb acc 0.8836839314124094\n",
      "(0.01, 0.15555555555555556): bnb acc 0.8836839314124094\n",
      "(0.01, 0.17777777777777778): bnb acc 0.8836839314124094\n",
      "(0.01, 0.2): bnb acc 0.8836839314124094\n",
      "0.12: mnb acc 0.8283542513699841\n",
      "(0.12, 0.0): bnb acc 0.8283542513699841\n",
      "(0.12, 0.022222222222222223): bnb acc 0.8283542513699841\n",
      "(0.12, 0.044444444444444446): bnb acc 0.8283542513699841\n",
      "(0.12, 0.06666666666666667): bnb acc 0.8283542513699841\n",
      "(0.12, 0.08888888888888889): bnb acc 0.8283542513699841\n",
      "(0.12, 0.11111111111111112): bnb acc 0.8283542513699841\n",
      "(0.12, 0.13333333333333333): bnb acc 0.8283542513699841\n",
      "(0.12, 0.15555555555555556): bnb acc 0.8283542513699841\n",
      "(0.12, 0.17777777777777778): bnb acc 0.8283542513699841\n",
      "(0.12, 0.2): bnb acc 0.8283542513699841\n",
      "0.23: mnb acc 0.8006010252784161\n",
      "(0.23, 0.0): bnb acc 0.8006010252784161\n",
      "(0.23, 0.022222222222222223): bnb acc 0.8006010252784161\n",
      "(0.23, 0.044444444444444446): bnb acc 0.8006010252784161\n",
      "(0.23, 0.06666666666666667): bnb acc 0.8006010252784161\n",
      "(0.23, 0.08888888888888889): bnb acc 0.8006010252784161\n",
      "(0.23, 0.11111111111111112): bnb acc 0.8006010252784161\n",
      "(0.23, 0.13333333333333333): bnb acc 0.8006010252784161\n",
      "(0.23, 0.15555555555555556): bnb acc 0.8006010252784161\n",
      "(0.23, 0.17777777777777778): bnb acc 0.8006010252784161\n",
      "(0.23, 0.2): bnb acc 0.8006010252784161\n",
      "0.34: mnb acc 0.7797419126745625\n",
      "(0.34, 0.0): bnb acc 0.7797419126745625\n",
      "(0.34, 0.022222222222222223): bnb acc 0.7797419126745625\n",
      "(0.34, 0.044444444444444446): bnb acc 0.7797419126745625\n",
      "(0.34, 0.06666666666666667): bnb acc 0.7797419126745625\n",
      "(0.34, 0.08888888888888889): bnb acc 0.7797419126745625\n",
      "(0.34, 0.11111111111111112): bnb acc 0.7797419126745625\n",
      "(0.34, 0.13333333333333333): bnb acc 0.7797419126745625\n",
      "(0.34, 0.15555555555555556): bnb acc 0.7797419126745625\n",
      "(0.34, 0.17777777777777778): bnb acc 0.7797419126745625\n",
      "(0.34, 0.2): bnb acc 0.7797419126745625\n",
      "0.45: mnb acc 0.7661304578398445\n",
      "(0.45, 0.0): bnb acc 0.7661304578398445\n",
      "(0.45, 0.022222222222222223): bnb acc 0.7661304578398445\n",
      "(0.45, 0.044444444444444446): bnb acc 0.7661304578398445\n",
      "(0.45, 0.06666666666666667): bnb acc 0.7661304578398445\n",
      "(0.45, 0.08888888888888889): bnb acc 0.7661304578398445\n",
      "(0.45, 0.11111111111111112): bnb acc 0.7661304578398445\n",
      "(0.45, 0.13333333333333333): bnb acc 0.7661304578398445\n",
      "(0.45, 0.15555555555555556): bnb acc 0.7661304578398445\n",
      "(0.45, 0.17777777777777778): bnb acc 0.7661304578398445\n",
      "(0.45, 0.2): bnb acc 0.7661304578398445\n",
      "0.56: mnb acc 0.7525190030051264\n",
      "(0.56, 0.0): bnb acc 0.7525190030051264\n",
      "(0.56, 0.022222222222222223): bnb acc 0.7525190030051264\n",
      "(0.56, 0.044444444444444446): bnb acc 0.7525190030051264\n",
      "(0.56, 0.06666666666666667): bnb acc 0.7525190030051264\n",
      "(0.56, 0.08888888888888889): bnb acc 0.7525190030051264\n",
      "(0.56, 0.11111111111111112): bnb acc 0.7525190030051264\n",
      "(0.56, 0.13333333333333333): bnb acc 0.7525190030051264\n",
      "(0.56, 0.15555555555555556): bnb acc 0.7525190030051264\n",
      "(0.56, 0.17777777777777778): bnb acc 0.7525190030051264\n",
      "(0.56, 0.2): bnb acc 0.7525190030051264\n",
      "0.67: mnb acc 0.7403217252960933\n",
      "(0.67, 0.0): bnb acc 0.7403217252960933\n",
      "(0.67, 0.022222222222222223): bnb acc 0.7403217252960933\n",
      "(0.67, 0.044444444444444446): bnb acc 0.7403217252960933\n",
      "(0.67, 0.06666666666666667): bnb acc 0.7403217252960933\n",
      "(0.67, 0.08888888888888889): bnb acc 0.7403217252960933\n",
      "(0.67, 0.11111111111111112): bnb acc 0.7403217252960933\n",
      "(0.67, 0.13333333333333333): bnb acc 0.7403217252960933\n",
      "(0.67, 0.15555555555555556): bnb acc 0.7403217252960933\n",
      "(0.67, 0.17777777777777778): bnb acc 0.7403217252960933\n",
      "(0.67, 0.2): bnb acc 0.7403217252960933\n",
      "0.78: mnb acc 0.7290083082906134\n",
      "(0.78, 0.0): bnb acc 0.7290083082906134\n",
      "(0.78, 0.022222222222222223): bnb acc 0.7290083082906134\n",
      "(0.78, 0.044444444444444446): bnb acc 0.7290083082906134\n",
      "(0.78, 0.06666666666666667): bnb acc 0.7290083082906134\n",
      "(0.78, 0.08888888888888889): bnb acc 0.7290083082906134\n",
      "(0.78, 0.11111111111111112): bnb acc 0.7290083082906134\n",
      "(0.78, 0.13333333333333333): bnb acc 0.7290083082906134\n",
      "(0.78, 0.15555555555555556): bnb acc 0.7290083082906134\n",
      "(0.78, 0.17777777777777778): bnb acc 0.7290083082906134\n",
      "(0.78, 0.2): bnb acc 0.7290083082906134\n",
      "0.89: mnb acc 0.715573625596606\n",
      "(0.89, 0.0): bnb acc 0.715573625596606\n",
      "(0.89, 0.022222222222222223): bnb acc 0.715573625596606\n",
      "(0.89, 0.044444444444444446): bnb acc 0.715573625596606\n",
      "(0.89, 0.06666666666666667): bnb acc 0.715573625596606\n",
      "(0.89, 0.08888888888888889): bnb acc 0.715573625596606\n",
      "(0.89, 0.11111111111111112): bnb acc 0.715573625596606\n",
      "(0.89, 0.13333333333333333): bnb acc 0.715573625596606\n",
      "(0.89, 0.15555555555555556): bnb acc 0.715573625596606\n",
      "(0.89, 0.17777777777777778): bnb acc 0.715573625596606\n",
      "(0.89, 0.2): bnb acc 0.715573625596606\n",
      "1.0: mnb acc 0.704260208591126\n",
      "(1.0, 0.0): bnb acc 0.704260208591126\n",
      "(1.0, 0.022222222222222223): bnb acc 0.704260208591126\n",
      "(1.0, 0.044444444444444446): bnb acc 0.704260208591126\n",
      "(1.0, 0.06666666666666667): bnb acc 0.704260208591126\n",
      "(1.0, 0.08888888888888889): bnb acc 0.704260208591126\n",
      "(1.0, 0.11111111111111112): bnb acc 0.704260208591126\n",
      "(1.0, 0.13333333333333333): bnb acc 0.704260208591126\n",
      "(1.0, 0.15555555555555556): bnb acc 0.704260208591126\n",
      "(1.0, 0.17777777777777778): bnb acc 0.704260208591126\n",
      "(1.0, 0.2): bnb acc 0.704260208591126\n"
     ]
    }
   ],
   "source": [
    "from sklearn.naive_bayes import MultinomialNB\n",
    "from sklearn.naive_bayes import BernoulliNB\n",
    "\n",
    "\n",
    "alpha = np.linspace(0.01, 1, 10)\n",
    "binarize = np.linspace(0, 0.2, 10)\n",
    "for a in alpha:\n",
    "    clf_mnb = MultinomialNB(alpha=a)\n",
    "    clf_mnb.fit(X_train, y_train)\n",
    "    predict_mnb = clf_mnb.predict(X_test)\n",
    "    acc_mnb = accuracy_score(y_test, predict_mnb)\n",
    "    print(f'{a}: mnb acc {acc_mnb}')\n",
    "    for b in binarize:\n",
    "        clf_bnb = BernoulliNB(alpha=a, binarize=b)\n",
    "        clf_bnb.fit(X_train, y_train)\n",
    "        predict_bnb = clf_mnb.predict(X_test)\n",
    "        acc_bnb = accuracy_score(y_test, predict_mnb)\n",
    "        print(f'{(a, b)}: bnb acc {acc_bnb}')\n",
    "            \n"
   ]
  },
  {
   "cell_type": "markdown",
   "metadata": {},
   "source": [
    "These classifiers are so fast because...\n",
    "\n",
    "From SKlearn documentation: https://scikit-learn.org/stable/modules/naive_bayes.html#:~:text=\n",
    "\n",
    "Naive Bayes learners and classifiers can be extremely fast compared to more sophisticated methods. The decoupling of the class conditional feature distributions means that each distribution can be independently estimated as a one dimensional distribution. This in turn helps to alleviate problems stemming from the curse of dimensionality.\n",
    "\n",
    "The alpha value controls the smoothing parameter, which helps the classifier deal with zero probabilities generated by the sparse data associated with text data. "
   ]
  },
  {
   "cell_type": "markdown",
   "metadata": {
    "collapsed": true
   },
   "source": [
    "________________________________________________________________________________________________________\n",
    "\n",
    "That's all! Please **upload your rendered notebook to blackboard** and please include **team member names** in the notebook submission."
   ]
  },
  {
   "cell_type": "markdown",
   "metadata": {
    "collapsed": true
   },
   "source": [
    "What is blackboard?"
   ]
  }
 ],
 "metadata": {
  "kernelspec": {
   "display_name": "Python 3",
   "language": "python",
   "name": "python3"
  },
  "language_info": {
   "codemirror_mode": {
    "name": "ipython",
    "version": 3
   },
   "file_extension": ".py",
   "mimetype": "text/x-python",
   "name": "python",
   "nbconvert_exporter": "python",
   "pygments_lexer": "ipython3",
   "version": "3.6.1"
  }
 },
 "nbformat": 4,
 "nbformat_minor": 1
}
