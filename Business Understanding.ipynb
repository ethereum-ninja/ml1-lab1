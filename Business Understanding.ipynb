{
 "cells": [
  {
   "cell_type": "markdown",
   "metadata": {},
   "source": [
    "## Business Understanding"
   ]
  },
  {
   "cell_type": "markdown",
   "metadata": {},
   "source": [
    "Describe the purpose of the data set you selected (i.e., why was this data collected in\n",
    "the first place?). "
   ]
  },
  {
   "cell_type": "markdown",
   "metadata": {},
   "source": [
    "Airbnb is a room sharing platform. Hosts can share space they are not using and guests can rent the space when they need a place to stay. Hosts and Guests are brought together on airbnb.com, where they can review available listings in the area of their choice, as well as other travel offerings. Airbnb offers protection to hosts in case of damage to their property, and guests can benefit from the ratings left by other guests. \n",
    "\n",
    "Airbnb markets itself as a disruptor of the hotel industry, offering guests more choices and often cheaper prices in the places they live and visit. It is part of the sharing economy, allowing hosts to monitize rooms that are temporarily unoccupied. Opponents critize the lact of guest protection typically provided by hotel regulation and negative impacts on communities from the constant stream of guests. \n",
    "\n",
    "The website http://insideairbnb.com/ is dedicated to analyzing the impact of airbnb on communities. They scraped listing data from Airbnb's website, which was then posted to Kaggle by the user Dgomonov who lists themselves as a student at Drexel University in their profile. The purpose of the data is to help understand how airbnb hosts are doing business and how that effects communities. Are hosts just sharing space temporarily or are they setting up long term rentals? Are hosts sharing space in their homes or do they have multiple properties, which would imply they are running a business. More information about their analysis goals can be found here http://insideairbnb.com/about.html.\n",
    "\n",
    "While we sourced our data from Kaggle, user Dgomonov sourced it from insideairbnb.com, you can find it here: http://insideairbnb.com/get-the-data.html. Data is available for many locales, not just New York City. The about page cited in the previous paragraph also has a disclaimers section, which states they are not associated with airbnb or competitors, among other important disclosures. Worth mentioning here is that the data quality is not garunteed, however they do exercise care in collecting it. All data was publically available when it was collected, no \"private\" data was used. There are many other useful disclosures on that page. \n",
    "\n",
    "This data set we used for this project includes listings in the New York City area during 2019 and was sourced from the following Kaggle site: https://www.kaggle.com/dgomonov/new-york-city-airbnb-open-data. "
   ]
  },
  {
   "cell_type": "markdown",
   "metadata": {},
   "source": [
    "Describe how you would define and measure the outcomes from the\n",
    "dataset."
   ]
  },
  {
   "cell_type": "markdown",
   "metadata": {},
   "source": [
    "That is, why is this data important and how do you know if you have mined\n",
    "useful knowledge from the dataset?"
   ]
  },
  {
   "cell_type": "markdown",
   "metadata": {},
   "source": [
    "How would you measure the effectiveness of a\n",
    "good prediction algorithm? Be specific."
   ]
  }
 ],
 "metadata": {
  "kernelspec": {
   "display_name": "Python 3",
   "language": "python",
   "name": "python3"
  },
  "language_info": {
   "codemirror_mode": {
    "name": "ipython",
    "version": 3
   },
   "file_extension": ".py",
   "mimetype": "text/x-python",
   "name": "python",
   "nbconvert_exporter": "python",
   "pygments_lexer": "ipython3",
   "version": "3.7.1"
  }
 },
 "nbformat": 4,
 "nbformat_minor": 2
}
