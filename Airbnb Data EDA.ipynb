{
 "cells": [
  {
   "cell_type": "markdown",
   "metadata": {},
   "source": [
    "\n",
    "The data set contains 16 columns, 48895 unique values(samples). \n",
    "\n",
    "Variables\n",
    "id: listing ID\n",
    "name: name of the listing\n",
    "host_id: host ID\n",
    "host_name: name of the host\n",
    "neighbourhood_group: location\n",
    "neighbourhood: area\n",
    "latitude: latitude coordinateslatitude: latitude coordinates\n",
    "longitude: longitude coordinates\n",
    "room_type: listing space type\n",
    "price: price in dollars\n",
    "minimum_nights: amount of nights minimum\n",
    "number_of_reviews: number of reviews\n",
    "last_review: latest review\n",
    "reviews_per_month: number of reviews per month\n",
    "calculated_host_listings_count: amount of listing per host\n",
    "availability_365: number of days when listing is available for booking\n",
    "link: https://www.kaggle.com/dgomonov/new-york-city--open-data\n",
    "\n"
   ]
  },
  {
   "cell_type": "code",
   "execution_count": 23,
   "metadata": {},
   "outputs": [],
   "source": [
    "import pandas as pd\n",
    "import numpy as np\n",
    "import matplotlib.pyplot as plt \n",
    "import datetime as dt\n",
    "import seaborn as sns\n",
    "\n",
    "# sklearn stuff\n",
    "from sklearn.naive_bayes import GaussianNB\n",
    "from sklearn.linear_model import LogisticRegression, LinearRegression\n",
    "from sklearn.ensemble import RandomForestClassifier\n",
    "from sklearn.model_selection import train_test_split, GridSearchCV\n",
    "from sklearn.preprocessing import StandardScaler, OneHotEncoder\n",
    "from sklearn.metrics import accuracy_score, confusion_matrix, roc_curve, roc_auc_score\n",
    "from sklearn.decomposition import PCA\n",
    "from sklearn.pipeline import Pipeline\n",
    "\n",
    "#yellobrick stuff\n",
    "from yellowbrick.classifier import ConfusionMatrix, DiscriminationThreshold, PrecisionRecallCurve, ClassificationReport, ClassPredictionError, ROCAUC\n",
    "from yellowbrick.target import ClassBalance\n",
    "import warnings\n",
    "warnings.simplefilter(action='ignore', category=FutureWarning)"
   ]
  },
  {
   "cell_type": "code",
   "execution_count": 24,
   "metadata": {},
   "outputs": [
    {
     "data": {
      "text/html": [
       "<div>\n",
       "<style scoped>\n",
       "    .dataframe tbody tr th:only-of-type {\n",
       "        vertical-align: middle;\n",
       "    }\n",
       "\n",
       "    .dataframe tbody tr th {\n",
       "        vertical-align: top;\n",
       "    }\n",
       "\n",
       "    .dataframe thead th {\n",
       "        text-align: right;\n",
       "    }\n",
       "</style>\n",
       "<table border=\"1\" class=\"dataframe\">\n",
       "  <thead>\n",
       "    <tr style=\"text-align: right;\">\n",
       "      <th></th>\n",
       "      <th>id</th>\n",
       "      <th>name</th>\n",
       "      <th>host_id</th>\n",
       "      <th>host_name</th>\n",
       "      <th>neighbourhood_group</th>\n",
       "      <th>neighbourhood</th>\n",
       "      <th>latitude</th>\n",
       "      <th>longitude</th>\n",
       "      <th>room_type</th>\n",
       "      <th>price</th>\n",
       "      <th>minimum_nights</th>\n",
       "      <th>number_of_reviews</th>\n",
       "      <th>last_review</th>\n",
       "      <th>reviews_per_month</th>\n",
       "      <th>calculated_host_listings_count</th>\n",
       "      <th>availability_365</th>\n",
       "    </tr>\n",
       "  </thead>\n",
       "  <tbody>\n",
       "    <tr>\n",
       "      <td>0</td>\n",
       "      <td>2539</td>\n",
       "      <td>Clean &amp; quiet apt home by the park</td>\n",
       "      <td>2787</td>\n",
       "      <td>John</td>\n",
       "      <td>Brooklyn</td>\n",
       "      <td>Kensington</td>\n",
       "      <td>40.64749</td>\n",
       "      <td>-73.97237</td>\n",
       "      <td>Private room</td>\n",
       "      <td>149</td>\n",
       "      <td>1</td>\n",
       "      <td>9</td>\n",
       "      <td>2018-10-19</td>\n",
       "      <td>0.21</td>\n",
       "      <td>6</td>\n",
       "      <td>365</td>\n",
       "    </tr>\n",
       "    <tr>\n",
       "      <td>1</td>\n",
       "      <td>2595</td>\n",
       "      <td>Skylit Midtown Castle</td>\n",
       "      <td>2845</td>\n",
       "      <td>Jennifer</td>\n",
       "      <td>Manhattan</td>\n",
       "      <td>Midtown</td>\n",
       "      <td>40.75362</td>\n",
       "      <td>-73.98377</td>\n",
       "      <td>Entire home/apt</td>\n",
       "      <td>225</td>\n",
       "      <td>1</td>\n",
       "      <td>45</td>\n",
       "      <td>2019-05-21</td>\n",
       "      <td>0.38</td>\n",
       "      <td>2</td>\n",
       "      <td>355</td>\n",
       "    </tr>\n",
       "    <tr>\n",
       "      <td>2</td>\n",
       "      <td>3647</td>\n",
       "      <td>THE VILLAGE OF HARLEM....NEW YORK !</td>\n",
       "      <td>4632</td>\n",
       "      <td>Elisabeth</td>\n",
       "      <td>Manhattan</td>\n",
       "      <td>Harlem</td>\n",
       "      <td>40.80902</td>\n",
       "      <td>-73.94190</td>\n",
       "      <td>Private room</td>\n",
       "      <td>150</td>\n",
       "      <td>3</td>\n",
       "      <td>0</td>\n",
       "      <td>NaN</td>\n",
       "      <td>NaN</td>\n",
       "      <td>1</td>\n",
       "      <td>365</td>\n",
       "    </tr>\n",
       "    <tr>\n",
       "      <td>3</td>\n",
       "      <td>3831</td>\n",
       "      <td>Cozy Entire Floor of Brownstone</td>\n",
       "      <td>4869</td>\n",
       "      <td>LisaRoxanne</td>\n",
       "      <td>Brooklyn</td>\n",
       "      <td>Clinton Hill</td>\n",
       "      <td>40.68514</td>\n",
       "      <td>-73.95976</td>\n",
       "      <td>Entire home/apt</td>\n",
       "      <td>89</td>\n",
       "      <td>1</td>\n",
       "      <td>270</td>\n",
       "      <td>2019-07-05</td>\n",
       "      <td>4.64</td>\n",
       "      <td>1</td>\n",
       "      <td>194</td>\n",
       "    </tr>\n",
       "    <tr>\n",
       "      <td>4</td>\n",
       "      <td>5022</td>\n",
       "      <td>Entire Apt: Spacious Studio/Loft by central park</td>\n",
       "      <td>7192</td>\n",
       "      <td>Laura</td>\n",
       "      <td>Manhattan</td>\n",
       "      <td>East Harlem</td>\n",
       "      <td>40.79851</td>\n",
       "      <td>-73.94399</td>\n",
       "      <td>Entire home/apt</td>\n",
       "      <td>80</td>\n",
       "      <td>10</td>\n",
       "      <td>9</td>\n",
       "      <td>2018-11-19</td>\n",
       "      <td>0.10</td>\n",
       "      <td>1</td>\n",
       "      <td>0</td>\n",
       "    </tr>\n",
       "  </tbody>\n",
       "</table>\n",
       "</div>"
      ],
      "text/plain": [
       "     id                                              name  host_id  \\\n",
       "0  2539                Clean & quiet apt home by the park     2787   \n",
       "1  2595                             Skylit Midtown Castle     2845   \n",
       "2  3647               THE VILLAGE OF HARLEM....NEW YORK !     4632   \n",
       "3  3831                   Cozy Entire Floor of Brownstone     4869   \n",
       "4  5022  Entire Apt: Spacious Studio/Loft by central park     7192   \n",
       "\n",
       "     host_name neighbourhood_group neighbourhood  latitude  longitude  \\\n",
       "0         John            Brooklyn    Kensington  40.64749  -73.97237   \n",
       "1     Jennifer           Manhattan       Midtown  40.75362  -73.98377   \n",
       "2    Elisabeth           Manhattan        Harlem  40.80902  -73.94190   \n",
       "3  LisaRoxanne            Brooklyn  Clinton Hill  40.68514  -73.95976   \n",
       "4        Laura           Manhattan   East Harlem  40.79851  -73.94399   \n",
       "\n",
       "         room_type  price  minimum_nights  number_of_reviews last_review  \\\n",
       "0     Private room    149               1                  9  2018-10-19   \n",
       "1  Entire home/apt    225               1                 45  2019-05-21   \n",
       "2     Private room    150               3                  0         NaN   \n",
       "3  Entire home/apt     89               1                270  2019-07-05   \n",
       "4  Entire home/apt     80              10                  9  2018-11-19   \n",
       "\n",
       "   reviews_per_month  calculated_host_listings_count  availability_365  \n",
       "0               0.21                               6               365  \n",
       "1               0.38                               2               355  \n",
       "2                NaN                               1               365  \n",
       "3               4.64                               1               194  \n",
       "4               0.10                               1                 0  "
      ]
     },
     "execution_count": 24,
     "metadata": {},
     "output_type": "execute_result"
    }
   ],
   "source": [
    "data = pd.read_csv('AB_NYC_2019.csv')\n",
    "data.head()"
   ]
  },
  {
   "cell_type": "code",
   "execution_count": 25,
   "metadata": {},
   "outputs": [],
   "source": [
    "def imply_season(month):\n",
    "    return 'Summer' if month in [12, 1, 2] else 'Fall' if month in [3, 4, 5] else 'Spring' if month in [9, 10, 11] else 'Winter' \n",
    "\n",
    "def analyze_classifier(model, X_train, X_test, y_train, y_test, response='Response', classes=[1, 2, 3]):\n",
    "#    room_types = {\n",
    "#    'Entire home/apt':1,\n",
    "#    'Private room':2,\n",
    "#    'Shared room': 3\n",
    "#}\n",
    "    \n",
    "    matrix = ConfusionMatrix(model)\n",
    "    matrix.fit(X_train, y_train[response])\n",
    "    matrix.score(X_test, y_test[response])\n",
    "    matrix.show()\n",
    "    class_report = ClassificationReport(model, support=True)\n",
    "    class_report.fit(X_train, y_train[response])\n",
    "    class_report.score(X_test, y_test[response])\n",
    "    class_report.show()\n",
    "    roc_auc = ROCAUC(model)\n",
    "    roc_auc.fit(X_train, y_train[response])\n",
    "    roc_auc.score(X_test, y_test[response])\n",
    "    roc_auc.show()\n",
    "    #disc_thresh = DiscriminationThreshold(model)\n",
    "    #disc_thresh.fit(X_train, y_train.values.ravel())\n",
    "    #disc_thresh.show()\n",
    "    recall = PrecisionRecallCurve(model)\n",
    "    recall.fit(X_train, y_train)\n",
    "    recall.score(X_test, y_test)\n",
    "    recall.show()\n",
    "    return disc_thresh.thresholds_, disc_thresh.cv_scores_\n",
    "\n",
    "def sklearn_vif(exogs, data):\n",
    "\n",
    "    # initialize dictionaries\n",
    "    vif_dict, tolerance_dict = {}, {}\n",
    "\n",
    "    # form input data for each exogenous variable\n",
    "    for exog in exogs:\n",
    "        #print(exog)\n",
    "        not_exog = [i for i in exogs if i != exog]\n",
    "        #print(not_exog)\n",
    "        X, y = data[not_exog], data[exog]\n",
    "\n",
    "        # extract r-squared from the fit\n",
    "        r_squared = LinearRegression().fit(X, y).score(X, y)\n",
    "\n",
    "        # calculate VIF\n",
    "        vif = 1/(1 - r_squared)\n",
    "        vif_dict[exog] = vif\n",
    "\n",
    "        # calculate tolerance\n",
    "        tolerance = 1 - r_squared\n",
    "        tolerance_dict[exog] = tolerance\n",
    "\n",
    "    # return VIF DataFrame\n",
    "    df_vif = pd.DataFrame({'VIF': vif_dict, 'Tolerance': tolerance_dict})\n",
    "\n",
    "    return df_vif\n",
    "\n",
    "def compute_new_conf_matrix(predictions, probabilities, cutoff, y_test):\n",
    "    #create a df of predictions and probabilities\n",
    "    predictions = pd.DataFrame(list(predictions), columns=['Predict'])\n",
    "    predicted_probs = pd.concat([pd.DataFrame(list(probabilities), columns=['ProbFalse', 'ProbTrue']), predictions], axis=1)\n",
    "    #make array of values where val > cutoff\n",
    "    predicted_probs['NewPredict'] = predicted_probs['ProbTrue'].apply(lambda x: 1 if x >= cutoff else 0)\n",
    "    matrix = pd.DataFrame(confusion_matrix(y_test, predicted_probs.NewPredict))\n",
    "    matrix.rename(columns={0:'No_Predicted',\n",
    "                            1:'Yes_Predicted'}, \n",
    "                  index={0:'No_True',\n",
    "                            1:'Yes_True'},\n",
    "                  inplace=True)\n",
    "    return round(accuracy_score(y_test, predicted_probs.NewPredict),5), matrix, predicted_probs\n",
    "    "
   ]
  },
  {
   "cell_type": "code",
   "execution_count": 26,
   "metadata": {},
   "outputs": [
    {
     "name": "stdout",
     "output_type": "stream",
     "text": [
      "['Brooklyn' 'Manhattan' 'Queens' 'Staten Island' 'Bronx']\n",
      "['Private room' 'Entire home/apt' 'Shared room']\n"
     ]
    },
    {
     "data": {
      "text/plain": [
       "10052"
      ]
     },
     "execution_count": 26,
     "metadata": {},
     "output_type": "execute_result"
    }
   ],
   "source": [
    "print(data['neighbourhood_group'].unique())\n",
    "print(data['room_type'].unique())\n",
    "len(data[data['last_review'].isna()])"
   ]
  },
  {
   "cell_type": "code",
   "execution_count": 27,
   "metadata": {},
   "outputs": [
    {
     "data": {
      "image/png": "[encoded data removed]",
      "text/plain": [
       "<Figure size 432x288 with 1 Axes>"
      ]
     },
     "metadata": {
      "needs_background": "light"
     },
     "output_type": "display_data"
    },
    {
     "data": {
      "image/png": "[encoded data removed]",
      "text/plain": [
       "<Figure size 432x288 with 6 Axes>"
      ]
     },
     "metadata": {
      "needs_background": "light"
     },
     "output_type": "display_data"
    }
   ],
   "source": [
    "data[data.reviews_per_month < 10]['reviews_per_month'].hist(bins=10)\n",
    "#appropriate bins are 1, 2, 3, 4, 5\n",
    "data['reviews_per_month'].fillna(0, inplace=True)\n",
    "data['reviews_per_month_cut'] = pd.cut(data.reviews_per_month, bins=range(0,6)\n",
    "                                       , labels=['Less Than One', 'Less Than 2', 'Less Than Three', 'Less Than Four', 'Less Than Five'])\n",
    "data['reviews_per_month_cut'].cat.add_categories(['Greater Than Five'], inplace=True)\n",
    "data.loc[data.reviews_per_month_cut.isna(), ['reviews_per_month_cut']] = 'Greater Than Five'\n",
    "data['price'].hist(by=data['reviews_per_month_cut'])\n",
    "\n",
    "features = ['neighbourhood_group'\n",
    "            , 'neighbourhood'\n",
    "            , 'latitude'\n",
    "            , 'longitude'\n",
    "            , 'price'\n",
    "            , 'minimum_nights'\n",
    "            , 'number_of_reviews'\n",
    "            , 'reviews_per_month'\n",
    "            , 'calculated_host_listings_count'\n",
    "            , 'availability_365']\n",
    "\n",
    "target = 'room_type'\n",
    "data['neighbourhood_group'] = data['neighbourhood_group'].astype('category')\n",
    "data['neighbourhood'] = data['neighbourhood'].astype('category')\n",
    "data['last_review'] = pd.to_datetime(data['last_review'])\n",
    "data['days_since_last_review'] = (dt.datetime.strptime('2020-01-01', '%Y-%m-%d') - data['last_review']).dt.days\n",
    "\n",
    "data.days_since_last_review.fillna(data.days_since_last_review.max(), inplace=True) "
   ]
  },
  {
   "cell_type": "code",
   "execution_count": 28,
   "metadata": {},
   "outputs": [],
   "source": [
    "data.drop(columns=['id', 'name', 'host_id', 'host_name'], inplace=True)"
   ]
  },
  {
   "cell_type": "code",
   "execution_count": 7,
   "metadata": {},
   "outputs": [],
   "source": [
    "data['price'] = data['price'].astype('float')\n",
    "data['minimum_nights'] = data['minimum_nights'].astype('float')\n",
    "data['number_of_reviews'] = data['number_of_reviews'].astype('float')\n",
    "data['calculated_host_listings_count'] = data['calculated_host_listings_count'].astype('float')\n",
    "data['availability_365'] = data['availability_365'].astype('float')"
   ]
  },
  {
   "cell_type": "code",
   "execution_count": 8,
   "metadata": {},
   "outputs": [
    {
     "name": "stdout",
     "output_type": "stream",
     "text": [
      "<class 'pandas.core.frame.DataFrame'>\n",
      "RangeIndex: 48895 entries, 0 to 48894\n",
      "Data columns (total 14 columns):\n",
      "neighbourhood_group               48895 non-null category\n",
      "neighbourhood                     48895 non-null category\n",
      "latitude                          48895 non-null float64\n",
      "longitude                         48895 non-null float64\n",
      "room_type                         48895 non-null object\n",
      "price                             48895 non-null float64\n",
      "minimum_nights                    48895 non-null float64\n",
      "number_of_reviews                 48895 non-null float64\n",
      "last_review                       38843 non-null datetime64[ns]\n",
      "reviews_per_month                 48895 non-null float64\n",
      "calculated_host_listings_count    48895 non-null float64\n",
      "availability_365                  48895 non-null float64\n",
      "reviews_per_month_cut             48895 non-null category\n",
      "days_since_last_review            48895 non-null float64\n",
      "dtypes: category(3), datetime64[ns](1), float64(9), object(1)\n",
      "memory usage: 4.3+ MB\n"
     ]
    }
   ],
   "source": [
    "data.info()"
   ]
  },
  {
   "cell_type": "markdown",
   "metadata": {},
   "source": [
    "-  price: the price per night; response variable\n",
    "-  latitude: locational coordinate; used by Charlie for geospatial modeling\n",
    "-  longitude: locational coordinate; used by Charlie for geospatial modeling\n",
    "-  minimum_nights: minimum number of nights a guest can stay for the rental\n"
   ]
  },
  {
   "cell_type": "code",
   "execution_count": 9,
   "metadata": {},
   "outputs": [
    {
     "name": "stdout",
     "output_type": "stream",
     "text": [
      "neighbourhood_group was OHE'd\n",
      "neighbourhood was OHE'd\n",
      "reviews_per_month_cut was OHE'd\n",
      "latitude was Standard Scaled\n",
      "longitude was Standard Scaled\n",
      "price was Standard Scaled\n",
      "minimum_nights was Standard Scaled\n",
      "number_of_reviews was Standard Scaled\n",
      "reviews_per_month was Standard Scaled\n",
      "calculated_host_listings_count was Standard Scaled\n",
      "availability_365 was Standard Scaled\n",
      "days_since_last_review was Standard Scaled\n"
     ]
    },
    {
     "data": {
      "text/html": [
       "<div>\n",
       "<style scoped>\n",
       "    .dataframe tbody tr th:only-of-type {\n",
       "        vertical-align: middle;\n",
       "    }\n",
       "\n",
       "    .dataframe tbody tr th {\n",
       "        vertical-align: top;\n",
       "    }\n",
       "\n",
       "    .dataframe thead th {\n",
       "        text-align: right;\n",
       "    }\n",
       "</style>\n",
       "<table border=\"1\" class=\"dataframe\">\n",
       "  <thead>\n",
       "    <tr style=\"text-align: right;\">\n",
       "      <th></th>\n",
       "      <th>latitude</th>\n",
       "      <th>longitude</th>\n",
       "      <th>price</th>\n",
       "      <th>minimum_nights</th>\n",
       "      <th>number_of_reviews</th>\n",
       "      <th>reviews_per_month</th>\n",
       "      <th>calculated_host_listings_count</th>\n",
       "      <th>availability_365</th>\n",
       "      <th>days_since_last_review</th>\n",
       "      <th>neighbourhood_group_Bronx</th>\n",
       "      <th>...</th>\n",
       "      <th>neighbourhood_Woodhaven</th>\n",
       "      <th>neighbourhood_Woodlawn</th>\n",
       "      <th>neighbourhood_Woodrow</th>\n",
       "      <th>neighbourhood_Woodside</th>\n",
       "      <th>reviews_per_month_cut_Less Than One</th>\n",
       "      <th>reviews_per_month_cut_Less Than 2</th>\n",
       "      <th>reviews_per_month_cut_Less Than Three</th>\n",
       "      <th>reviews_per_month_cut_Less Than Four</th>\n",
       "      <th>reviews_per_month_cut_Less Than Five</th>\n",
       "      <th>reviews_per_month_cut_Greater Than Five</th>\n",
       "    </tr>\n",
       "  </thead>\n",
       "  <tbody>\n",
       "    <tr>\n",
       "      <td>count</td>\n",
       "      <td>4.889500e+04</td>\n",
       "      <td>4.889500e+04</td>\n",
       "      <td>4.889500e+04</td>\n",
       "      <td>4.889500e+04</td>\n",
       "      <td>4.889500e+04</td>\n",
       "      <td>4.889500e+04</td>\n",
       "      <td>4.889500e+04</td>\n",
       "      <td>4.889500e+04</td>\n",
       "      <td>4.889500e+04</td>\n",
       "      <td>48895.000000</td>\n",
       "      <td>...</td>\n",
       "      <td>48895.000000</td>\n",
       "      <td>48895.000000</td>\n",
       "      <td>48895.000000</td>\n",
       "      <td>48895.000000</td>\n",
       "      <td>48895.000000</td>\n",
       "      <td>48895.000000</td>\n",
       "      <td>48895.000000</td>\n",
       "      <td>48895.000000</td>\n",
       "      <td>48895.000000</td>\n",
       "      <td>48895.000000</td>\n",
       "    </tr>\n",
       "    <tr>\n",
       "      <td>mean</td>\n",
       "      <td>3.949141e-14</td>\n",
       "      <td>1.662286e-13</td>\n",
       "      <td>-5.581769e-16</td>\n",
       "      <td>-7.665145e-16</td>\n",
       "      <td>-2.315687e-14</td>\n",
       "      <td>4.282961e-15</td>\n",
       "      <td>3.545441e-14</td>\n",
       "      <td>1.387977e-14</td>\n",
       "      <td>5.570420e-15</td>\n",
       "      <td>0.022313</td>\n",
       "      <td>...</td>\n",
       "      <td>0.001800</td>\n",
       "      <td>0.000225</td>\n",
       "      <td>0.000020</td>\n",
       "      <td>0.004806</td>\n",
       "      <td>0.469066</td>\n",
       "      <td>0.125637</td>\n",
       "      <td>0.084630</td>\n",
       "      <td>0.053993</td>\n",
       "      <td>0.031087</td>\n",
       "      <td>0.235586</td>\n",
       "    </tr>\n",
       "    <tr>\n",
       "      <td>std</td>\n",
       "      <td>1.000010e+00</td>\n",
       "      <td>1.000010e+00</td>\n",
       "      <td>1.000010e+00</td>\n",
       "      <td>1.000010e+00</td>\n",
       "      <td>1.000010e+00</td>\n",
       "      <td>1.000010e+00</td>\n",
       "      <td>1.000010e+00</td>\n",
       "      <td>1.000010e+00</td>\n",
       "      <td>1.000010e+00</td>\n",
       "      <td>0.147701</td>\n",
       "      <td>...</td>\n",
       "      <td>0.042386</td>\n",
       "      <td>0.014998</td>\n",
       "      <td>0.004522</td>\n",
       "      <td>0.069161</td>\n",
       "      <td>0.499047</td>\n",
       "      <td>0.331443</td>\n",
       "      <td>0.278334</td>\n",
       "      <td>0.226007</td>\n",
       "      <td>0.173555</td>\n",
       "      <td>0.424369</td>\n",
       "    </tr>\n",
       "    <tr>\n",
       "      <td>min</td>\n",
       "      <td>-4.202474e+00</td>\n",
       "      <td>-6.331760e+00</td>\n",
       "      <td>-6.359342e-01</td>\n",
       "      <td>-2.939962e-01</td>\n",
       "      <td>-5.224332e-01</td>\n",
       "      <td>-6.829856e-01</td>\n",
       "      <td>-1.864514e-01</td>\n",
       "      <td>-8.568646e-01</td>\n",
       "      <td>-7.194688e-01</td>\n",
       "      <td>0.000000</td>\n",
       "      <td>...</td>\n",
       "      <td>0.000000</td>\n",
       "      <td>0.000000</td>\n",
       "      <td>0.000000</td>\n",
       "      <td>0.000000</td>\n",
       "      <td>0.000000</td>\n",
       "      <td>0.000000</td>\n",
       "      <td>0.000000</td>\n",
       "      <td>0.000000</td>\n",
       "      <td>0.000000</td>\n",
       "      <td>0.000000</td>\n",
       "    </tr>\n",
       "    <tr>\n",
       "      <td>25%</td>\n",
       "      <td>-7.124376e-01</td>\n",
       "      <td>-6.694733e-01</td>\n",
       "      <td>-3.486158e-01</td>\n",
       "      <td>-2.939962e-01</td>\n",
       "      <td>-4.999866e-01</td>\n",
       "      <td>-6.579428e-01</td>\n",
       "      <td>-1.864514e-01</td>\n",
       "      <td>-8.568646e-01</td>\n",
       "      <td>-7.032276e-01</td>\n",
       "      <td>0.000000</td>\n",
       "      <td>...</td>\n",
       "      <td>0.000000</td>\n",
       "      <td>0.000000</td>\n",
       "      <td>0.000000</td>\n",
       "      <td>0.000000</td>\n",
       "      <td>0.000000</td>\n",
       "      <td>0.000000</td>\n",
       "      <td>0.000000</td>\n",
       "      <td>0.000000</td>\n",
       "      <td>0.000000</td>\n",
       "      <td>0.000000</td>\n",
       "    </tr>\n",
       "    <tr>\n",
       "      <td>50%</td>\n",
       "      <td>-1.078110e-01</td>\n",
       "      <td>-7.605436e-02</td>\n",
       "      <td>-1.945465e-01</td>\n",
       "      <td>-1.964844e-01</td>\n",
       "      <td>-4.102001e-01</td>\n",
       "      <td>-4.513398e-01</td>\n",
       "      <td>-1.864514e-01</td>\n",
       "      <td>-5.149737e-01</td>\n",
       "      <td>-5.604755e-01</td>\n",
       "      <td>0.000000</td>\n",
       "      <td>...</td>\n",
       "      <td>0.000000</td>\n",
       "      <td>0.000000</td>\n",
       "      <td>0.000000</td>\n",
       "      <td>0.000000</td>\n",
       "      <td>0.000000</td>\n",
       "      <td>0.000000</td>\n",
       "      <td>0.000000</td>\n",
       "      <td>0.000000</td>\n",
       "      <td>0.000000</td>\n",
       "      <td>0.000000</td>\n",
       "    </tr>\n",
       "    <tr>\n",
       "      <td>75%</td>\n",
       "      <td>6.265619e-01</td>\n",
       "      <td>3.443653e-01</td>\n",
       "      <td>9.277183e-02</td>\n",
       "      <td>-9.897262e-02</td>\n",
       "      <td>1.628580e-02</td>\n",
       "      <td>3.062045e-01</td>\n",
       "      <td>-1.561044e-01</td>\n",
       "      <td>8.677849e-01</td>\n",
       "      <td>3.071491e-01</td>\n",
       "      <td>0.000000</td>\n",
       "      <td>...</td>\n",
       "      <td>0.000000</td>\n",
       "      <td>0.000000</td>\n",
       "      <td>0.000000</td>\n",
       "      <td>0.000000</td>\n",
       "      <td>1.000000</td>\n",
       "      <td>0.000000</td>\n",
       "      <td>0.000000</td>\n",
       "      <td>0.000000</td>\n",
       "      <td>0.000000</td>\n",
       "      <td>0.000000</td>\n",
       "    </tr>\n",
       "    <tr>\n",
       "      <td>max</td>\n",
       "      <td>3.376357e+00</td>\n",
       "      <td>5.181954e+00</td>\n",
       "      <td>4.100441e+01</td>\n",
       "      <td>6.060212e+01</td>\n",
       "      <td>1.359649e+01</td>\n",
       "      <td>3.594209e+01</td>\n",
       "      <td>9.706672e+00</td>\n",
       "      <td>1.916250e+00</td>\n",
       "      <td>1.865454e+00</td>\n",
       "      <td>1.000000</td>\n",
       "      <td>...</td>\n",
       "      <td>1.000000</td>\n",
       "      <td>1.000000</td>\n",
       "      <td>1.000000</td>\n",
       "      <td>1.000000</td>\n",
       "      <td>1.000000</td>\n",
       "      <td>1.000000</td>\n",
       "      <td>1.000000</td>\n",
       "      <td>1.000000</td>\n",
       "      <td>1.000000</td>\n",
       "      <td>1.000000</td>\n",
       "    </tr>\n",
       "  </tbody>\n",
       "</table>\n",
       "<p>8 rows × 241 columns</p>\n",
       "</div>"
      ],
      "text/plain": [
       "           latitude     longitude         price  minimum_nights  \\\n",
       "count  4.889500e+04  4.889500e+04  4.889500e+04    4.889500e+04   \n",
       "mean   3.949141e-14  1.662286e-13 -5.581769e-16   -7.665145e-16   \n",
       "std    1.000010e+00  1.000010e+00  1.000010e+00    1.000010e+00   \n",
       "min   -4.202474e+00 -6.331760e+00 -6.359342e-01   -2.939962e-01   \n",
       "25%   -7.124376e-01 -6.694733e-01 -3.486158e-01   -2.939962e-01   \n",
       "50%   -1.078110e-01 -7.605436e-02 -1.945465e-01   -1.964844e-01   \n",
       "75%    6.265619e-01  3.443653e-01  9.277183e-02   -9.897262e-02   \n",
       "max    3.376357e+00  5.181954e+00  4.100441e+01    6.060212e+01   \n",
       "\n",
       "       number_of_reviews  reviews_per_month  calculated_host_listings_count  \\\n",
       "count       4.889500e+04       4.889500e+04                    4.889500e+04   \n",
       "mean       -2.315687e-14       4.282961e-15                    3.545441e-14   \n",
       "std         1.000010e+00       1.000010e+00                    1.000010e+00   \n",
       "min        -5.224332e-01      -6.829856e-01                   -1.864514e-01   \n",
       "25%        -4.999866e-01      -6.579428e-01                   -1.864514e-01   \n",
       "50%        -4.102001e-01      -4.513398e-01                   -1.864514e-01   \n",
       "75%         1.628580e-02       3.062045e-01                   -1.561044e-01   \n",
       "max         1.359649e+01       3.594209e+01                    9.706672e+00   \n",
       "\n",
       "       availability_365  days_since_last_review  neighbourhood_group_Bronx  \\\n",
       "count      4.889500e+04            4.889500e+04               48895.000000   \n",
       "mean       1.387977e-14            5.570420e-15                   0.022313   \n",
       "std        1.000010e+00            1.000010e+00                   0.147701   \n",
       "min       -8.568646e-01           -7.194688e-01                   0.000000   \n",
       "25%       -8.568646e-01           -7.032276e-01                   0.000000   \n",
       "50%       -5.149737e-01           -5.604755e-01                   0.000000   \n",
       "75%        8.677849e-01            3.071491e-01                   0.000000   \n",
       "max        1.916250e+00            1.865454e+00                   1.000000   \n",
       "\n",
       "       ...  neighbourhood_Woodhaven  neighbourhood_Woodlawn  \\\n",
       "count  ...             48895.000000            48895.000000   \n",
       "mean   ...                 0.001800                0.000225   \n",
       "std    ...                 0.042386                0.014998   \n",
       "min    ...                 0.000000                0.000000   \n",
       "25%    ...                 0.000000                0.000000   \n",
       "50%    ...                 0.000000                0.000000   \n",
       "75%    ...                 0.000000                0.000000   \n",
       "max    ...                 1.000000                1.000000   \n",
       "\n",
       "       neighbourhood_Woodrow  neighbourhood_Woodside  \\\n",
       "count           48895.000000            48895.000000   \n",
       "mean                0.000020                0.004806   \n",
       "std                 0.004522                0.069161   \n",
       "min                 0.000000                0.000000   \n",
       "25%                 0.000000                0.000000   \n",
       "50%                 0.000000                0.000000   \n",
       "75%                 0.000000                0.000000   \n",
       "max                 1.000000                1.000000   \n",
       "\n",
       "       reviews_per_month_cut_Less Than One  reviews_per_month_cut_Less Than 2  \\\n",
       "count                         48895.000000                       48895.000000   \n",
       "mean                              0.469066                           0.125637   \n",
       "std                               0.499047                           0.331443   \n",
       "min                               0.000000                           0.000000   \n",
       "25%                               0.000000                           0.000000   \n",
       "50%                               0.000000                           0.000000   \n",
       "75%                               1.000000                           0.000000   \n",
       "max                               1.000000                           1.000000   \n",
       "\n",
       "       reviews_per_month_cut_Less Than Three  \\\n",
       "count                           48895.000000   \n",
       "mean                                0.084630   \n",
       "std                                 0.278334   \n",
       "min                                 0.000000   \n",
       "25%                                 0.000000   \n",
       "50%                                 0.000000   \n",
       "75%                                 0.000000   \n",
       "max                                 1.000000   \n",
       "\n",
       "       reviews_per_month_cut_Less Than Four  \\\n",
       "count                          48895.000000   \n",
       "mean                               0.053993   \n",
       "std                                0.226007   \n",
       "min                                0.000000   \n",
       "25%                                0.000000   \n",
       "50%                                0.000000   \n",
       "75%                                0.000000   \n",
       "max                                1.000000   \n",
       "\n",
       "       reviews_per_month_cut_Less Than Five  \\\n",
       "count                          48895.000000   \n",
       "mean                               0.031087   \n",
       "std                                0.173555   \n",
       "min                                0.000000   \n",
       "25%                                0.000000   \n",
       "50%                                0.000000   \n",
       "75%                                0.000000   \n",
       "max                                1.000000   \n",
       "\n",
       "       reviews_per_month_cut_Greater Than Five  \n",
       "count                             48895.000000  \n",
       "mean                                  0.235586  \n",
       "std                                   0.424369  \n",
       "min                                   0.000000  \n",
       "25%                                   0.000000  \n",
       "50%                                   0.000000  \n",
       "75%                                   0.000000  \n",
       "max                                   1.000000  \n",
       "\n",
       "[8 rows x 241 columns]"
      ]
     },
     "execution_count": 9,
     "metadata": {},
     "output_type": "execute_result"
    }
   ],
   "source": [
    "data_final = data\n",
    "#OH encode \n",
    "label_encode = [x for x, y in dict(data_final.dtypes).items() if type(y) == pd.CategoricalDtype]\n",
    "for var in label_encode:\n",
    "    #impute to Mode\n",
    "    print(f\"{var} was OHE'd\")\n",
    "    data_final[var].fillna(data_final[var].mode()[0], inplace=True)\n",
    "    cat_list = f'var_{var}'\n",
    "    cat_list = pd.get_dummies(data[var], prefix=var)\n",
    "    data_new = data_final.join(cat_list)\n",
    "    data_final = data_new\n",
    "\n",
    "normalize =  [x for x, y in dict(data_final.dtypes).items() if y == np.float64]\n",
    "for col in normalize:\n",
    "        #change impution scheme?\n",
    "        print(f\"{col} was Standard Scaled\")\n",
    "        data_final[col].fillna(data_final[col].median(), inplace=True)\n",
    "        normalizer = StandardScaler()\n",
    "        ar = data_final[col].to_numpy().reshape(-1, 1)\n",
    "        normalizer.fit(ar)\n",
    "        data_final.loc[:,col] = normalizer.transform(ar)\n",
    "\n",
    "data_final.drop(columns=label_encode, inplace=True)\n",
    "#data.fillna(0, inplace=True)\n",
    "data_final.describe()"
   ]
  },
  {
   "cell_type": "code",
   "execution_count": 10,
   "metadata": {},
   "outputs": [
    {
     "data": {
      "text/html": [
       "<div>\n",
       "<style scoped>\n",
       "    .dataframe tbody tr th:only-of-type {\n",
       "        vertical-align: middle;\n",
       "    }\n",
       "\n",
       "    .dataframe tbody tr th {\n",
       "        vertical-align: top;\n",
       "    }\n",
       "\n",
       "    .dataframe thead th {\n",
       "        text-align: right;\n",
       "    }\n",
       "</style>\n",
       "<table border=\"1\" class=\"dataframe\">\n",
       "  <thead>\n",
       "    <tr style=\"text-align: right;\">\n",
       "      <th></th>\n",
       "      <th>neighbourhood_group</th>\n",
       "      <th>neighbourhood</th>\n",
       "      <th>latitude</th>\n",
       "      <th>longitude</th>\n",
       "      <th>room_type</th>\n",
       "      <th>price</th>\n",
       "      <th>minimum_nights</th>\n",
       "      <th>number_of_reviews</th>\n",
       "      <th>last_review</th>\n",
       "      <th>reviews_per_month</th>\n",
       "      <th>calculated_host_listings_count</th>\n",
       "      <th>availability_365</th>\n",
       "      <th>reviews_per_month_cut</th>\n",
       "      <th>days_since_last_review</th>\n",
       "    </tr>\n",
       "  </thead>\n",
       "  <tbody>\n",
       "    <tr>\n",
       "      <td>23161</td>\n",
       "      <td>Brooklyn</td>\n",
       "      <td>Bedford-Stuyvesant</td>\n",
       "      <td>40.69023</td>\n",
       "      <td>-73.95428</td>\n",
       "      <td>Private room</td>\n",
       "      <td>0.0</td>\n",
       "      <td>4.0</td>\n",
       "      <td>1.0</td>\n",
       "      <td>2018-01-06</td>\n",
       "      <td>0.05</td>\n",
       "      <td>4.0</td>\n",
       "      <td>28.0</td>\n",
       "      <td>Less Than One</td>\n",
       "      <td>725.0</td>\n",
       "    </tr>\n",
       "    <tr>\n",
       "      <td>25433</td>\n",
       "      <td>Bronx</td>\n",
       "      <td>East Morrisania</td>\n",
       "      <td>40.83296</td>\n",
       "      <td>-73.88668</td>\n",
       "      <td>Private room</td>\n",
       "      <td>0.0</td>\n",
       "      <td>2.0</td>\n",
       "      <td>55.0</td>\n",
       "      <td>2019-06-24</td>\n",
       "      <td>2.56</td>\n",
       "      <td>4.0</td>\n",
       "      <td>127.0</td>\n",
       "      <td>Less Than Three</td>\n",
       "      <td>191.0</td>\n",
       "    </tr>\n",
       "    <tr>\n",
       "      <td>25634</td>\n",
       "      <td>Brooklyn</td>\n",
       "      <td>Bushwick</td>\n",
       "      <td>40.69467</td>\n",
       "      <td>-73.92433</td>\n",
       "      <td>Private room</td>\n",
       "      <td>0.0</td>\n",
       "      <td>2.0</td>\n",
       "      <td>16.0</td>\n",
       "      <td>2019-05-18</td>\n",
       "      <td>0.71</td>\n",
       "      <td>5.0</td>\n",
       "      <td>0.0</td>\n",
       "      <td>Less Than One</td>\n",
       "      <td>228.0</td>\n",
       "    </tr>\n",
       "    <tr>\n",
       "      <td>25753</td>\n",
       "      <td>Brooklyn</td>\n",
       "      <td>Greenpoint</td>\n",
       "      <td>40.72462</td>\n",
       "      <td>-73.94072</td>\n",
       "      <td>Private room</td>\n",
       "      <td>0.0</td>\n",
       "      <td>2.0</td>\n",
       "      <td>12.0</td>\n",
       "      <td>2017-10-27</td>\n",
       "      <td>0.53</td>\n",
       "      <td>2.0</td>\n",
       "      <td>0.0</td>\n",
       "      <td>Less Than One</td>\n",
       "      <td>796.0</td>\n",
       "    </tr>\n",
       "    <tr>\n",
       "      <td>25778</td>\n",
       "      <td>Brooklyn</td>\n",
       "      <td>Williamsburg</td>\n",
       "      <td>40.70838</td>\n",
       "      <td>-73.94645</td>\n",
       "      <td>Entire home/apt</td>\n",
       "      <td>0.0</td>\n",
       "      <td>5.0</td>\n",
       "      <td>3.0</td>\n",
       "      <td>2018-01-02</td>\n",
       "      <td>0.15</td>\n",
       "      <td>1.0</td>\n",
       "      <td>73.0</td>\n",
       "      <td>Less Than One</td>\n",
       "      <td>729.0</td>\n",
       "    </tr>\n",
       "    <tr>\n",
       "      <td>25794</td>\n",
       "      <td>Brooklyn</td>\n",
       "      <td>Bedford-Stuyvesant</td>\n",
       "      <td>40.68173</td>\n",
       "      <td>-73.91342</td>\n",
       "      <td>Private room</td>\n",
       "      <td>0.0</td>\n",
       "      <td>1.0</td>\n",
       "      <td>93.0</td>\n",
       "      <td>2019-06-15</td>\n",
       "      <td>4.28</td>\n",
       "      <td>6.0</td>\n",
       "      <td>176.0</td>\n",
       "      <td>Less Than Five</td>\n",
       "      <td>200.0</td>\n",
       "    </tr>\n",
       "    <tr>\n",
       "      <td>25795</td>\n",
       "      <td>Brooklyn</td>\n",
       "      <td>Bedford-Stuyvesant</td>\n",
       "      <td>40.68279</td>\n",
       "      <td>-73.91170</td>\n",
       "      <td>Private room</td>\n",
       "      <td>0.0</td>\n",
       "      <td>1.0</td>\n",
       "      <td>95.0</td>\n",
       "      <td>2019-06-21</td>\n",
       "      <td>4.37</td>\n",
       "      <td>6.0</td>\n",
       "      <td>232.0</td>\n",
       "      <td>Less Than Five</td>\n",
       "      <td>194.0</td>\n",
       "    </tr>\n",
       "    <tr>\n",
       "      <td>25796</td>\n",
       "      <td>Brooklyn</td>\n",
       "      <td>Bedford-Stuyvesant</td>\n",
       "      <td>40.68258</td>\n",
       "      <td>-73.91284</td>\n",
       "      <td>Private room</td>\n",
       "      <td>0.0</td>\n",
       "      <td>1.0</td>\n",
       "      <td>95.0</td>\n",
       "      <td>2019-06-23</td>\n",
       "      <td>4.35</td>\n",
       "      <td>6.0</td>\n",
       "      <td>222.0</td>\n",
       "      <td>Less Than Five</td>\n",
       "      <td>192.0</td>\n",
       "    </tr>\n",
       "    <tr>\n",
       "      <td>26259</td>\n",
       "      <td>Manhattan</td>\n",
       "      <td>Murray Hill</td>\n",
       "      <td>40.75091</td>\n",
       "      <td>-73.97597</td>\n",
       "      <td>Entire home/apt</td>\n",
       "      <td>0.0</td>\n",
       "      <td>3.0</td>\n",
       "      <td>0.0</td>\n",
       "      <td>NaT</td>\n",
       "      <td>0.00</td>\n",
       "      <td>1.0</td>\n",
       "      <td>0.0</td>\n",
       "      <td>Greater Than Five</td>\n",
       "      <td>3201.0</td>\n",
       "    </tr>\n",
       "    <tr>\n",
       "      <td>26841</td>\n",
       "      <td>Brooklyn</td>\n",
       "      <td>Bushwick</td>\n",
       "      <td>40.69211</td>\n",
       "      <td>-73.90670</td>\n",
       "      <td>Shared room</td>\n",
       "      <td>0.0</td>\n",
       "      <td>30.0</td>\n",
       "      <td>2.0</td>\n",
       "      <td>2019-06-22</td>\n",
       "      <td>0.11</td>\n",
       "      <td>6.0</td>\n",
       "      <td>333.0</td>\n",
       "      <td>Less Than One</td>\n",
       "      <td>193.0</td>\n",
       "    </tr>\n",
       "    <tr>\n",
       "      <td>26866</td>\n",
       "      <td>Brooklyn</td>\n",
       "      <td>Bushwick</td>\n",
       "      <td>40.69166</td>\n",
       "      <td>-73.90928</td>\n",
       "      <td>Shared room</td>\n",
       "      <td>0.0</td>\n",
       "      <td>30.0</td>\n",
       "      <td>5.0</td>\n",
       "      <td>2019-05-24</td>\n",
       "      <td>0.26</td>\n",
       "      <td>6.0</td>\n",
       "      <td>139.0</td>\n",
       "      <td>Less Than One</td>\n",
       "      <td>222.0</td>\n",
       "    </tr>\n",
       "  </tbody>\n",
       "</table>\n",
       "</div>"
      ],
      "text/plain": [
       "      neighbourhood_group       neighbourhood  latitude  longitude  \\\n",
       "23161            Brooklyn  Bedford-Stuyvesant  40.69023  -73.95428   \n",
       "25433               Bronx     East Morrisania  40.83296  -73.88668   \n",
       "25634            Brooklyn            Bushwick  40.69467  -73.92433   \n",
       "25753            Brooklyn          Greenpoint  40.72462  -73.94072   \n",
       "25778            Brooklyn        Williamsburg  40.70838  -73.94645   \n",
       "25794            Brooklyn  Bedford-Stuyvesant  40.68173  -73.91342   \n",
       "25795            Brooklyn  Bedford-Stuyvesant  40.68279  -73.91170   \n",
       "25796            Brooklyn  Bedford-Stuyvesant  40.68258  -73.91284   \n",
       "26259           Manhattan         Murray Hill  40.75091  -73.97597   \n",
       "26841            Brooklyn            Bushwick  40.69211  -73.90670   \n",
       "26866            Brooklyn            Bushwick  40.69166  -73.90928   \n",
       "\n",
       "             room_type  price  minimum_nights  number_of_reviews last_review  \\\n",
       "23161     Private room    0.0             4.0                1.0  2018-01-06   \n",
       "25433     Private room    0.0             2.0               55.0  2019-06-24   \n",
       "25634     Private room    0.0             2.0               16.0  2019-05-18   \n",
       "25753     Private room    0.0             2.0               12.0  2017-10-27   \n",
       "25778  Entire home/apt    0.0             5.0                3.0  2018-01-02   \n",
       "25794     Private room    0.0             1.0               93.0  2019-06-15   \n",
       "25795     Private room    0.0             1.0               95.0  2019-06-21   \n",
       "25796     Private room    0.0             1.0               95.0  2019-06-23   \n",
       "26259  Entire home/apt    0.0             3.0                0.0         NaT   \n",
       "26841      Shared room    0.0            30.0                2.0  2019-06-22   \n",
       "26866      Shared room    0.0            30.0                5.0  2019-05-24   \n",
       "\n",
       "       reviews_per_month  calculated_host_listings_count  availability_365  \\\n",
       "23161               0.05                             4.0              28.0   \n",
       "25433               2.56                             4.0             127.0   \n",
       "25634               0.71                             5.0               0.0   \n",
       "25753               0.53                             2.0               0.0   \n",
       "25778               0.15                             1.0              73.0   \n",
       "25794               4.28                             6.0             176.0   \n",
       "25795               4.37                             6.0             232.0   \n",
       "25796               4.35                             6.0             222.0   \n",
       "26259               0.00                             1.0               0.0   \n",
       "26841               0.11                             6.0             333.0   \n",
       "26866               0.26                             6.0             139.0   \n",
       "\n",
       "      reviews_per_month_cut  days_since_last_review  \n",
       "23161         Less Than One                   725.0  \n",
       "25433       Less Than Three                   191.0  \n",
       "25634         Less Than One                   228.0  \n",
       "25753         Less Than One                   796.0  \n",
       "25778         Less Than One                   729.0  \n",
       "25794        Less Than Five                   200.0  \n",
       "25795        Less Than Five                   194.0  \n",
       "25796        Less Than Five                   192.0  \n",
       "26259     Greater Than Five                  3201.0  \n",
       "26841         Less Than One                   193.0  \n",
       "26866         Less Than One                   222.0  "
      ]
     },
     "execution_count": 10,
     "metadata": {},
     "output_type": "execute_result"
    }
   ],
   "source": [
    "data[data.price<=0]"
   ]
  },
  {
   "cell_type": "markdown",
   "metadata": {},
   "source": [
    "As the dataset indicaes those apartment has recieved guests there are some cases where the price is 0. In other case sample 26259 has not yet been rentead. "
   ]
  },
  {
   "cell_type": "code",
   "execution_count": 11,
   "metadata": {},
   "outputs": [
    {
     "data": {
      "text/plain": [
       "dtype('float64')"
      ]
     },
     "execution_count": 11,
     "metadata": {},
     "output_type": "execute_result"
    }
   ],
   "source": [
    "data_final.dtypes['availability_365']"
   ]
  },
  {
   "cell_type": "code",
   "execution_count": 12,
   "metadata": {},
   "outputs": [
    {
     "data": {
      "text/plain": [
       "Text(0.5, 0, 'neighbourhood group')"
      ]
     },
     "execution_count": 12,
     "metadata": {},
     "output_type": "execute_result"
    },
    {
     "data": {
      "image/png": "[encoded data removed]",
      "text/plain": [
       "<Figure size 432x288 with 1 Axes>"
      ]
     },
     "metadata": {
      "needs_background": "light"
     },
     "output_type": "display_data"
    }
   ],
   "source": [
    "#visualize the categorical values for the neighbourhood_group\n",
    "plt.figure(figsize=(6,4))\n",
    "count_neigh = data.neighbourhood_group.value_counts()\n",
    "(count_neigh/data.shape[0]).plot(kind='bar');\n",
    "plt.title('Percent of neighbourhood group', fontsize = 15)\n",
    "plt.ylabel('percent', fontsize = 15)\n",
    "plt.xlabel('neighbourhood group', fontsize = 15)"
   ]
  },
  {
   "cell_type": "code",
   "execution_count": 13,
   "metadata": {},
   "outputs": [
    {
     "data": {
      "text/plain": [
       "Text(0, 0.5, 'the percent of every room type')"
      ]
     },
     "execution_count": 13,
     "metadata": {},
     "output_type": "execute_result"
    },
    {
     "data": {
      "image/png": "[encoded data removed]",
      "text/plain": [
       "<Figure size 432x288 with 1 Axes>"
      ]
     },
     "metadata": {
      "needs_background": "light"
     },
     "output_type": "display_data"
    }
   ],
   "source": [
    "#visualize the categorical values for the room_type\n",
    "count_room = data.room_type.value_counts()\n",
    "(count_room/data.shape[0]).plot(kind='bar');\n",
    "plt.title('room_type')\n",
    "plt.ylabel('the percent of every room type')"
   ]
  },
  {
   "cell_type": "code",
   "execution_count": 50,
   "metadata": {},
   "outputs": [
    {
     "data": {
      "image/png": "[encoded data removed]",
      "text/plain": [
       "<Figure size 360x360 with 1 Axes>"
      ]
     },
     "metadata": {},
     "output_type": "display_data"
    }
   ],
   "source": [
    "#catplot room type and price\n",
    "sns.catplot(x=\"room_type\", y=\"price\", data=data);"
   ]
  },
  {
   "cell_type": "code",
   "execution_count": 14,
   "metadata": {},
   "outputs": [
    {
     "data": {
      "image/png": "[encoded data removed]",
      "text/plain": [
       "<Figure size 720x720 with 1 Axes>"
      ]
     },
     "metadata": {
      "needs_background": "light"
     },
     "output_type": "display_data"
    }
   ],
   "source": [
    "# create countplot roomtype and neighbourhood type\n",
    "plt.figure(figsize=(10,10))\n",
    "data = sns.countplot(data['room_type'],hue=data['neighbourhood_group'], palette='plasma')"
   ]
  },
  {
   "cell_type": "markdown",
   "metadata": {},
   "source": [
    "### Relation between Attributes"
   ]
  },
  {
   "cell_type": "code",
   "execution_count": 21,
   "metadata": {},
   "outputs": [
    {
     "ename": "AttributeError",
     "evalue": "'AxesSubplot' object has no attribute 'groupby'",
     "output_type": "error",
     "traceback": [
      "\u001b[1;31m---------------------------------------------------------------------------\u001b[0m",
      "\u001b[1;31mAttributeError\u001b[0m                            Traceback (most recent call last)",
      "\u001b[1;32m<ipython-input-21-f9e34ff38212>\u001b[0m in \u001b[0;36m<module>\u001b[1;34m\u001b[0m\n\u001b[1;32m----> 1\u001b[1;33m \u001b[0mdata\u001b[0m\u001b[1;33m.\u001b[0m\u001b[0mgroupby\u001b[0m\u001b[1;33m(\u001b[0m\u001b[1;33m[\u001b[0m\u001b[1;34m'neighbourhood_group'\u001b[0m\u001b[1;33m,\u001b[0m \u001b[1;34m'neighbourhood'\u001b[0m\u001b[1;33m]\u001b[0m\u001b[1;33m)\u001b[0m\u001b[1;33m[\u001b[0m\u001b[1;34m'price'\u001b[0m\u001b[1;33m]\u001b[0m\u001b[1;33m.\u001b[0m\u001b[0mmean\u001b[0m\u001b[1;33m(\u001b[0m\u001b[1;33m)\u001b[0m\u001b[1;33m\u001b[0m\u001b[1;33m\u001b[0m\u001b[0m\n\u001b[0m",
      "\u001b[1;31mAttributeError\u001b[0m: 'AxesSubplot' object has no attribute 'groupby'"
     ]
    }
   ],
   "source": [
    "data.groupby(['neighbourhood_group', 'neighbourhood'])['price'].mean()"
   ]
  },
  {
   "cell_type": "code",
   "execution_count": null,
   "metadata": {},
   "outputs": [],
   "source": []
  },
  {
   "cell_type": "code",
   "execution_count": 34,
   "metadata": {},
   "outputs": [
    {
     "data": {
      "text/plain": [
       "Text(0.5, 1.0, 'Price with regard to Neighboorhood_group')"
      ]
     },
     "execution_count": 34,
     "metadata": {},
     "output_type": "execute_result"
    },
    {
     "data": {
      "image/png": "[encoded data removed]",
      "text/plain": [
       "<Figure size 432x288 with 1 Axes>"
      ]
     },
     "metadata": {
      "needs_background": "light"
     },
     "output_type": "display_data"
    }
   ],
   "source": [
    "plt.scatter(data.price, data.neighbourhood_group)\n",
    "plt.title (\"Price with regard to Neighboorhood_group\")\n",
    "\n",
    "plt.scatter(data.price, data.room_type)\n",
    "plt.title (\"Price with regard to Neighboorhood_group\")"
   ]
  },
  {
   "cell_type": "code",
   "execution_count": null,
   "metadata": {},
   "outputs": [],
   "source": []
  },
  {
   "cell_type": "code",
   "execution_count": 45,
   "metadata": {},
   "outputs": [],
   "source": [
    "def plot_property(data,title):\n",
    "    all_properties=data['property_type'].tolist()\n",
    "    fdist = FreqDist(all_properties)\n",
    "    prop = pd.DataFrame({'Property': list(fdist.keys()),'Count': list(fdist.values())})\n",
    "    prop = prop.nlargest(columns=\"Count\", n = 10)\n",
    "    \n",
    "    plt.style.use('ggplot')\n",
    "    plt.rcParams['figure.figsize']=(20,6)\n",
    "    plt.style.use(style='ggplot')\n",
    "    prop.plot(x='Property',y='Count',kind='bar',color='red')\n",
    "    plt.ylabel('Frequency',fontsize=25,color='blue')\n",
    "    #plt.xlabel('Amenity',fontsize=25,color='blue')\n",
    "    plt.title(title,fontsize=25,color='blue')\n",
    "    #plt.xlabel('Amenity',fontsize=12)\n",
    "    plt.tick_params(labelsize=20)\n",
    "    plt.xticks(rotation='vertical')\n",
    "    plt.legend(fontsize=22)\n",
    "    plt.show()"
   ]
  },
  {
   "cell_type": "code",
   "execution_count": 46,
   "metadata": {},
   "outputs": [],
   "source": [
    "def plot_price_wrt_room_type(data,title):\n",
    "    data2 = data.pivot(columns='room_type',values='price')\n",
    "    x1=list(data2[data2.columns[0]])\n",
    "    x2=list(data2[data2.columns[1]])\n",
    "    x3=list(data2[data2.columns[2]])\n",
    "\n",
    "    plt.rc('legend',**{'fontsize':25})\n",
    "    #plt.legend(fontsize=20)\n",
    "    plt.rcParams['figure.figsize']=(15,8)\n",
    "    plt.style.use(style='ggplot')\n",
    "    plt.tick_params(labelsize=25)\n",
    "    plt.ylabel(\"Count\",fontsize=25,color='blue')\n",
    "    plt.xlabel(\"Price\",fontsize=25,color='blue')\n",
    "    plt.title(title,fontsize=25,color='blue')\n",
    "    #plt.legend(prop={'size': 10}) \n",
    "    plt.tick_params(labelsize=25)\n",
    "    n_bins=12\n",
    "    colors = ['yellow', 'red', 'green']\n",
    "    labels=[data2.columns[0],data2.columns[1],data2.columns[2]]\n",
    "    plt.hist([x1, x2, x3], n_bins, histtype='bar', \n",
    "             color=colors, range=[0,400],label=labels,alpha=1)\n",
    "         \n",
    "    plt.legend(loc=\"upper right\")\n",
    "    plt.show()"
   ]
  },
  {
   "cell_type": "code",
   "execution_count": 47,
   "metadata": {},
   "outputs": [
    {
     "data": {
      "image/png": "[encoded data removed]",
      "text/plain": [
       "<Figure size 1080x576 with 1 Axes>"
      ]
     },
     "metadata": {},
     "output_type": "display_data"
    }
   ],
   "source": [
    "#df=listings\n",
    "title='Price distribution with respect to room type'\n",
    "plot_price_wrt_room_type(data,title)"
   ]
  },
  {
   "cell_type": "code",
   "execution_count": 49,
   "metadata": {},
   "outputs": [
    {
     "ename": "AttributeError",
     "evalue": "module 'pandas' has no attribute 'scatter_matrix'",
     "output_type": "error",
     "traceback": [
      "\u001b[1;31m---------------------------------------------------------------------------\u001b[0m",
      "\u001b[1;31mAttributeError\u001b[0m                            Traceback (most recent call last)",
      "\u001b[1;32m<ipython-input-49-75743c25521b>\u001b[0m in \u001b[0;36m<module>\u001b[1;34m\u001b[0m\n\u001b[0;32m      2\u001b[0m matrix_cols = [ 'minimum_nights', 'availability_365', 'latitude', 'longitude'\n\u001b[0;32m      3\u001b[0m                , 'number_of_reviews', 'price' ]\n\u001b[1;32m----> 4\u001b[1;33m \u001b[0maxs\u001b[0m \u001b[1;33m=\u001b[0m \u001b[0mpd\u001b[0m\u001b[1;33m.\u001b[0m\u001b[0mscatter_matrix\u001b[0m\u001b[1;33m(\u001b[0m\u001b[0mdata\u001b[0m\u001b[1;33m[\u001b[0m\u001b[0mmatrix_cols\u001b[0m\u001b[1;33m]\u001b[0m\u001b[1;33m,\u001b[0m \u001b[0mfigsize\u001b[0m\u001b[1;33m=\u001b[0m\u001b[1;33m(\u001b[0m\u001b[1;36m20\u001b[0m\u001b[1;33m,\u001b[0m \u001b[1;36m20\u001b[0m\u001b[1;33m)\u001b[0m\u001b[1;33m,\u001b[0m \u001b[0mc\u001b[0m\u001b[1;33m=\u001b[0m\u001b[1;34m'red'\u001b[0m\u001b[1;33m)\u001b[0m\u001b[1;33m\u001b[0m\u001b[1;33m\u001b[0m\u001b[0m\n\u001b[0m",
      "\u001b[1;32m~\\Anaconda3\\lib\\site-packages\\pandas\\__init__.py\u001b[0m in \u001b[0;36m__getattr__\u001b[1;34m(name)\u001b[0m\n\u001b[0;32m    212\u001b[0m \u001b[1;33m\u001b[0m\u001b[0m\n\u001b[0;32m    213\u001b[0m             \u001b[1;32mreturn\u001b[0m \u001b[0mPanel\u001b[0m\u001b[1;33m\u001b[0m\u001b[1;33m\u001b[0m\u001b[0m\n\u001b[1;32m--> 214\u001b[1;33m         \u001b[1;32mraise\u001b[0m \u001b[0mAttributeError\u001b[0m\u001b[1;33m(\u001b[0m\u001b[1;34m\"module 'pandas' has no attribute '{}'\"\u001b[0m\u001b[1;33m.\u001b[0m\u001b[0mformat\u001b[0m\u001b[1;33m(\u001b[0m\u001b[0mname\u001b[0m\u001b[1;33m)\u001b[0m\u001b[1;33m)\u001b[0m\u001b[1;33m\u001b[0m\u001b[1;33m\u001b[0m\u001b[0m\n\u001b[0m\u001b[0;32m    215\u001b[0m \u001b[1;33m\u001b[0m\u001b[0m\n\u001b[0;32m    216\u001b[0m \u001b[1;33m\u001b[0m\u001b[0m\n",
      "\u001b[1;31mAttributeError\u001b[0m: module 'pandas' has no attribute 'scatter_matrix'"
     ]
    }
   ],
   "source": [
    "# check for collinearity and visualize relationship between each predictor and price\n",
    "matrix_cols = [ 'minimum_nights', 'availability_365', 'latitude', 'longitude'\n",
    "               , 'number_of_reviews', 'price' ]\n",
    "axs = pd.scatter_matrix(data[matrix_cols], figsize=(20, 20), c='red')"
   ]
  },
  {
   "cell_type": "code",
   "execution_count": null,
   "metadata": {},
   "outputs": [],
   "source": []
  },
  {
   "cell_type": "code",
   "execution_count": null,
   "metadata": {},
   "outputs": [],
   "source": []
  },
  {
   "cell_type": "code",
   "execution_count": null,
   "metadata": {},
   "outputs": [],
   "source": []
  },
  {
   "cell_type": "code",
   "execution_count": null,
   "metadata": {},
   "outputs": [],
   "source": []
  },
  {
   "cell_type": "code",
   "execution_count": null,
   "metadata": {},
   "outputs": [],
   "source": []
  },
  {
   "cell_type": "code",
   "execution_count": 22,
   "metadata": {},
   "outputs": [
    {
     "ename": "AttributeError",
     "evalue": "'AxesSubplot' object has no attribute 'groupby'",
     "output_type": "error",
     "traceback": [
      "\u001b[1;31m---------------------------------------------------------------------------\u001b[0m",
      "\u001b[1;31mAttributeError\u001b[0m                            Traceback (most recent call last)",
      "\u001b[1;32m<ipython-input-22-657a871ef6e1>\u001b[0m in \u001b[0;36m<module>\u001b[1;34m\u001b[0m\n\u001b[1;32m----> 1\u001b[1;33m \u001b[0mdata\u001b[0m\u001b[1;33m.\u001b[0m\u001b[0mgroupby\u001b[0m\u001b[1;33m(\u001b[0m\u001b[1;33m[\u001b[0m\u001b[1;34m'neighbourhood_group'\u001b[0m\u001b[1;33m,\u001b[0m \u001b[1;34m'room_type'\u001b[0m\u001b[1;33m]\u001b[0m\u001b[1;33m)\u001b[0m\u001b[1;33m[\u001b[0m\u001b[1;33m[\u001b[0m\u001b[1;34m'price'\u001b[0m\u001b[1;33m]\u001b[0m\u001b[1;33m]\u001b[0m\u001b[1;33m.\u001b[0m\u001b[0mmean\u001b[0m\u001b[1;33m(\u001b[0m\u001b[1;33m)\u001b[0m\u001b[1;33m.\u001b[0m\u001b[0msort_values\u001b[0m\u001b[1;33m(\u001b[0m\u001b[1;33m[\u001b[0m\u001b[1;34m'price'\u001b[0m\u001b[1;33m]\u001b[0m\u001b[1;33m,\u001b[0m \u001b[0mascending\u001b[0m\u001b[1;33m=\u001b[0m\u001b[1;32mFalse\u001b[0m\u001b[1;33m)\u001b[0m\u001b[1;33m\u001b[0m\u001b[1;33m\u001b[0m\u001b[0m\n\u001b[0m",
      "\u001b[1;31mAttributeError\u001b[0m: 'AxesSubplot' object has no attribute 'groupby'"
     ]
    }
   ],
   "source": [
    "data.groupby(['neighbourhood_group', 'room_type'])[['price']].mean().sort_values(['price'], ascending=False)"
   ]
  },
  {
   "cell_type": "code",
   "execution_count": null,
   "metadata": {},
   "outputs": [],
   "source": [
    "data.groupby(\"room_type\")[['price','number_of_reviews']].mean()"
   ]
  },
  {
   "cell_type": "markdown",
   "metadata": {},
   "source": [
    "As the data indicates, entire room or apartments cost is morethan the room and a shared room. In addition the difference in price of shared room and a ivate one is about 20 doolars. "
   ]
  },
  {
   "cell_type": "code",
   "execution_count": null,
   "metadata": {},
   "outputs": [],
   "source": [
    "data.groupby(['neighbourhood_group', 'room_type'])[['price']].mean().sort_values(['price'], ascending=False)"
   ]
  },
  {
   "cell_type": "code",
   "execution_count": null,
   "metadata": {},
   "outputs": [],
   "source": [
    "for gp in set(data['neighbourhood_group']):\n",
    "    print(gp)\n",
    "    print(data[data['neighbourhood_group']==gp][['price','reviews_per_month']].corr())\n",
    "    print()"
   ]
  },
  {
   "cell_type": "code",
   "execution_count": null,
   "metadata": {},
   "outputs": [],
   "source": []
  },
  {
   "cell_type": "code",
   "execution_count": null,
   "metadata": {},
   "outputs": [],
   "source": [
    "#boxplot neighbourhood_group and room availability\n",
    "plt.figure(figsize=(10,10))\n",
    "data = sns.boxplot(data=data, x='neighbourhood_group', y='availability_365',palette='plasma')"
   ]
  },
  {
   "cell_type": "code",
   "execution_count": null,
   "metadata": {},
   "outputs": [],
   "source": []
  },
  {
   "cell_type": "code",
   "execution_count": null,
   "metadata": {},
   "outputs": [],
   "source": [
    "sns.heatmap(data[['latitude','longitude','price','minimum_nights','availability_365','number_of_reviews']].corr(),annot=True)\n",
    "plt.show()"
   ]
  },
  {
   "cell_type": "code",
   "execution_count": null,
   "metadata": {},
   "outputs": [],
   "source": []
  },
  {
   "cell_type": "code",
   "execution_count": null,
   "metadata": {},
   "outputs": [],
   "source": []
  },
  {
   "cell_type": "code",
   "execution_count": null,
   "metadata": {},
   "outputs": [],
   "source": []
  },
  {
   "cell_type": "code",
   "execution_count": null,
   "metadata": {},
   "outputs": [],
   "source": []
  },
  {
   "cell_type": "code",
   "execution_count": null,
   "metadata": {},
   "outputs": [],
   "source": []
  },
  {
   "cell_type": "markdown",
   "metadata": {},
   "source": [
    "# Clean"
   ]
  },
  {
   "cell_type": "code",
   "execution_count": null,
   "metadata": {},
   "outputs": [],
   "source": [
    "# high missing values\n",
    "#last_review                       10052\n",
    "#reviews_per_month                 10052\n"
   ]
  }
 ],
 "metadata": {
  "kernelspec": {
   "display_name": "Python 3",
   "language": "python",
   "name": "python3"
  },
  "language_info": {
   "codemirror_mode": {
    "name": "ipython",
    "version": 3
   },
   "file_extension": ".py",
   "mimetype": "text/x-python",
   "name": "python",
   "nbconvert_exporter": "python",
   "pygments_lexer": "ipython3",
   "version": "3.7.4"
  }
 },
 "nbformat": 4,
 "nbformat_minor": 2
}
